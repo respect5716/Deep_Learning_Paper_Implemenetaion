{
  "nbformat": 4,
  "nbformat_minor": 0,
  "metadata": {
    "colab": {
      "name": "MAML",
      "provenance": [],
      "collapsed_sections": [],
      "toc_visible": true
    },
    "kernelspec": {
      "name": "python3",
      "display_name": "Python 3"
    },
    "accelerator": "GPU"
  },
  "cells": [
    {
      "cell_type": "markdown",
      "metadata": {
        "id": "wzh7yGxNDluC"
      },
      "source": [
        "# MAML"
      ]
    },
    {
      "cell_type": "markdown",
      "metadata": {
        "id": "Iki6sM3EDsjS"
      },
      "source": [
        "## 0. Paper"
      ]
    },
    {
      "cell_type": "markdown",
      "metadata": {
        "id": "subFe3E5DttM"
      },
      "source": [
        "### Info\n",
        "* Title: Model-Agnostic Meta-Learning for Fast Adaptation of Deep Networks\n",
        "* Author: Chelsea Finn\n",
        "* Task: Meta Learning\n",
        "* Link: https://arxiv.org/abs/1703.03400\n",
        "\n",
        "\n",
        "### Features\n",
        "* Dataset: mini-Imagenet, [link](https://drive.google.com/file/d/1HkgrkAwukzEZA0TpO7010PkAOREb2Nuk/view)\n",
        "* Dataset: Omniglot, [link](https://github.com/brendenlake/omniglot)\n",
        "\n",
        "### Reference\n",
        "* https://github.com/dragen1860/MAML-Pytorch\n",
        "* https://github.com/tristandeleu/pytorch-meta\n"
      ]
    },
    {
      "cell_type": "markdown",
      "metadata": {
        "id": "JuaQpOWMD9tz"
      },
      "source": [
        "## 1. Setting"
      ]
    },
    {
      "cell_type": "code",
      "metadata": {
        "id": "ZizQk84lEC3L"
      },
      "source": [
        "# Libraries\n",
        "import os\n",
        "import sys\n",
        "import time\n",
        "from glob import glob\n",
        "from collections import OrderedDict\n",
        "\n",
        "import numpy as np\n",
        "import pandas as pd\n",
        "import seaborn as sns\n",
        "import matplotlib.pyplot as plt\n",
        "from PIL import Image\n",
        "\n",
        "import torch\n",
        "import torch.nn as nn\n",
        "import torch.nn.functional as F\n",
        "import torchvision\n",
        "import torchvision.transforms as transforms\n",
        "from torchsummary import torchsummary"
      ],
      "execution_count": 1,
      "outputs": []
    },
    {
      "cell_type": "code",
      "metadata": {
        "id": "Wsk7XAE2Lz_g"
      },
      "source": [
        "CONFIG = {\n",
        "    'update_lr': 0.01,\n",
        "    'update_step': 5,\n",
        "    'finetune_step': 10,\n",
        "    'meta_lr': 0.01,\n",
        "    'n_way': 5,\n",
        "    'k_shot': 1,\n",
        "    'k_test': 15,\n",
        "    'image_size': 28,\n",
        "    'task_size': 32,\n",
        "    'epoch_size': 100,\n",
        "    'base_dir': '/content/drive/Shared drives/Yoon/Project/Doing/Deep Learning Paper Implementation',\n",
        "}"
      ],
      "execution_count": 2,
      "outputs": []
    },
    {
      "cell_type": "markdown",
      "metadata": {
        "id": "Qd9D_aouEVMB"
      },
      "source": [
        "## 2. Data"
      ]
    },
    {
      "cell_type": "code",
      "metadata": {
        "id": "hzYjD0NkEzIs"
      },
      "source": [
        "class MiniImageNetDataset(torch.utils.data.Dataset):\n",
        "    def __init__(self, root, task_size, n_way, k_shot, k_test, transform=None):\n",
        "        self.task_size = task_size\n",
        "        self.n_way = n_way\n",
        "        self.k_shot = k_shot\n",
        "        self.k_test = k_test\n",
        "        self.transform = transform\n",
        "\n",
        "        self.image_dir = os.path.join(root, 'images')\n",
        "        self.csv = pd.read_csv(os.path.join(root, f'{mode}.csv'))\n",
        "        self.labels = self.csv['label'].unique()\n",
        "        self.image2label = self.csv.set_index('filename')['label'].to_dict()\n",
        "    \n",
        "\n",
        "    def __len__(self):\n",
        "        return 100\n",
        "    \n",
        "    \n",
        "    def __getitem__(self, idx):\n",
        "        train_x, test_x = [], []\n",
        "        selected_labels = np.random.choice(self.labels, self.n_way, replace=False)\n",
        "\n",
        "        for label in selected_labels:\n",
        "            images = self.csv.loc[self.csv['label']==label, 'filename'].sample(self.k_shot + self.k_test).tolist()\n",
        "            train_x += images[:self.k_shot]\n",
        "            test_x += images[self.k_shot:]\n",
        "\n",
        "        np.random.shuffle(train_x)\n",
        "        np.random.shuffle(test_x)\n",
        "\n",
        "        train_y = [self.image2label[i] for i in train_x]\n",
        "        test_y = [self.image2label[i] for i in test_x]\n",
        "        relative_label = np.unique(train_y)\n",
        "        np.random.shuffle(relative_label)\n",
        "        label2idx = {i:idx for idx, i in enumerate(relative_label)}\n",
        "        train_y = torch.LongTensor([label2idx[i] for i in train_y])\n",
        "        test_y = torch.LongTensor([label2idx[i] for i in test_y])\n",
        "\n",
        "        train_x = [os.path.join(self.image_dir, i) for i in train_x]\n",
        "        test_x = [os.path.join(self.image_dir, i) for i in test_x]\n",
        "        train_x = torch.stack([self.transform(x) for x in train_x], dim=0)\n",
        "        test_x = torch.stack([self.transform(x) for x in test_x], dim=0)\n",
        "\n",
        "        return train_x, train_y, test_x, test_y\n",
        "\n",
        "\n",
        "class OmniglotDataset(torch.utils.data.Dataset):\n",
        "    def __init__(self, data, labels, task_size, n_way, k_shot, k_test, transform=None):\n",
        "        self.data = data\n",
        "        self.labels = labels\n",
        "        self.task_size = task_size\n",
        "        self.n_way = n_way\n",
        "        self.k_shot = k_shot\n",
        "        self.k_test = k_test\n",
        "        self.transform = transform\n",
        "        self.image2label = self.data.set_index('file')['label'].to_dict()\n",
        "\n",
        "\n",
        "    def __len__(self):\n",
        "        return 320\n",
        "\n",
        "    @staticmethod\n",
        "    def load(root, task_size, n_way, k_shot, k_test, train_transform=None, test_transform=None):\n",
        "        files = glob(os.path.join(root, '*/*/*/*.png'))\n",
        "        labels = ['/'.join(i.split('/')[4:6]) for i in files]\n",
        "        data = pd.DataFrame({'file':files, 'label':labels})\n",
        "\n",
        "        unique_labels = data['label'].unique()\n",
        "        random_idx = np.random.permutation(len(unique_labels))\n",
        "        train_labels = unique_labels[random_idx[:1200]]\n",
        "        test_labels = unique_labels[random_idx[1200:]]\n",
        "\n",
        "        return OmniglotDataset(data, train_labels, task_size, n_way, k_shot, k_test, train_transform), OmniglotDataset(data, test_labels, task_size, n_way, k_shot, k_test, test_transform)\n",
        "\n",
        "    def __getitem__(self, idx):\n",
        "        train_x, test_x = [], []\n",
        "        selected_labels = np.random.choice(self.labels, self.n_way, replace=False)\n",
        "\n",
        "        for label in selected_labels:\n",
        "            images = self.data.loc[self.data['label']==label, 'file'].sample(self.k_shot + self.k_test).tolist()\n",
        "            train_x += images[:self.k_shot]\n",
        "            test_x += images[self.k_shot:]\n",
        "\n",
        "        np.random.shuffle(train_x)\n",
        "        np.random.shuffle(test_x)\n",
        "\n",
        "        train_y = [self.image2label[i] for i in train_x]\n",
        "        test_y = [self.image2label[i] for i in test_x]\n",
        "        relative_label = np.unique(train_y)\n",
        "        np.random.shuffle(relative_label)\n",
        "        label2idx = {i:idx for idx, i in enumerate(relative_label)}\n",
        "        train_y = torch.LongTensor([label2idx[i] for i in train_y])\n",
        "        test_y = torch.LongTensor([label2idx[i] for i in test_y])\n",
        "\n",
        "        train_x = torch.stack([self.transform(x) for x in train_x], dim=0)\n",
        "        test_x = torch.stack([self.transform(x) for x in test_x], dim=0)\n",
        "\n",
        "        return train_x, train_y, test_x, test_y"
      ],
      "execution_count": 3,
      "outputs": []
    },
    {
      "cell_type": "code",
      "metadata": {
        "id": "MSIJSakAgmQi"
      },
      "source": [
        "# data_path = os.path.join(CONFIG['base_dir'], 'data/mini_imagenet.zip')\n",
        "data_path = os.path.join(CONFIG['base_dir'], 'data/omniglot.zip')\n",
        "!unzip -q \"{data_path}\" -d 'data'"
      ],
      "execution_count": 6,
      "outputs": []
    },
    {
      "cell_type": "code",
      "metadata": {
        "id": "B7iKtbEMpR-p"
      },
      "source": [
        "train_transform = transforms.Compose([\n",
        "    lambda x : Image.open(x).convert('L'),\n",
        "    transforms.Resize((CONFIG['image_size'], CONFIG['image_size'])),\n",
        "    transforms.ToTensor(),\n",
        "])\n",
        "\n",
        "test_transform = transforms.Compose([\n",
        "    lambda x : Image.open(x).convert('L'),\n",
        "    transforms.Resize((CONFIG['image_size'], CONFIG['image_size'])),\n",
        "    transforms.ToTensor(),\n",
        "])"
      ],
      "execution_count": 4,
      "outputs": []
    },
    {
      "cell_type": "code",
      "metadata": {
        "id": "JkSi2ZxXnFWW"
      },
      "source": [
        "train_data, test_data = OmniglotDataset.load('/content/data', CONFIG['task_size'], CONFIG['n_way'], CONFIG['k_shot'], CONFIG['k_test'], train_transform, test_transform)"
      ],
      "execution_count": 5,
      "outputs": []
    },
    {
      "cell_type": "code",
      "metadata": {
        "id": "PXiB_l9l3W7s"
      },
      "source": [
        "train_loader = torch.utils.data.DataLoader(train_data, CONFIG['task_size'], shuffle=True, pin_memory=True, drop_last=True)\n",
        "test_loader = torch.utils.data.DataLoader(test_data, CONFIG['task_size'], shuffle=True, pin_memory=True, drop_last=True)"
      ],
      "execution_count": 6,
      "outputs": []
    },
    {
      "cell_type": "code",
      "metadata": {
        "colab": {
          "base_uri": "https://localhost:8080/"
        },
        "id": "fsXOEAqKt8bC",
        "outputId": "c75897eb-1816-4eba-c30e-80142f1f04f5"
      },
      "source": [
        "train_x, train_y, test_x, test_y = next(iter(train_loader))\n",
        "train_x.size(), train_y.size(), test_x.size(), test_y.size()"
      ],
      "execution_count": 7,
      "outputs": [
        {
          "output_type": "execute_result",
          "data": {
            "text/plain": [
              "(torch.Size([32, 5, 1, 28, 28]),\n",
              " torch.Size([32, 5]),\n",
              " torch.Size([32, 75, 1, 28, 28]),\n",
              " torch.Size([32, 75]))"
            ]
          },
          "metadata": {
            "tags": []
          },
          "execution_count": 7
        }
      ]
    },
    {
      "cell_type": "code",
      "metadata": {
        "colab": {
          "base_uri": "https://localhost:8080/",
          "height": 121
        },
        "id": "xpyDWSVnudHr",
        "outputId": "9e68827b-715d-4f78-83df-c03f5af8fbfe"
      },
      "source": [
        "plt.imshow(torchvision.utils.make_grid(train_x[0], nrow=5).permute(1, 2, 0))\n",
        "plt.show()"
      ],
      "execution_count": 8,
      "outputs": [
        {
          "output_type": "display_data",
          "data": {
            "image/png": "[encoded data removed]",
            "text/plain": [
              "<Figure size 432x288 with 1 Axes>"
            ]
          },
          "metadata": {
            "tags": [],
            "needs_background": "light"
          }
        }
      ]
    },
    {
      "cell_type": "markdown",
      "metadata": {
        "id": "bLljDsOoFoLN"
      },
      "source": [
        "## 3. Model"
      ]
    },
    {
      "cell_type": "code",
      "metadata": {
        "id": "opxs2hKBJXr4"
      },
      "source": [
        "class MetaLinear(nn.Linear):\n",
        "    def forward(self, x, params=None):\n",
        "        if params is None:\n",
        "            params = OrderedDict(self.named_parameters())\n",
        "        bias = params.get('bias', None)\n",
        "        return F.linear(x, params['weight'], bias)\n",
        "\n",
        "\n",
        "class MetaConv2d(nn.Conv2d):\n",
        "    def forward(self, x, params=None):\n",
        "        if params is None:\n",
        "            params = OrderedDict(self.named_parameters())\n",
        "        bias = params.get('bias', None)\n",
        "        return F.conv2d(x, params['weight'], bias, self.stride, self.padding, self.dilation, self.groups)\n",
        "\n",
        "\n",
        "class MetaBatchNorm2d(nn.modules.BatchNorm2d):\n",
        "    def forward(self, x, params=None):\n",
        "        if params is None:\n",
        "            params = OrderedDict(self.named_parameters())\n",
        "        \n",
        "        if self.momentum is None:\n",
        "            exponential_average_factor = 0.0\n",
        "        else:\n",
        "            exponential_average_factor = self.momentum\n",
        "        \n",
        "        if self.training and self.track_running_stats:\n",
        "            if self.num_batches_tracked is not None:\n",
        "                self.num_batches_tracked += 1\n",
        "                if self.momentum is None:  # use cumulative moving average\n",
        "                    exponential_average_factor = 1.0 / float(self.num_batches_tracked)\n",
        "                else:  # use exponential moving average\n",
        "                    exponential_average_factor = self.momentum\n",
        "        \n",
        "        weight = params.get('weight', None)\n",
        "        bias = params.get('bias', None)\n",
        "        training = self.training or not self.track_running_stats\n",
        "        return F.batch_norm(x, self.running_mean, self.running_var, weight, bias, training, exponential_average_factor, self.eps)"
      ],
      "execution_count": 9,
      "outputs": []
    },
    {
      "cell_type": "code",
      "metadata": {
        "id": "If-lc75zWLyI"
      },
      "source": [
        "class Network(nn.Module):\n",
        "    def __init__(self, n_way):\n",
        "        super(Network, self).__init__()\n",
        "        self.layers = {\n",
        "            'meta_conv1': MetaConv2d(1, 64, kernel_size=3, stride=1, padding=1, bias=False),\n",
        "            'meta_bn1': MetaBatchNorm2d(64),\n",
        "            'relu1': nn.ReLU(),\n",
        "            'pool1': nn.MaxPool2d(2),\n",
        "            'meta_conv2': MetaConv2d(64, 64, kernel_size=3, stride=1, padding=1, bias=False),\n",
        "            'meta_bn2': MetaBatchNorm2d(64),\n",
        "            'relu2': nn.ReLU(),\n",
        "            'pool2': nn.MaxPool2d(2),\n",
        "            'meta_conv3': MetaConv2d(64, 64, kernel_size=3, stride=1, padding=1, bias=False),\n",
        "            'meta_bn3': MetaBatchNorm2d(64),\n",
        "            'relu3': nn.ReLU(),\n",
        "            'pool3': nn.MaxPool2d(2),\n",
        "            'meta_conv4': MetaConv2d(64, 64, kernel_size=2, stride=1, padding=0, bias=False),\n",
        "            'meta_bn4': MetaBatchNorm2d(64),\n",
        "            'relu4': nn.ReLU(),\n",
        "            'pool4': nn.MaxPool2d(2),\n",
        "            'flatten': nn.Flatten(),\n",
        "            'meta_linear': MetaLinear(64, n_way)\n",
        "        }\n",
        "        self.layers = nn.ModuleDict(self.layers)\n",
        "    \n",
        "    def get_named_params(self):\n",
        "        return OrderedDict(self.named_parameters())\n",
        "    \n",
        "    def forward(self, x, params={}):\n",
        "        for layer_name, layer in self.layers.items():\n",
        "            if 'meta' in layer_name:\n",
        "                p = {k.split('.')[-1]:v for k,v in params.items() if layer_name in k} if params else None\n",
        "                x = layer(x, params=p)\n",
        "            else:\n",
        "                x = layer(x)\n",
        "        return x"
      ],
      "execution_count": 10,
      "outputs": []
    },
    {
      "cell_type": "markdown",
      "metadata": {
        "id": "niEWQOF8qZO2"
      },
      "source": [
        "## 4. Experiment"
      ]
    },
    {
      "cell_type": "code",
      "metadata": {
        "id": "Al-KpR_Hqa4O"
      },
      "source": [
        "class AverageMeter(object):\n",
        "    def __init__(self, name):\n",
        "        self.name = name\n",
        "        self.reset()\n",
        "\n",
        "    def reset(self):\n",
        "        self.sum = 0\n",
        "        self.count = 0\n",
        "        self.avg = 0\n",
        "\n",
        "    def update(self, val, n=1):\n",
        "        self.sum += val * n\n",
        "        self.count += n\n",
        "        self.avg = self.sum / self.count\n",
        "\n",
        "    def __str__(self):\n",
        "        fmtstr = f'{self.name:10s} {self.avg:.3f}'\n",
        "        return fmtstr\n",
        "\n",
        "\n",
        "class ProgressMeter(object):\n",
        "    def __init__(self, meters, loader_length, prefix=\"\"):\n",
        "        self.meters = [AverageMeter(i) for i in meters]\n",
        "        self.loader_length = loader_length\n",
        "        self.prefix = prefix\n",
        "    \n",
        "    def reset(self):\n",
        "        for m in self.meters:\n",
        "            m.reset()\n",
        "    \n",
        "    def update(self, values, n=1):\n",
        "        for m, v in zip(self.meters, values):\n",
        "            m.update(v, n)\n",
        "            self.__setattr__(m.name, m.avg)\n",
        "\n",
        "    def display(self, batch_idx, postfix=\"\"):\n",
        "        batch_info = f'[{batch_idx+1:03d}/{self.loader_length:03d}]'\n",
        "        msg = [self.prefix + ' ' + batch_info]\n",
        "        msg += [str(meter) for meter in self.meters]\n",
        "        msg = ' | '.join(msg)\n",
        "\n",
        "        sys.stdout.write('\\r')\n",
        "        sys.stdout.write(msg + postfix)\n",
        "        sys.stdout.flush()\n",
        "\n",
        "\n",
        "def accuracy(logits, targets):\n",
        "    _, pred = logits.max(1)\n",
        "    acc = pred.eq(targets).float().mean().item()\n",
        "    return acc"
      ],
      "execution_count": 11,
      "outputs": []
    },
    {
      "cell_type": "code",
      "metadata": {
        "id": "CFdlTj8tqdgQ"
      },
      "source": [
        "class Trainer(object):\n",
        "    def __init__(self, model, criterion, optimizer, device):\n",
        "        self.model = model\n",
        "        self.criterion = criterion\n",
        "        self.optimizer = optimizer\n",
        "        self.device = device\n",
        "    \n",
        "    def train(self, train_loader, epoch):\n",
        "        progress = ProgressMeter([\"train_loss\", \"train_acc\"], len(train_loader), prefix=f'EPOCH {epoch:03d}')\n",
        "        self.model.train()\n",
        "        start_time = time.time()\n",
        "\n",
        "        for idx, (train_x, train_y, test_x, test_y) in enumerate(train_loader):\n",
        "            train_x, train_y, test_x, test_y = train_x.to(self.device), train_y.to(self.device), test_x.to(self.device), test_y.to(self.device)\n",
        "\n",
        "            meta_loss = torch.tensor(0.).to(device)\n",
        "            meta_acc = torch.tensor(0.).to(device)\n",
        "\n",
        "            for i in range(CONFIG['task_size']):\n",
        "                fast_params = self.model.get_named_params()\n",
        "\n",
        "                for j in range(CONFIG['update_step']):\n",
        "                    logits = self.model(train_x[i], fast_params)\n",
        "                    loss = self.criterion(logits, train_y[i])\n",
        "                    grads = torch.autograd.grad(loss, fast_params.values())\n",
        "                    fast_params = OrderedDict({n:p - CONFIG['update_lr'] * g for (n, p), g in zip(fast_params.items(), grads)})\n",
        "                \n",
        "                test_logits = self.model(test_x[i], fast_params)\n",
        "                test_loss = criterion(test_logits, test_y[i])\n",
        "                meta_loss += test_loss\n",
        "                _, pred = test_logits.max(1)\n",
        "                acc = pred.eq(test_y[i]).float().mean()\n",
        "                meta_acc += acc\n",
        "\n",
        "            meta_loss.div_(CONFIG['task_size'])\n",
        "            meta_acc.div_(CONFIG['task_size'])\n",
        "\n",
        "            self.optimizer.zero_grad()\n",
        "            meta_loss.backward()\n",
        "            self.optimizer.step()\n",
        "\n",
        "            progress.update([meta_loss.item(), meta_acc.item()], n=CONFIG['task_size'])\n",
        "            if idx % 10 == 0:\n",
        "                progress.display(idx)\n",
        "\n",
        "        finish_time = time.time()\n",
        "        epoch_time = finish_time - start_time\n",
        "        progress.display(idx, f' | {epoch_time:.0f}s' + '\\n')\n",
        "\n",
        "    \n",
        "    def test(self, test_loader, prefix):\n",
        "        progress = ProgressMeter([\"test loss\", \"test acc\"], len(test_loader), prefix=prefix)\n",
        "        self.model.train()\n",
        "        start_time = time.time()\n",
        "\n",
        "        for idx, (train_x, train_y, test_x, test_y) in enumerate(test_loader):\n",
        "            train_x, train_y, test_x, test_y = train_x.to(self.device), train_y.to(self.device), test_x.to(self.device), test_y.to(self.device)\n",
        "\n",
        "            meta_loss = torch.tensor(0.).to(device)\n",
        "            meta_acc = torch.tensor(0.).to(device)\n",
        "\n",
        "            for i in range(CONFIG['task_size']):\n",
        "                fast_params = self.model.get_named_params()\n",
        "\n",
        "                for j in range(CONFIG['finetune_step']):\n",
        "                    logits = self.model(train_x[i], fast_params)\n",
        "                    loss = self.criterion(logits, train_y[i])\n",
        "                    grads = torch.autograd.grad(loss, fast_params.values())\n",
        "                    fast_params = OrderedDict({n:p - CONFIG['update_lr'] * g for (n, p), g in zip(fast_params.items(), grads)})\n",
        "\n",
        "                test_logits = self.model(test_x[i], fast_params)\n",
        "                test_loss = criterion(test_logits, test_y[i])\n",
        "                meta_loss += test_loss\n",
        "\n",
        "                _, pred = test_logits.max(1)\n",
        "                acc = pred.eq(test_y[i]).float().mean()\n",
        "                meta_acc += acc\n",
        "\n",
        "            meta_loss.div_(CONFIG['task_size'])\n",
        "            meta_acc.div_(CONFIG['task_size'])\n",
        "\n",
        "            progress.update([meta_loss.item(), meta_acc.item()], n=CONFIG['task_size'])\n",
        "            if idx % 10 == 0:\n",
        "                progress.display(idx)\n",
        "\n",
        "        finish_time = time.time()\n",
        "        epoch_time = finish_time - start_time\n",
        "        progress.display(idx, f' | {epoch_time:.0f}s' + '\\n')"
      ],
      "execution_count": 12,
      "outputs": []
    },
    {
      "cell_type": "code",
      "metadata": {
        "id": "I3kfhSd_VMmL"
      },
      "source": [
        "device = 'cuda' if torch.cuda.is_available() else 'cpu'\n",
        "model = Network(CONFIG['n_way']).to(device)\n",
        "criterion = nn.CrossEntropyLoss()\n",
        "optimizer = torch.optim.Adam(model.parameters(), lr=CONFIG['meta_lr'])"
      ],
      "execution_count": 13,
      "outputs": []
    },
    {
      "cell_type": "code",
      "metadata": {
        "id": "HdkFS1l938Pu"
      },
      "source": [
        "trainer = Trainer(model, criterion, optimizer, device)"
      ],
      "execution_count": 14,
      "outputs": []
    },
    {
      "cell_type": "code",
      "metadata": {
        "id": "q9g_veplre78",
        "colab": {
          "base_uri": "https://localhost:8080/"
        },
        "outputId": "0f006c9e-8a2c-4c71-c736-601cf4a2a184"
      },
      "source": [
        "for ep in range(CONFIG['epoch_size']):\n",
        "    print('=' * 65)\n",
        "    trainer.train(train_loader, ep)\n",
        "    if ep % 5 == 0:\n",
        "        trainer.test(test_loader, prefix=f'TEST  {ep:03d}')"
      ],
      "execution_count": 15,
      "outputs": [
        {
          "output_type": "stream",
          "text": [
            "=================================================================\n",
            "EPOCH 000 [010/010] | train_loss 1.315 | train_acc  0.493 | 14s\n",
            "TEST  000 [010/010] | test loss  1.160 | test acc   0.623 | 17s\n",
            "=================================================================\n",
            "EPOCH 001 [010/010] | train_loss 1.234 | train_acc  0.561 | 14s\n",
            "=================================================================\n",
            "EPOCH 002 [010/010] | train_loss 1.132 | train_acc  0.602 | 14s\n",
            "=================================================================\n",
            "EPOCH 003 [010/010] | train_loss 1.091 | train_acc  0.618 | 14s\n",
            "=================================================================\n",
            "EPOCH 004 [010/010] | train_loss 1.062 | train_acc  0.610 | 14s\n",
            "=================================================================\n",
            "EPOCH 005 [010/010] | train_loss 0.970 | train_acc  0.656 | 14s\n",
            "TEST  005 [010/010] | test loss  0.855 | test acc   0.699 | 17s\n",
            "=================================================================\n",
            "EPOCH 006 [010/010] | train_loss 0.813 | train_acc  0.718 | 14s\n",
            "=================================================================\n",
            "EPOCH 007 [010/010] | train_loss 0.708 | train_acc  0.754 | 14s\n",
            "=================================================================\n",
            "EPOCH 008 [010/010] | train_loss 0.659 | train_acc  0.771 | 14s\n",
            "=================================================================\n",
            "EPOCH 009 [010/010] | train_loss 0.603 | train_acc  0.785 | 14s\n",
            "=================================================================\n",
            "EPOCH 010 [010/010] | train_loss 0.522 | train_acc  0.817 | 14s\n",
            "TEST  010 [010/010] | test loss  0.520 | test acc   0.814 | 17s\n",
            "=================================================================\n",
            "EPOCH 011 [010/010] | train_loss 0.482 | train_acc  0.831 | 14s\n",
            "=================================================================\n",
            "EPOCH 012 [010/010] | train_loss 0.458 | train_acc  0.839 | 14s\n",
            "=================================================================\n",
            "EPOCH 013 [010/010] | train_loss 0.462 | train_acc  0.839 | 14s\n",
            "=================================================================\n",
            "EPOCH 014 [010/010] | train_loss 0.448 | train_acc  0.841 | 14s\n",
            "=================================================================\n",
            "EPOCH 015 [010/010] | train_loss 0.464 | train_acc  0.836 | 14s\n",
            "TEST  015 [010/010] | test loss  0.409 | test acc   0.858 | 17s\n",
            "=================================================================\n",
            "EPOCH 016 [010/010] | train_loss 0.441 | train_acc  0.845 | 14s\n",
            "=================================================================\n",
            "EPOCH 017 [010/010] | train_loss 0.432 | train_acc  0.850 | 14s\n",
            "=================================================================\n",
            "EPOCH 018 [010/010] | train_loss 0.404 | train_acc  0.859 | 14s\n",
            "=================================================================\n",
            "EPOCH 019 [010/010] | train_loss 0.384 | train_acc  0.868 | 14s\n",
            "=================================================================\n",
            "EPOCH 020 [010/010] | train_loss 0.346 | train_acc  0.877 | 14s\n",
            "TEST  020 [010/010] | test loss  0.362 | test acc   0.873 | 17s\n",
            "=================================================================\n",
            "EPOCH 021 [010/010] | train_loss 0.356 | train_acc  0.875 | 14s\n",
            "=================================================================\n",
            "EPOCH 022 [010/010] | train_loss 0.386 | train_acc  0.864 | 14s\n",
            "=================================================================\n",
            "EPOCH 023 [010/010] | train_loss 0.355 | train_acc  0.877 | 14s\n",
            "=================================================================\n",
            "EPOCH 024 [010/010] | train_loss 0.342 | train_acc  0.883 | 14s\n",
            "=================================================================\n",
            "EPOCH 025 [010/010] | train_loss 0.363 | train_acc  0.874 | 14s\n",
            "TEST  025 [010/010] | test loss  0.331 | test acc   0.887 | 17s\n",
            "=================================================================\n",
            "EPOCH 026 [010/010] | train_loss 0.359 | train_acc  0.872 | 14s\n",
            "=================================================================\n",
            "EPOCH 027 [010/010] | train_loss 0.340 | train_acc  0.882 | 14s\n",
            "=================================================================\n",
            "EPOCH 028 [010/010] | train_loss 0.330 | train_acc  0.882 | 14s\n",
            "=================================================================\n",
            "EPOCH 029 [010/010] | train_loss 0.341 | train_acc  0.879 | 14s\n",
            "=================================================================\n",
            "EPOCH 030 [010/010] | train_loss 0.373 | train_acc  0.871 | 14s\n",
            "TEST  030 [010/010] | test loss  0.337 | test acc   0.882 | 17s\n",
            "=================================================================\n",
            "EPOCH 031 [010/010] | train_loss 0.350 | train_acc  0.877 | 14s\n",
            "=================================================================\n",
            "EPOCH 032 [010/010] | train_loss 0.346 | train_acc  0.880 | 14s\n",
            "=================================================================\n",
            "EPOCH 033 [010/010] | train_loss 0.333 | train_acc  0.884 | 14s\n",
            "=================================================================\n",
            "EPOCH 034 [010/010] | train_loss 0.329 | train_acc  0.886 | 14s\n",
            "=================================================================\n",
            "EPOCH 035 [010/010] | train_loss 0.331 | train_acc  0.886 | 14s\n",
            "TEST  035 [010/010] | test loss  0.298 | test acc   0.897 | 17s\n",
            "=================================================================\n",
            "EPOCH 036 [010/010] | train_loss 0.315 | train_acc  0.894 | 14s\n",
            "=================================================================\n",
            "EPOCH 037 [010/010] | train_loss 0.282 | train_acc  0.906 | 14s\n",
            "=================================================================\n",
            "EPOCH 038 [010/010] | train_loss 0.296 | train_acc  0.898 | 14s\n",
            "=================================================================\n",
            "EPOCH 039 [010/010] | train_loss 0.281 | train_acc  0.902 | 14s\n",
            "=================================================================\n",
            "EPOCH 040 [010/010] | train_loss 0.319 | train_acc  0.891 | 14s\n",
            "TEST  040 [010/010] | test loss  0.281 | test acc   0.904 | 17s\n",
            "=================================================================\n",
            "EPOCH 041 [010/010] | train_loss 0.265 | train_acc  0.912 | 14s\n",
            "=================================================================\n",
            "EPOCH 042 [010/010] | train_loss 0.286 | train_acc  0.898 | 14s\n",
            "=================================================================\n",
            "EPOCH 043 [010/010] | train_loss 0.274 | train_acc  0.906 | 14s\n",
            "=================================================================\n",
            "EPOCH 044 [010/010] | train_loss 0.267 | train_acc  0.907 | 14s\n",
            "=================================================================\n",
            "EPOCH 045 [010/010] | train_loss 0.257 | train_acc  0.915 | 14s\n",
            "TEST  045 [010/010] | test loss  0.297 | test acc   0.898 | 17s\n",
            "=================================================================\n",
            "EPOCH 046 [010/010] | train_loss 0.299 | train_acc  0.895 | 14s\n",
            "=================================================================\n",
            "EPOCH 047 [010/010] | train_loss 0.303 | train_acc  0.896 | 14s\n",
            "=================================================================\n",
            "EPOCH 048 [010/010] | train_loss 0.313 | train_acc  0.890 | 14s\n",
            "=================================================================\n",
            "EPOCH 049 [010/010] | train_loss 0.274 | train_acc  0.905 | 14s\n",
            "=================================================================\n",
            "EPOCH 050 [010/010] | train_loss 0.298 | train_acc  0.897 | 14s\n",
            "TEST  050 [010/010] | test loss  0.283 | test acc   0.905 | 18s\n",
            "=================================================================\n",
            "EPOCH 051 [010/010] | train_loss 0.279 | train_acc  0.906 | 14s\n",
            "=================================================================\n",
            "EPOCH 052 [010/010] | train_loss 0.261 | train_acc  0.912 | 14s\n",
            "=================================================================\n",
            "EPOCH 053 [010/010] | train_loss 0.246 | train_acc  0.915 | 14s\n",
            "=================================================================\n",
            "EPOCH 054 [010/010] | train_loss 0.264 | train_acc  0.907 | 14s\n",
            "=================================================================\n",
            "EPOCH 055 [010/010] | train_loss 0.252 | train_acc  0.915 | 14s\n",
            "TEST  055 [010/010] | test loss  0.259 | test acc   0.911 | 17s\n",
            "=================================================================\n",
            "EPOCH 056 [010/010] | train_loss 0.229 | train_acc  0.923 | 14s\n",
            "=================================================================\n",
            "EPOCH 057 [010/010] | train_loss 0.239 | train_acc  0.917 | 14s\n",
            "=================================================================\n",
            "EPOCH 058 [010/010] | train_loss 0.273 | train_acc  0.904 | 14s\n",
            "=================================================================\n",
            "EPOCH 059 [010/010] | train_loss 0.284 | train_acc  0.903 | 14s\n",
            "=================================================================\n",
            "EPOCH 060 [010/010] | train_loss 0.261 | train_acc  0.909 | 14s\n",
            "TEST  060 [010/010] | test loss  0.274 | test acc   0.906 | 17s\n",
            "=================================================================\n",
            "EPOCH 061 [010/010] | train_loss 0.252 | train_acc  0.916 | 14s\n",
            "=================================================================\n",
            "EPOCH 062 [010/010] | train_loss 0.275 | train_acc  0.904 | 14s\n",
            "=================================================================\n",
            "EPOCH 063 [010/010] | train_loss 0.251 | train_acc  0.915 | 14s\n",
            "=================================================================\n",
            "EPOCH 064 [010/010] | train_loss 0.225 | train_acc  0.924 | 14s\n",
            "=================================================================\n",
            "EPOCH 065 [010/010] | train_loss 0.257 | train_acc  0.914 | 14s\n",
            "TEST  065 [010/010] | test loss  0.284 | test acc   0.904 | 17s\n",
            "=================================================================\n",
            "EPOCH 066 [010/010] | train_loss 0.223 | train_acc  0.923 | 14s\n",
            "=================================================================\n",
            "EPOCH 067 [010/010] | train_loss 0.205 | train_acc  0.932 | 15s\n",
            "=================================================================\n",
            "EPOCH 068 [010/010] | train_loss 0.218 | train_acc  0.923 | 14s\n",
            "=================================================================\n",
            "EPOCH 069 [010/010] | train_loss 0.233 | train_acc  0.921 | 15s\n",
            "=================================================================\n",
            "EPOCH 070 [010/010] | train_loss 0.228 | train_acc  0.924 | 14s\n",
            "TEST  070 [010/010] | test loss  0.249 | test acc   0.917 | 17s\n",
            "=================================================================\n",
            "EPOCH 071 [010/010] | train_loss 0.243 | train_acc  0.914 | 14s\n",
            "=================================================================\n",
            "EPOCH 072 [010/010] | train_loss 0.230 | train_acc  0.921 | 14s\n",
            "=================================================================\n",
            "EPOCH 073 [010/010] | train_loss 0.225 | train_acc  0.922 | 14s\n",
            "=================================================================\n",
            "EPOCH 074 [010/010] | train_loss 0.236 | train_acc  0.918 | 14s\n",
            "=================================================================\n",
            "EPOCH 075 [010/010] | train_loss 0.228 | train_acc  0.920 | 14s\n",
            "TEST  075 [010/010] | test loss  0.261 | test acc   0.914 | 17s\n",
            "=================================================================\n",
            "EPOCH 076 [010/010] | train_loss 0.234 | train_acc  0.924 | 14s\n",
            "=================================================================\n",
            "EPOCH 077 [010/010] | train_loss 0.236 | train_acc  0.919 | 14s\n",
            "=================================================================\n",
            "EPOCH 078 [010/010] | train_loss 0.224 | train_acc  0.927 | 14s\n",
            "=================================================================\n",
            "EPOCH 079 [010/010] | train_loss 0.246 | train_acc  0.919 | 14s\n",
            "=================================================================\n",
            "EPOCH 080 [010/010] | train_loss 0.233 | train_acc  0.922 | 14s\n",
            "TEST  080 [010/010] | test loss  0.277 | test acc   0.912 | 18s\n",
            "=================================================================\n",
            "EPOCH 081 [010/010] | train_loss 0.238 | train_acc  0.921 | 15s\n",
            "=================================================================\n",
            "EPOCH 082 [010/010] | train_loss 0.238 | train_acc  0.919 | 15s\n",
            "=================================================================\n",
            "EPOCH 083 [010/010] | train_loss 0.215 | train_acc  0.928 | 15s\n",
            "=================================================================\n",
            "EPOCH 084 [010/010] | train_loss 0.235 | train_acc  0.920 | 14s\n",
            "=================================================================\n",
            "EPOCH 085 [010/010] | train_loss 0.236 | train_acc  0.920 | 14s\n",
            "TEST  085 [010/010] | test loss  0.274 | test acc   0.910 | 18s\n",
            "=================================================================\n",
            "EPOCH 086 [010/010] | train_loss 0.228 | train_acc  0.924 | 15s\n",
            "=================================================================\n",
            "EPOCH 087 [010/010] | train_loss 0.215 | train_acc  0.926 | 14s\n",
            "=================================================================\n",
            "EPOCH 088 [010/010] | train_loss 0.227 | train_acc  0.922 | 14s\n",
            "=================================================================\n",
            "EPOCH 089 [010/010] | train_loss 0.250 | train_acc  0.915 | 14s\n",
            "=================================================================\n",
            "EPOCH 090 [010/010] | train_loss 0.244 | train_acc  0.917 | 15s\n",
            "TEST  090 [010/010] | test loss  0.286 | test acc   0.906 | 18s\n",
            "=================================================================\n",
            "EPOCH 091 [010/010] | train_loss 0.231 | train_acc  0.923 | 14s\n",
            "=================================================================\n",
            "EPOCH 092 [010/010] | train_loss 0.284 | train_acc  0.906 | 14s\n",
            "=================================================================\n",
            "EPOCH 093 [010/010] | train_loss 0.272 | train_acc  0.906 | 14s\n",
            "=================================================================\n",
            "EPOCH 094 [010/010] | train_loss 0.245 | train_acc  0.916 | 14s\n",
            "=================================================================\n",
            "EPOCH 095 [010/010] | train_loss 0.253 | train_acc  0.915 | 14s\n",
            "TEST  095 [010/010] | test loss  0.276 | test acc   0.908 | 18s\n",
            "=================================================================\n",
            "EPOCH 096 [010/010] | train_loss 0.240 | train_acc  0.920 | 14s\n",
            "=================================================================\n",
            "EPOCH 097 [010/010] | train_loss 0.247 | train_acc  0.916 | 15s\n",
            "=================================================================\n",
            "EPOCH 098 [010/010] | train_loss 0.245 | train_acc  0.921 | 14s\n",
            "=================================================================\n",
            "EPOCH 099 [010/010] | train_loss 0.244 | train_acc  0.921 | 14s\n"
          ],
          "name": "stdout"
        }
      ]
    },
    {
      "cell_type": "code",
      "metadata": {
        "id": "bhyQw7zyFq8B",
        "colab": {
          "base_uri": "https://localhost:8080/"
        },
        "outputId": "7b02fc16-e9cb-4e06-c6fd-8ccb0ca48706"
      },
      "source": [
        "trainer.test(test_loader, prefix='TEST')"
      ],
      "execution_count": 16,
      "outputs": [
        {
          "output_type": "stream",
          "text": [
            "TEST [010/010] | test loss  0.254 | test acc   0.914 | 17s\n"
          ],
          "name": "stdout"
        }
      ]
    },
    {
      "cell_type": "code",
      "metadata": {
        "id": "plyP-mLUljJ0"
      },
      "source": [
        ""
      ],
      "execution_count": null,
      "outputs": []
    }
  ]
}