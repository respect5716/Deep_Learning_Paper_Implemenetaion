{
  "nbformat": 4,
  "nbformat_minor": 0,
  "metadata": {
    "colab": {
      "name": "NDF",
      "provenance": [],
      "collapsed_sections": [],
      "authorship_tag": "ABX9TyNerjYkzLsfk3h+91ABuGjF",
      "include_colab_link": true
    },
    "kernelspec": {
      "name": "python3",
      "display_name": "Python 3"
    },
    "language_info": {
      "name": "python"
    },
    "accelerator": "GPU"
  },
  "cells": [
    {
      "cell_type": "markdown",
      "metadata": {
        "id": "view-in-github",
        "colab_type": "text"
      },
      "source": [
        "<a href=\"https://colab.research.google.com/github/respect5716/deep-learning-paper-implementation/blob/main/01_General/NDF.ipynb\" target=\"_parent\"><img src=\"https://colab.research.google.com/assets/colab-badge.svg\" alt=\"Open In Colab\"/></a>"
      ]
    },
    {
      "cell_type": "markdown",
      "metadata": {
        "id": "pot7QSoj64mH"
      },
      "source": [
        "# NDF"
      ]
    },
    {
      "cell_type": "markdown",
      "metadata": {
        "id": "KAcxYVFo6-6L"
      },
      "source": [
        "## 0. Paper"
      ]
    },
    {
      "cell_type": "markdown",
      "metadata": {
        "id": "gFPVBpkT7AeB"
      },
      "source": [
        "### Info\n",
        "* Title: Learning What Data to Learn\n",
        "* Author: Yang Fan\n",
        "* Task: Data Filtration\n",
        "* URL: https://arxiv.org/abs/1702.08635\n",
        "\n",
        "\n",
        "### Features\n",
        "* Dataset: CIFAR-10\n",
        "\n",
        "### Reference\n",
        "* https://github.com/kuangliu/pytorch-cifar\n",
        "* https://github.com/Finspire13/pytorch-policy-gradient-example"
      ]
    },
    {
      "cell_type": "markdown",
      "metadata": {
        "id": "0CLizjrc7Dxp"
      },
      "source": [
        "## 1. Setting"
      ]
    },
    {
      "cell_type": "code",
      "metadata": {
        "id": "qSZ08H4y7suH"
      },
      "source": [
        "!pip install -q wandb\n",
        "!pip install -q transformers\n",
        "!pip install -q pytorch_lightning"
      ],
      "execution_count": null,
      "outputs": []
    },
    {
      "cell_type": "code",
      "metadata": {
        "colab": {
          "base_uri": "https://localhost:8080/"
        },
        "id": "PJM2CT0c7FRn",
        "outputId": "9ee14ba0-0c22-44c9-e6a5-f6dd0097a217"
      },
      "source": [
        "import os\n",
        "import wandb\n",
        "from glob import glob\n",
        "from tqdm.auto import tqdm\n",
        "from typing import Optional\n",
        "\n",
        "import numpy as np\n",
        "import pandas as pd\n",
        "import seaborn as sns\n",
        "import matplotlib.pyplot as plt\n",
        "from PIL import Image\n",
        "\n",
        "import torch\n",
        "import torch.nn as nn\n",
        "import torch.nn.functional as F\n",
        "\n",
        "import torchvision\n",
        "import torchvision.transforms as transforms\n",
        "\n",
        "import pytorch_lightning as pl\n",
        "\n",
        "_ = pl.utilities.seed.seed_everything(999)"
      ],
      "execution_count": 1,
      "outputs": [
        {
          "output_type": "stream",
          "name": "stderr",
          "text": [
            "Global seed set to 999\n"
          ]
        }
      ]
    },
    {
      "cell_type": "code",
      "metadata": {
        "id": "uXigc7hS7YE5"
      },
      "source": [
        "import os\n",
        "if os.path.isdir('ds_utils'):\n",
        "    !rm -rf ds_utils\n",
        "!git clone -q https://github.com/respect5716/ds_utils.git\n",
        "\n",
        "from ds_utils.pytorch_lightning import BaseModule, BaseDataModule, CheckpointCallback, AttributeDict\n",
        "from ds_utils.metric import accuracy"
      ],
      "execution_count": 2,
      "outputs": []
    },
    {
      "cell_type": "code",
      "metadata": {
        "id": "PiRrDANC77_M"
      },
      "source": [
        "args = AttributeDict({\n",
        "    'batch_size': 128,\n",
        "    'episode_size': 100,\n",
        "    'base_dir': '/content/drive/Shared drives/Yoon/Project/Doing/Deep Learning Paper Implementation',\n",
        "    'gamma': 0.99,\n",
        "})"
      ],
      "execution_count": 3,
      "outputs": []
    },
    {
      "cell_type": "markdown",
      "metadata": {
        "id": "idZN5nR88lkq"
      },
      "source": [
        "## 2. Data"
      ]
    },
    {
      "cell_type": "code",
      "metadata": {
        "id": "HWjpv-2sXCzs"
      },
      "source": [
        "def load_dataloader(batch_size, transform):\n",
        "    train_dataset = torchvision.datasets.CIFAR10(root='./data', train=True, download=True, transform=transform['train'])\n",
        "    train_dataset, val_dataset = torch.utils.data.random_split(train_dataset, [45000, 5000])\n",
        "    test_dataset = torchvision.datasets.CIFAR10(root='./data', train=False, download=True, transform=transform['eval'])\n",
        "\n",
        "    train_loader = torch.utils.data.DataLoader(train_dataset, batch_size, shuffle=True)\n",
        "    val_loader = torch.utils.data.DataLoader(val_dataset, batch_size, shuffle=False)\n",
        "    test_loader = torch.utils.data.DataLoader(test_dataset, batch_size, shuffle=False)\n",
        "\n",
        "    return train_loader, val_loader, test_loader"
      ],
      "execution_count": 4,
      "outputs": []
    },
    {
      "cell_type": "code",
      "metadata": {
        "id": "gJRrhRGg09TC"
      },
      "source": [
        "transform = {\n",
        "    'train': transforms.Compose([\n",
        "        transforms.RandomCrop(32, padding=4),\n",
        "        transforms.ToTensor(),\n",
        "        transforms.Normalize((0.4914, 0.4822, 0.4465), (0.2470, 0.2439, 0.2616)),\n",
        "    ]),\n",
        "    \n",
        "    'eval': transforms.Compose([\n",
        "        transforms.ToTensor(),\n",
        "        transforms.Normalize((0.4914, 0.4822, 0.4465), (0.2470, 0.2439, 0.2616)),\n",
        "    ])\n",
        "}"
      ],
      "execution_count": 5,
      "outputs": []
    },
    {
      "cell_type": "code",
      "metadata": {
        "colab": {
          "base_uri": "https://localhost:8080/"
        },
        "id": "70Fse0nt0Xu6",
        "outputId": "486acbd3-53e1-4f2c-b690-38e2a3669c22"
      },
      "source": [
        "train_loader, val_loader, test_loader = load_dataloader(args.batch_size, transform)"
      ],
      "execution_count": 6,
      "outputs": [
        {
          "output_type": "stream",
          "name": "stdout",
          "text": [
            "Files already downloaded and verified\n",
            "Files already downloaded and verified\n"
          ]
        }
      ]
    },
    {
      "cell_type": "code",
      "metadata": {
        "colab": {
          "base_uri": "https://localhost:8080/"
        },
        "id": "hLcLOW55PVm-",
        "outputId": "5322a99c-9ad2-4925-e430-5e52b2804b66"
      },
      "source": [
        "inputs = next(iter(train_loader))\n",
        "inputs[0].size(), inputs[1].size()"
      ],
      "execution_count": 7,
      "outputs": [
        {
          "output_type": "execute_result",
          "data": {
            "text/plain": [
              "(torch.Size([128, 3, 32, 32]), torch.Size([128]))"
            ]
          },
          "metadata": {},
          "execution_count": 7
        }
      ]
    },
    {
      "cell_type": "markdown",
      "metadata": {
        "id": "vqxQiPUQEnG6"
      },
      "source": [
        "## 3. Model"
      ]
    },
    {
      "cell_type": "code",
      "metadata": {
        "id": "ChfqyjIK7R6G"
      },
      "source": [
        "class BasicBlock(nn.Module):\n",
        "    expansion = 1\n",
        "\n",
        "    def __init__(self, in_planes, planes, stride=1):\n",
        "        super(BasicBlock, self).__init__()\n",
        "        self.conv1 = nn.Conv2d(\n",
        "            in_planes, planes, kernel_size=3, stride=stride, padding=1, bias=False)\n",
        "        self.bn1 = nn.BatchNorm2d(planes)\n",
        "        self.conv2 = nn.Conv2d(planes, planes, kernel_size=3,\n",
        "                               stride=1, padding=1, bias=False)\n",
        "        self.bn2 = nn.BatchNorm2d(planes)\n",
        "\n",
        "        self.shortcut = nn.Sequential()\n",
        "        if stride != 1 or in_planes != self.expansion*planes:\n",
        "            self.shortcut = nn.Sequential(\n",
        "                nn.Conv2d(in_planes, self.expansion*planes,\n",
        "                          kernel_size=1, stride=stride, bias=False),\n",
        "                nn.BatchNorm2d(self.expansion*planes)\n",
        "            )\n",
        "\n",
        "    def forward(self, x):\n",
        "        out = F.relu(self.bn1(self.conv1(x)))\n",
        "        out = self.bn2(self.conv2(out))\n",
        "        out += self.shortcut(x)\n",
        "        out = F.relu(out)\n",
        "        return out\n",
        "\n",
        "\n",
        "class Bottleneck(nn.Module):\n",
        "    expansion = 4\n",
        "\n",
        "    def __init__(self, in_planes, planes, stride=1):\n",
        "        super(Bottleneck, self).__init__()\n",
        "        self.conv1 = nn.Conv2d(in_planes, planes, kernel_size=1, bias=False)\n",
        "        self.bn1 = nn.BatchNorm2d(planes)\n",
        "        self.conv2 = nn.Conv2d(planes, planes, kernel_size=3,\n",
        "                               stride=stride, padding=1, bias=False)\n",
        "        self.bn2 = nn.BatchNorm2d(planes)\n",
        "        self.conv3 = nn.Conv2d(planes, self.expansion *\n",
        "                               planes, kernel_size=1, bias=False)\n",
        "        self.bn3 = nn.BatchNorm2d(self.expansion*planes)\n",
        "\n",
        "        self.shortcut = nn.Sequential()\n",
        "        if stride != 1 or in_planes != self.expansion*planes:\n",
        "            self.shortcut = nn.Sequential(\n",
        "                nn.Conv2d(in_planes, self.expansion*planes,\n",
        "                          kernel_size=1, stride=stride, bias=False),\n",
        "                nn.BatchNorm2d(self.expansion*planes)\n",
        "            )\n",
        "\n",
        "    def forward(self, x):\n",
        "        out = F.relu(self.bn1(self.conv1(x)))\n",
        "        out = F.relu(self.bn2(self.conv2(out)))\n",
        "        out = self.bn3(self.conv3(out))\n",
        "        out += self.shortcut(x)\n",
        "        out = F.relu(out)\n",
        "        return out\n",
        "\n",
        "\n",
        "class ResNet(nn.Module):\n",
        "    def __init__(self, block, num_blocks, num_classes=10):\n",
        "        super(ResNet, self).__init__()\n",
        "        self.in_planes = 64\n",
        "\n",
        "        self.conv1 = nn.Conv2d(3, 64, kernel_size=3,\n",
        "                               stride=1, padding=1, bias=False)\n",
        "        self.bn1 = nn.BatchNorm2d(64)\n",
        "        self.layer1 = self._make_layer(block, 64, num_blocks[0], stride=1)\n",
        "        self.layer2 = self._make_layer(block, 128, num_blocks[1], stride=2)\n",
        "        self.layer3 = self._make_layer(block, 256, num_blocks[2], stride=2)\n",
        "        self.layer4 = self._make_layer(block, 512, num_blocks[3], stride=2)\n",
        "        self.linear = nn.Linear(512*block.expansion, num_classes)\n",
        "\n",
        "    def _make_layer(self, block, planes, num_blocks, stride):\n",
        "        strides = [stride] + [1]*(num_blocks-1)\n",
        "        layers = []\n",
        "        for stride in strides:\n",
        "            layers.append(block(self.in_planes, planes, stride))\n",
        "            self.in_planes = planes * block.expansion\n",
        "        return nn.Sequential(*layers)\n",
        "\n",
        "    def forward(self, x):\n",
        "        out = F.relu(self.bn1(self.conv1(x)))\n",
        "        out = self.layer1(out)\n",
        "        out = self.layer2(out)\n",
        "        out = self.layer3(out)\n",
        "        out = self.layer4(out)\n",
        "        out = F.avg_pool2d(out, 4)\n",
        "        out = out.view(out.size(0), -1)\n",
        "        out = self.linear(out)\n",
        "        return out\n",
        "\n",
        "\n",
        "def ResNet18():\n",
        "    return ResNet(BasicBlock, [2, 2, 2, 2])\n",
        "    \n",
        "def NDF():\n",
        "    return ResNet(BasicBlock, [2, 2, 2, 2], num_classes=1)"
      ],
      "execution_count": 8,
      "outputs": []
    },
    {
      "cell_type": "markdown",
      "metadata": {
        "id": "wHgiExMi5lIw"
      },
      "source": [
        "## 4. NDF"
      ]
    },
    {
      "cell_type": "code",
      "metadata": {
        "id": "vVHWEFU_-joc"
      },
      "source": [
        "def check_device(model):\n",
        "    return next(model.parameters()).device\n",
        "\n",
        "def valid_accuracy(learner, val_loader):\n",
        "    learner.eval()\n",
        "    device = check_device(learner)\n",
        "    corrects = []\n",
        "\n",
        "    with torch.no_grad():\n",
        "        for inputs, targets in val_loader:\n",
        "            inputs, targets = inputs.to(device), targets.to(device)\n",
        "            logits = learner(inputs)\n",
        "            preds = logits.max(dim=1)[1]\n",
        "            _corrects = (preds == targets).float()\n",
        "            corrects.append(_corrects)\n",
        "\n",
        "    acc = torch.cat(corrects).mean()\n",
        "    return acc"
      ],
      "execution_count": 9,
      "outputs": []
    },
    {
      "cell_type": "code",
      "metadata": {
        "id": "TmJMtyV25mrh"
      },
      "source": [
        "ndf = NDF().cuda()\n",
        "ndf_optim = torch.optim.Adam(ndf.parameters(), lr=0.001)"
      ],
      "execution_count": 10,
      "outputs": []
    },
    {
      "cell_type": "code",
      "metadata": {
        "id": "YLOjyh-iXbfm"
      },
      "source": [
        "criteria = 0.80\n",
        "iter_size = 10000\n",
        "b = 0"
      ],
      "execution_count": 11,
      "outputs": []
    },
    {
      "cell_type": "code",
      "metadata": {
        "id": "aQIMvJuk7dfu"
      },
      "source": [
        "for ep in tqdm(range(args.episode_size)):\n",
        "    learner = ResNet18().cuda()\n",
        "    device = check_device(learner)\n",
        "    learner_optim = torch.optim.Adam(learner.parameters(), lr=0.01)\n",
        "    learner_optim = torch.optim.SGD(learner.parameters(), lr=0.01, momentum=0.9, weight_decay=5e-4)\n",
        "    scheduler = torch.optim.lr_scheduler.CosineAnnealingLR(learner_optim, T_max=iter_size)\n",
        "\n",
        "    rt = 0.\n",
        "    reward_hist, state_hist, action_hist = [], [], []\n",
        "    pbar = tqdm(range(iter_size))\n",
        "    for t in pbar:\n",
        "        learner.train()\n",
        "\n",
        "        inputs, targets = next(iter(train_loader))\n",
        "        inputs, targets = inputs.to(device), targets.to(device)\n",
        "\n",
        "        states = inputs\n",
        "        action_prob = torch.sigmoid(ndf(states)).squeeze()\n",
        "        action = torch.distributions.Bernoulli(action_prob).sample()\n",
        "        state_hist.append(states)\n",
        "        action_hist.append(action)\n",
        "\n",
        "        inputs, targets = inputs[action.bool()], targets[action.bool()]\n",
        "        logits = learner(inputs)\n",
        "        loss = F.cross_entropy(logits, targets)\n",
        "\n",
        "        learner_optim.zero_grad()\n",
        "        loss.backward()\n",
        "        learner_optim.step()\n",
        "        scheduler.step()\n",
        "\n",
        "        rt = valid_accuracy(learner, val_loader)\n",
        "        reward_hist.append(rt)\n",
        "        pbar.set_postfix({'val_acc': float(rt)})\n",
        "        if rt > criteria:\n",
        "            break\n",
        "\n",
        "    rl = -np.log(len(reward_hist) / iter_size)\n",
        "    b = 0.8 * b + 0.2 * rl\n",
        "\n",
        "    for i in range(len(state_hist)):\n",
        "        state = state_hist[i]\n",
        "        action = action_hist[i]\n",
        "\n",
        "        prob = torch.sigmoid(ndf(state))\n",
        "        loss = -torch.distributions.Bernoulli(prob).log_prob(action.unsqueeze(1)) * rl\n",
        "        loss = loss.mean()\n",
        "        loss.backward()\n",
        "    \n",
        "    ndf_optim.step()"
      ],
      "execution_count": null,
      "outputs": []
    }
  ]
}