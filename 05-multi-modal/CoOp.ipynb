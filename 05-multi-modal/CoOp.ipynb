{
 "cells": [
  {
   "cell_type": "markdown",
   "id": "ab413625-5012-44d2-9c6c-2d0aa009da9a",
   "metadata": {},
   "source": [
    "# CoOp"
   ]
  },
  {
   "cell_type": "markdown",
   "id": "147a42ea-8fd5-4de3-8999-d78b8d31db53",
   "metadata": {},
   "source": [
    "## CoOp"
   ]
  },
  {
   "cell_type": "markdown",
   "id": "72579d12-c0e3-4ef6-86f8-5931f7e346b2",
   "metadata": {},
   "source": [
    "## 0. Info"
   ]
  },
  {
   "cell_type": "markdown",
   "id": "923ab758-61f6-4486-b30d-276985a540aa",
   "metadata": {},
   "source": [
    "### Paper\n",
    "* title: Learning to Prompt for Vision-Language Models\n",
    "* author: Kaiyang Zhou et al.\n",
    "* url: https://arxiv.org/abs/2109.01134\n",
    "\n",
    "\n",
    "### Features\n",
    "* dataset: sports-100\n",
    "* train projection layer\n",
    "\n",
    "### Referecnes\n",
    "* https://huggingface.co/docs/transformers/v4.21.0/en/model_doc/clip"
   ]
  },
  {
   "cell_type": "markdown",
   "id": "1d9fcb33-2f4a-40c9-9a24-51b1b3b50013",
   "metadata": {},
   "source": [
    "## 1. Setup"
   ]
  },
  {
   "cell_type": "code",
   "execution_count": 1,
   "id": "6f84f2e9-4335-458a-b04c-b12890148d8d",
   "metadata": {},
   "outputs": [],
   "source": [
    "import einops\n",
    "import easydict\n",
    "import numpy as np\n",
    "import pandas as pd\n",
    "import scipy.io as sio\n",
    "from PIL import Image\n",
    "from glob import glob\n",
    "from tqdm.auto import tqdm\n",
    "\n",
    "import torch\n",
    "import torch.nn as nn\n",
    "import torch.nn.functional as F\n",
    "import torchvision\n",
    "\n",
    "from transformers import CLIPProcessor, CLIPModel"
   ]
  },
  {
   "cell_type": "code",
   "execution_count": 2,
   "id": "de48046c-e97d-431d-86d7-1d046869475c",
   "metadata": {},
   "outputs": [],
   "source": [
    "cfg = easydict.EasyDict(\n",
    "    device = 'cuda:0',\n",
    "    pretrained = 'openai/clip-vit-base-patch32',\n",
    "    prefix_length = 32,\n",
    "    num_training_steps = 1000,\n",
    "    k = 16\n",
    ")"
   ]
  },
  {
   "cell_type": "markdown",
   "id": "90b60763-41cd-4543-9323-21c129d6a79c",
   "metadata": {},
   "source": [
    "## 2. Data"
   ]
  },
  {
   "cell_type": "code",
   "execution_count": 3,
   "id": "21469ffc-0e77-4f71-b442-d97a71da3a8c",
   "metadata": {},
   "outputs": [],
   "source": [
    "def find_samples(split, k):\n",
    "    samples = []\n",
    "    classes = sorted(glob(f'sports-100/{split}/*'))\n",
    "    for c in classes:\n",
    "        class_samples = sorted(glob(f'{c}/*.jpg'))\n",
    "        if split == 'train':\n",
    "            samples += np.random.choice(class_samples, k, replace=False).tolist()\n",
    "        else:\n",
    "            samples += class_samples\n",
    "    \n",
    "    classes = [i.split('/')[-1] for i in classes]\n",
    "    return samples, classes\n",
    "\n",
    "\n",
    "class Dataset(torch.utils.data.Dataset):\n",
    "    def __init__(self, split, k=4):\n",
    "        self.samples, self.classes = find_samples(split, k)\n",
    "        \n",
    "    def __len__(self):\n",
    "        return len(self.samples)\n",
    "    \n",
    "    \n",
    "    def __getitem__(self, idx):\n",
    "        item = self.samples[idx]\n",
    "        class_name = item.split('/')[-2]\n",
    "        \n",
    "        img = Image.open(item).convert(\"RGB\")\n",
    "        class_id = self.classes.index(class_name)\n",
    "        return img, class_id    \n",
    "\n",
    "    \n",
    "def collate_fn(batch, processor, prefix_length):\n",
    "    images, labels = map(list, zip(*batch))\n",
    "    inputs = processor(images=images, return_tensors='pt')\n",
    "    return inputs.pixel_values, torch.tensor(labels)"
   ]
  },
  {
   "cell_type": "code",
   "execution_count": 4,
   "id": "27edf46c-798c-4745-add8-f603ba13f570",
   "metadata": {},
   "outputs": [],
   "source": [
    "processor = CLIPProcessor.from_pretrained(cfg.pretrained)"
   ]
  },
  {
   "cell_type": "code",
   "execution_count": 5,
   "id": "79f2dc83-8b8a-457d-a8ee-ebfc9dd64f5f",
   "metadata": {},
   "outputs": [],
   "source": [
    "train_dataset = Dataset('train', cfg.k)\n",
    "eval_dataset = Dataset('test')\n",
    "\n",
    "train_loader = torch.utils.data.DataLoader(train_dataset, batch_size=16, shuffle=True, collate_fn=lambda batch: collate_fn(batch, processor, cfg.prefix_length))\n",
    "eval_loader = torch.utils.data.DataLoader(eval_dataset, batch_size=16, shuffle=False, collate_fn=lambda batch: collate_fn(batch, processor, cfg.prefix_length))"
   ]
  },
  {
   "cell_type": "code",
   "execution_count": 6,
   "id": "4834937b-5afa-4510-ac96-2196a6525bde",
   "metadata": {},
   "outputs": [
    {
     "name": "stderr",
     "output_type": "stream",
     "text": [
      "/opt/conda/lib/python3.7/site-packages/transformers/tokenization_utils_base.py:2312: UserWarning: `max_length` is ignored when `padding`=`True` and there is no truncation strategy. To pad to max length, use `padding='max_length'`.\n",
      "  \"`max_length` is ignored when `padding`=`True` and there is no truncation strategy. \"\n"
     ]
    }
   ],
   "source": [
    "class_input_ids = processor(text=train_dataset.classes, max_length=32, padding=True, return_tensors='pt').input_ids.to(cfg.device)"
   ]
  },
  {
   "cell_type": "code",
   "execution_count": 7,
   "id": "dff1699e-7df3-404e-a655-58cb7b31904c",
   "metadata": {},
   "outputs": [
    {
     "data": {
      "text/plain": [
       "(torch.Size([16, 3, 224, 224]), torch.Size([100, 6]))"
      ]
     },
     "execution_count": 7,
     "metadata": {},
     "output_type": "execute_result"
    }
   ],
   "source": [
    "inputs, labels = next(iter(train_loader))\n",
    "inputs.size(), class_input_ids.size()"
   ]
  },
  {
   "cell_type": "markdown",
   "id": "9373f10b-6c17-44a2-9d16-d6201a54c4fa",
   "metadata": {},
   "source": [
    "## 3. Model"
   ]
  },
  {
   "cell_type": "code",
   "execution_count": 8,
   "id": "e2340fef-612f-43b8-801c-601d3755c74f",
   "metadata": {},
   "outputs": [],
   "source": [
    "class Prefix(nn.Module):\n",
    "    def __init__(self, prefix_length, hidden_size):\n",
    "        super().__init__()\n",
    "        self.prefix_length = prefix_length\n",
    "        self.input_tokens = torch.arange(prefix_length).long()\n",
    "        self.embeddings = nn.Embedding(prefix_length, hidden_size)\n",
    "        self.linear = nn.Linear(512, 512)\n",
    "        \n",
    "    def forward(self, input_ids):\n",
    "        bs = input_ids.size(0)\n",
    "        input_tokens = einops.repeat(self.input_tokens, 'seq -> bs seq', bs=bs).to(input_ids.device)\n",
    "        prefix_embeds = self.embeddings(input_tokens)\n",
    "        return prefix_embeds\n",
    "\n",
    "\n",
    "def get_text_features(model, prefix, class_input_ids):\n",
    "    bsz, seq_len = class_input_ids.size()\n",
    "    seq_len += prefix.prefix_length\n",
    "    \n",
    "    inputs_embeds = model.text_model.embeddings(class_input_ids)\n",
    "    prefix_embeds = prefix(class_input_ids)\n",
    "    hidden_states = torch.cat([prefix_embeds, inputs_embeds], dim=1)\n",
    "    # hidden_states = inputs_embeds\n",
    "        \n",
    "    causal_attention_mask = model.text_model._build_causal_attention_mask(bsz, seq_len, hidden_states.dtype).to(hidden_states.device)\n",
    "    encoder_outputs = model.text_model.encoder(\n",
    "        inputs_embeds=hidden_states,\n",
    "        causal_attention_mask=causal_attention_mask,\n",
    "        attention_mask=None,\n",
    "        output_attentions=False,\n",
    "        output_hidden_states=False,\n",
    "        return_dict=True,\n",
    "    )\n",
    "    \n",
    "    last_hidden_state = encoder_outputs[0]\n",
    "    last_hidden_state = model.text_model.final_layer_norm(last_hidden_state)\n",
    "    pooled_output = last_hidden_state[torch.arange(last_hidden_state.shape[0]), class_input_ids.argmax(dim=-1) + prefix.prefix_length]\n",
    "    # pooled_output = last_hidden_state[torch.arange(last_hidden_state.shape[0]), class_input_ids.argmax(dim=-1)]\n",
    "\n",
    "    text_features = prefix.linear(pooled_output)\n",
    "    return text_features"
   ]
  },
  {
   "cell_type": "code",
   "execution_count": 9,
   "id": "072870f2-6c89-43fb-832f-b7a67ae1b59b",
   "metadata": {},
   "outputs": [],
   "source": [
    "model = CLIPModel.from_pretrained(cfg.pretrained).eval().to(cfg.device)"
   ]
  },
  {
   "cell_type": "code",
   "execution_count": 10,
   "id": "43a126c0-714d-4610-9927-31d3f2b888a1",
   "metadata": {},
   "outputs": [],
   "source": [
    "prefix = Prefix(cfg.prefix_length, model.config.projection_dim).to(cfg.device)\n",
    "optimizer = torch.optim.Adam(prefix.parameters(), lr=1e-4, weight_decay=1e-2)"
   ]
  },
  {
   "cell_type": "markdown",
   "id": "c50d1ec6-93dc-41de-9cbd-4cf3ceeeb31e",
   "metadata": {},
   "source": [
    "## 4. Train"
   ]
  },
  {
   "cell_type": "code",
   "execution_count": 11,
   "id": "e3d5af27-c3c4-4096-b0e5-1c3bce37d3d8",
   "metadata": {},
   "outputs": [
    {
     "data": {
      "application/vnd.jupyter.widget-view+json": {
       "model_id": "8a6de557d8674c96879d31ab4ca686fa",
       "version_major": 2,
       "version_minor": 0
      },
      "text/plain": [
       "  0%|          | 0/1000 [00:00<?, ?it/s]"
      ]
     },
     "metadata": {},
     "output_type": "display_data"
    }
   ],
   "source": [
    "pbar = tqdm(range(cfg.num_training_steps))\n",
    "\n",
    "for st in pbar:\n",
    "    inputs, labels = next(iter(train_loader))\n",
    "    inputs, labels = inputs.to(cfg.device), labels.to(cfg.device)\n",
    "    \n",
    "    text_embeds = get_text_features(model, prefix, class_input_ids)\n",
    "    image_embeds = model.get_image_features(inputs)\n",
    "    image_embeds = image_embeds / image_embeds.norm(p=2, dim=-1, keepdim=True)\n",
    "    text_embeds = text_embeds / text_embeds.norm(p=2, dim=-1, keepdim=True)\n",
    "\n",
    "    logit_scale = model.logit_scale.exp()\n",
    "    logits = torch.matmul(image_embeds, text_embeds.T) * logit_scale\n",
    "    loss = F.cross_entropy(logits, labels)\n",
    "    \n",
    "    optimizer.zero_grad()\n",
    "    loss.backward()\n",
    "    optimizer.step()\n",
    "    \n",
    "    preds = logits.argmax(dim=-1)\n",
    "    acc = (preds == labels).float().mean()\n",
    "    pbar.set_postfix({'loss': loss.item(), 'acc': acc.item()})"
   ]
  },
  {
   "cell_type": "code",
   "execution_count": 12,
   "id": "9b16aafd-7e35-4040-8100-78af9c00a978",
   "metadata": {},
   "outputs": [
    {
     "data": {
      "application/vnd.jupyter.widget-view+json": {
       "model_id": "6602c3c91e7f4f129cfec930e38c0814",
       "version_major": 2,
       "version_minor": 0
      },
      "text/plain": [
       "  0%|          | 0/32 [00:00<?, ?it/s]"
      ]
     },
     "metadata": {},
     "output_type": "display_data"
    },
    {
     "name": "stdout",
     "output_type": "stream",
     "text": [
      "Accuracy: 89.60\n"
     ]
    }
   ],
   "source": [
    "preds, targets = [], []\n",
    "for inputs, labels in tqdm(eval_loader):\n",
    "    inputs, labels = inputs.to(cfg.device), labels.to(cfg.device)\n",
    "    \n",
    "    with torch.no_grad():\n",
    "        text_embeds = get_text_features(model, prefix, class_input_ids) \n",
    "        image_embeds = model.get_image_features(inputs)\n",
    "    image_embeds = image_embeds / image_embeds.norm(p=2, dim=-1, keepdim=True)\n",
    "    text_embeds = text_embeds / text_embeds.norm(p=2, dim=-1, keepdim=True)\n",
    "\n",
    "    logit_scale = model.logit_scale.exp()\n",
    "    logits = torch.matmul(image_embeds, text_embeds.T) * logit_scale\n",
    "    \n",
    "    preds.append(logits.argmax(dim=-1).cpu())\n",
    "    targets.append(labels.cpu())\n",
    "    \n",
    "    \n",
    "preds = torch.cat(preds, dim=0)\n",
    "targets = torch.cat(targets, dim=0)\n",
    "acc = (preds == targets).float().mean().item() * 100\n",
    "print(f'Accuracy: {acc:.2f}')"
   ]
  },
  {
   "cell_type": "code",
   "execution_count": null,
   "id": "c9a9d7cd-41bf-4364-87df-d34d3fefd000",
   "metadata": {},
   "outputs": [],
   "source": []
  }
 ],
 "metadata": {
  "kernelspec": {
   "display_name": "Python 3 (ipykernel)",
   "language": "python",
   "name": "python3"
  },
  "language_info": {
   "codemirror_mode": {
    "name": "ipython",
    "version": 3
   },
   "file_extension": ".py",
   "mimetype": "text/x-python",
   "name": "python",
   "nbconvert_exporter": "python",
   "pygments_lexer": "ipython3",
   "version": "3.7.11"
  }
 },
 "nbformat": 4,
 "nbformat_minor": 5
}
