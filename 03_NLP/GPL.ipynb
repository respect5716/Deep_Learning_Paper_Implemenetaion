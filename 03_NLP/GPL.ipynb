{
  "nbformat": 4,
  "nbformat_minor": 0,
  "metadata": {
    "colab": {
      "name": "GPL",
      "provenance": [],
      "collapsed_sections": [],
      "authorship_tag": "ABX9TyOwgGe7LEumIGkxZTNoxCPN",
      "include_colab_link": true
    },
    "kernelspec": {
      "name": "python3",
      "display_name": "Python 3"
    },
    "language_info": {
      "name": "python"
    }
  },
  "cells": [
    {
      "cell_type": "markdown",
      "metadata": {
        "id": "view-in-github",
        "colab_type": "text"
      },
      "source": [
        "<a href=\"https://colab.research.google.com/github/respect5716/deep-learning-paper-implementation/blob/main/03_NLP/GPL.ipynb\" target=\"_parent\"><img src=\"https://colab.research.google.com/assets/colab-badge.svg\" alt=\"Open In Colab\"/></a>"
      ]
    },
    {
      "cell_type": "markdown",
      "source": [
        "# GPL"
      ],
      "metadata": {
        "id": "DClvB1UA53FR"
      }
    },
    {
      "cell_type": "markdown",
      "source": [
        "## 0. Info\n",
        "### Paper\n",
        "* title: GPL: Generative Pseudo Labeling for Unsupervised Domain Adaptation of Dense Retrieval\n",
        "* author: Kexin Wang et al\n",
        "* url: https://arxiv.org/abs/2112.07577\n",
        "\n",
        "### Features\n",
        "* dataset: fiqa\n",
        "* num negatives: 10\n",
        "\n",
        "\n",
        "### Reference\n",
        "* https://github.com/UKPLab/gpl"
      ],
      "metadata": {
        "id": "z8Tfx3Hy55Yh"
      }
    },
    {
      "cell_type": "markdown",
      "source": [
        "## 1. Setup"
      ],
      "metadata": {
        "id": "Zg8vFIVI6cY8"
      }
    },
    {
      "cell_type": "code",
      "source": [
        "!pip install -q jsonlines datasets transformers sentence-transformers beir"
      ],
      "metadata": {
        "id": "ethN_H9D6eYO"
      },
      "execution_count": null,
      "outputs": []
    },
    {
      "cell_type": "code",
      "source": [
        "import random\n",
        "import easydict\n",
        "import jsonlines\n",
        "import numpy as np\n",
        "import pandas as pd\n",
        "from tqdm.auto import tqdm\n",
        "\n",
        "import torch\n",
        "import torch.nn as nn\n",
        "import torch.nn.functional as F\n",
        "\n",
        "from datasets import load_dataset\n",
        "from transformers import get_scheduler\n",
        "from transformers import AutoTokenizer, AutoModel, AutoModelForSeq2SeqLM\n",
        "from sentence_transformers import SentenceTransformer, CrossEncoder, InputExample\n",
        "\n",
        "from beir.retrieval import models\n",
        "from beir.datasets.data_loader import GenericDataLoader\n",
        "from beir.retrieval.evaluation import EvaluateRetrieval\n",
        "from beir.retrieval.search.dense import DenseRetrievalExactSearch "
      ],
      "metadata": {
        "id": "1inDe_9X6dAz"
      },
      "execution_count": null,
      "outputs": []
    },
    {
      "cell_type": "code",
      "source": [
        "cfg = easydict.EasyDict(\n",
        "    dataset = 'fiqa',\n",
        "    generator = 'BeIR/query-gen-msmarco-t5-base-v1',\n",
        "    retriever = 'msmarco-MiniLM-L-6-v3',\n",
        "    cross_encoder = 'cross-encoder/ms-marco-MiniLM-L-6-v2',\n",
        "    base_model = 'distilbert-base-uncased',\n",
        "    \n",
        "    qs_per_passage = 3,\n",
        "    num_negs = 10,\n",
        "    batch_size = 16,\n",
        "    scale = 1.,\n",
        "    num_training_steps = 10000,\n",
        "    \n",
        "    warmup_ratio = 0.05,\n",
        "    weight_decay = 1e-2,\n",
        "    lr = 1e-4,\n",
        "    max_grad_norm = 1.,\n",
        ")"
      ],
      "metadata": {
        "id": "rkoDKu1N6tqA"
      },
      "execution_count": null,
      "outputs": []
    },
    {
      "cell_type": "markdown",
      "source": [
        "## 2. Data"
      ],
      "metadata": {
        "id": "P--qRbrx6vs5"
      }
    },
    {
      "cell_type": "code",
      "source": [
        "url = f\"https://public.ukp.informatik.tu-darmstadt.de/thakur/BEIR/datasets/{cfg.dataset}.zip\"\n",
        "!wget \"{url}\"\n",
        "!unzip \"{cfg.dataset}.zip\""
      ],
      "metadata": {
        "id": "MlZT4etD6wTF"
      },
      "execution_count": null,
      "outputs": []
    },
    {
      "cell_type": "code",
      "source": [
        "corpus = []\n",
        "with jsonlines.open(f'{cfg.dataset}/corpus.jsonl') as f:\n",
        "    for line in f:\n",
        "        line.pop('metadata')\n",
        "        corpus.append(line)\n",
        "\n",
        "corpus = pd.DataFrame(corpus)\n",
        "corpus['concat'] = corpus['title'] + ' ' + corpus['text']\n",
        "\n",
        "corpus.to_csv('corpus.csv', index=False)\n",
        "corpus.head()"
      ],
      "metadata": {
        "id": "XUlHVhhg623x"
      },
      "execution_count": null,
      "outputs": []
    },
    {
      "cell_type": "markdown",
      "source": [
        "## 3, Generate queries"
      ],
      "metadata": {
        "id": "_hs6SDxw63nJ"
      }
    },
    {
      "cell_type": "code",
      "source": [
        "corpus = pd.read_csv('corpus.csv')"
      ],
      "metadata": {
        "id": "xpaObb0W69uk"
      },
      "execution_count": null,
      "outputs": []
    },
    {
      "cell_type": "code",
      "source": [
        "tokenizer = AutoTokenizer.from_pretrained(cfg.generator)\n",
        "generator = AutoModelForSeq2SeqLM.from_pretrained(cfg.generator)\n",
        "_ = generator.to('cuda').eval()"
      ],
      "metadata": {
        "id": "Ked7gpqk66YK"
      },
      "execution_count": null,
      "outputs": []
    },
    {
      "cell_type": "code",
      "source": [
        "queries = []\n",
        "for i in tqdm(range(0, len(corpus), cfg.batch_size)):\n",
        "    batch = corpus.iloc[i:i+cfg.batch_size].to_dict('records')\n",
        "    ids = [b['_id'] for b in batch]\n",
        "    texts = [b['concat'] for b in batch]\n",
        "    inputs = tokenizer(texts, padding=True, truncation=True, return_tensors='pt')\n",
        "    inputs = inputs.to(generator.device)\n",
        "    \n",
        "    with torch.no_grad():\n",
        "        outputs = generator.generate(\n",
        "            **inputs, \n",
        "            do_sample = True, \n",
        "            max_length = 64, \n",
        "            top_k = 25, \n",
        "            top_p = 0.95, \n",
        "            num_return_sequences = cfg.qs_per_passage\n",
        "        )\n",
        "        \n",
        "    outputs = tokenizer.batch_decode(outputs, skip_special_tokens=True)\n",
        "    queries += [{'query': o, 'pos': i+j//cfg.qs_per_passage} for j, o in enumerate(outputs)]"
      ],
      "metadata": {
        "id": "dgSR5P8H676C"
      },
      "execution_count": null,
      "outputs": []
    },
    {
      "cell_type": "code",
      "source": [
        "queries = pd.DataFrame(queries)\n",
        "queries.to_csv('queries.csv', index=False)"
      ],
      "metadata": {
        "id": "xGxkReYY68x2"
      },
      "execution_count": null,
      "outputs": []
    },
    {
      "cell_type": "markdown",
      "source": [
        "## 4. Mine negatives"
      ],
      "metadata": {
        "id": "HbFMGtBr7Art"
      }
    },
    {
      "cell_type": "code",
      "source": [
        "corpus = pd.read_csv('corpus.csv')\n",
        "queries = pd.read_csv('queries.csv')"
      ],
      "metadata": {
        "id": "UOcsJXTK7CXF"
      },
      "execution_count": null,
      "outputs": []
    },
    {
      "cell_type": "code",
      "source": [
        "retriever = SentenceTransformer(cfg.retriever)"
      ],
      "metadata": {
        "id": "9YmqshjA7Dnq"
      },
      "execution_count": null,
      "outputs": []
    },
    {
      "cell_type": "code",
      "source": [
        "docs = corpus['concat'].tolist()\n",
        "doc_embs = retriever.encode(docs, batch_size=128, show_progress_bar=True, convert_to_tensor=True, normalize_embeddings=True)"
      ],
      "metadata": {
        "id": "_1M3dez27Edn"
      },
      "execution_count": null,
      "outputs": []
    },
    {
      "cell_type": "code",
      "source": [
        "negs = []\n",
        "for i in tqdm(range(0, len(queries), cfg.batch_size)):\n",
        "    batch = queries.iloc[i:i+cfg.batch_size].to_dict('records')\n",
        "    texts = [b['query'] for b in batch]\n",
        "    \n",
        "    q_emb = retriever.encode(texts, show_progress_bar=False, convert_to_tensor=True, normalize_embeddings=True)\n",
        "    score = torch.matmul(q_emb, doc_embs.T)\n",
        "    _, indices = score.topk(k=cfg.num_negs, dim=-1)\n",
        "    negs += indices.tolist()\n",
        "queries['neg'] = negs"
      ],
      "metadata": {
        "id": "lsTt1KK_7FSe"
      },
      "execution_count": null,
      "outputs": []
    },
    {
      "cell_type": "code",
      "source": [
        "queries['neg'] = queries.apply(lambda x: [n for n in x['neg'] if n != x['pos']], axis=1)\n",
        "queries = queries.explode('neg')\n",
        "queries.to_csv('negatives.csv', index=False)"
      ],
      "metadata": {
        "id": "d5D6nARH7Hjw"
      },
      "execution_count": null,
      "outputs": []
    },
    {
      "cell_type": "markdown",
      "source": [
        "## 5. Pseudo labeling"
      ],
      "metadata": {
        "id": "IwJ6SiRV7H1m"
      }
    },
    {
      "cell_type": "code",
      "source": [
        "corpus = pd.read_csv('corpus.csv')\n",
        "queries = pd.read_csv('negatives.csv')\n",
        "pos = queries.drop_duplicates(subset=['query', 'pos'])"
      ],
      "metadata": {
        "id": "G_VVaQs07Jtl"
      },
      "execution_count": null,
      "outputs": []
    },
    {
      "cell_type": "code",
      "source": [
        "retokenizer = AutoTokenizer.from_pretrained(cfg.cross_encoder)\n",
        "cross_encoder = CrossEncoder(cfg.cross_encoder)"
      ],
      "metadata": {
        "id": "Nv5iQys-7K2h"
      },
      "execution_count": null,
      "outputs": []
    },
    {
      "cell_type": "code",
      "source": [
        "# positive scores\n",
        "score = []\n",
        "for i in tqdm(range(0, len(pos), cfg.batch_size)):\n",
        "    batch = pos.iloc[i:i+cfg.batch_size].to_dict('records')\n",
        "    qs = [b['query'] for b in batch]\n",
        "    docs = [corpus.iloc[b['pos']]['concat'] for b in batch]\n",
        "    score += cross_encoder.predict(list(zip(qs, docs))).tolist()\n",
        "pos['pos_score'] = score\n",
        "pos = pos.drop('neg', axis=1)"
      ],
      "metadata": {
        "id": "IIBJIBK57Lm8"
      },
      "execution_count": null,
      "outputs": []
    },
    {
      "cell_type": "code",
      "source": [
        "# negative scores\n",
        "score = []\n",
        "for i in tqdm(range(0, len(queries), cfg.batch_size)):\n",
        "    batch = queries.iloc[i:i+cfg.batch_size].to_dict('records')\n",
        "    qs = [b['query'] for b in batch]\n",
        "    docs = [corpus.iloc[b['neg']]['concat'] for b in batch]\n",
        "    score += cross_encoder.predict(list(zip(qs, docs))).tolist()\n",
        "queries['neg_score'] = score"
      ],
      "metadata": {
        "id": "qwOTSx0h7Muh"
      },
      "execution_count": null,
      "outputs": []
    },
    {
      "cell_type": "code",
      "source": [
        "queries = pd.merge(queries, pos, on=['query', 'pos'], how='left')\n",
        "queries['labels'] = queries['pos_score'] - queries['neg_score']\n",
        "queries.to_csv('pseudo-labels.csv', index=False)\n",
        "queries.head()"
      ],
      "metadata": {
        "id": "aKWlvPa_7Nqr"
      },
      "execution_count": null,
      "outputs": []
    },
    {
      "cell_type": "markdown",
      "source": [
        "## 6. Train"
      ],
      "metadata": {
        "id": "A1RJpLtu7SCI"
      }
    },
    {
      "cell_type": "code",
      "source": [
        "def get_param_groups(model, weight_decay):\n",
        "    no_decay = [\"bias\", \"bn\", \"ln\", \"norm\"]\n",
        "    param_groups = [\n",
        "        {\n",
        "            # apply weight decay\n",
        "            \"params\": [p for n, p in model.named_parameters() if not any(nd in n.lower() for nd in no_decay)],\n",
        "            \"weight_decay\": weight_decay\n",
        "        },\n",
        "        {\n",
        "            # not apply weight decay\n",
        "            \"params\": [p for n, p in model.named_parameters() if any(nd in n.lower() for nd in no_decay)],\n",
        "            \"weight_decay\": 0.0,\n",
        "        },\n",
        "    ]\n",
        "    return param_groups\n",
        "\n",
        "def margin_mse_fn(qemb, pemb, nemb, labels, scale, normalize=False):\n",
        "    if normalize:\n",
        "        qemb = F.normalize(qemb, dim=-1)\n",
        "        pemb = F.normalize(pemb, dim=-1)\n",
        "        nemb = F.normalize(nemb, dim=-1)\n",
        "\n",
        "    pscore = (qemb * pemb).sum(dim=-1) * scale\n",
        "    nscore = (qemb * nemb).sum(dim=-1) * scale\n",
        "    margin_pred = pscore - nscore\n",
        "    loss = F.mse_loss(margin_pred, labels)\n",
        "    return loss"
      ],
      "metadata": {
        "id": "OyPSQfLm7S-D"
      },
      "execution_count": null,
      "outputs": []
    },
    {
      "cell_type": "code",
      "source": [
        "corpus = pd.read_csv('corpus.csv')\n",
        "corpus = corpus['concat'].tolist()\n",
        "\n",
        "data = pd.read_csv('pseudo-labels.csv')"
      ],
      "metadata": {
        "id": "KAtykDtb7UrG"
      },
      "execution_count": null,
      "outputs": []
    },
    {
      "cell_type": "code",
      "source": [
        "model = SentenceTransformer(cfg.base_model).to('cuda')\n",
        "param_groups = get_param_groups(model, cfg.weight_decay)\n",
        "optimizer = torch.optim.AdamW(param_groups, lr=cfg.lr, weight_decay=cfg.weight_decay)\n",
        "num_warmup_steps = int(cfg.num_training_steps * cfg.warmup_ratio)\n",
        "scheduler = get_scheduler('linear', optimizer, num_training_steps=cfg.num_training_steps, num_warmup_steps=num_warmup_steps)"
      ],
      "metadata": {
        "id": "ogix4hZC7WS3"
      },
      "execution_count": null,
      "outputs": []
    },
    {
      "cell_type": "code",
      "source": [
        "pbar = tqdm(range(1, cfg.num_training_steps+1))\n",
        "for st in pbar:\n",
        "    batch_idx = np.random.randint(0, len(data), cfg.batch_size)\n",
        "    batch = data.iloc[batch_idx].to_dict('records')\n",
        "    query = [b['query'] for b in batch]\n",
        "    pos = [corpus[b['pos']] for b in batch]\n",
        "    neg = [corpus[b['neg']] for b in batch]\n",
        "    labels = [b['labels'] for b in batch]\n",
        "\n",
        "    batch = [InputExample(texts=[q, p, n], label=l) for q,p,n,l in zip(query, pos, neg, labels)]\n",
        "    inputs, labels = model.smart_batching_collate(batch)\n",
        "    qemb, pemb, nemb = [model(ipt)['sentence_embedding'] for ipt in inputs]\n",
        "    loss = margin_mse_fn(qemb, pemb, nemb, labels, cfg.scale)\n",
        "\n",
        "    optimizer.zero_grad()\n",
        "    loss.backward()\n",
        "    torch.nn.utils.clip_grad_norm_(model.parameters(), cfg.max_grad_norm)\n",
        "    optimizer.step()\n",
        "    scheduler.step()\n",
        "    pbar.set_postfix({'loss': loss.item()})\n",
        "        \n",
        "    if st % 1000 == 0:\n",
        "        model.save('transformers')"
      ],
      "metadata": {
        "id": "myMKK_LK7Xex"
      },
      "execution_count": null,
      "outputs": []
    },
    {
      "cell_type": "markdown",
      "source": [
        "## 7. Evaluate"
      ],
      "metadata": {
        "id": "cn58nxXq7Yj_"
      }
    },
    {
      "cell_type": "code",
      "source": [
        "corpus, queries, qrels = GenericDataLoader(cfg.dataset).load(split=\"test\")"
      ],
      "metadata": {
        "id": "IobhiJt_7ZWv"
      },
      "execution_count": null,
      "outputs": []
    },
    {
      "cell_type": "code",
      "source": [
        "# transformer = SentenceTransformer(cfg.base_model)\n",
        "transformer = SentenceTransformer('transformers')\n",
        "sbert = models.SentenceBERT(sep=' ')\n",
        "sbert.q_model = transformer\n",
        "sbert.doc_model = transformer"
      ],
      "metadata": {
        "id": "aSIMkNrn7aYM"
      },
      "execution_count": null,
      "outputs": []
    },
    {
      "cell_type": "code",
      "source": [
        "model = DenseRetrievalExactSearch(sbert, batch_size=16)\n",
        "retriever = EvaluateRetrieval(model, score_function='cos_sim') "
      ],
      "metadata": {
        "id": "KEx8eQY07bV8"
      },
      "execution_count": null,
      "outputs": []
    },
    {
      "cell_type": "code",
      "source": [
        "results = retriever.retrieve(corpus, queries)"
      ],
      "metadata": {
        "id": "-k6gQrtr7cIP"
      },
      "execution_count": null,
      "outputs": []
    },
    {
      "cell_type": "code",
      "source": [
        "# gpl 10k\n",
        "ndcg, _map, recall, precision = EvaluateRetrieval.evaluate(qrels, results, k_values=[10])\n",
        "mrr = EvaluateRetrieval.evaluate_custom(qrels, results, k_values=[10,], metric='mrr')\n",
        "ndcg, _map, recall, precision, mrr"
      ],
      "metadata": {
        "id": "cK84feuL7dEc"
      },
      "execution_count": null,
      "outputs": []
    }
  ]
}