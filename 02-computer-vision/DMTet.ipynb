{
  "nbformat": 4,
  "nbformat_minor": 0,
  "metadata": {
    "colab": {
      "provenance": [],
      "collapsed_sections": [],
      "authorship_tag": "ABX9TyPkcfgYTUHu/jf9vu2skRv5",
      "include_colab_link": true
    },
    "kernelspec": {
      "name": "python3",
      "display_name": "Python 3"
    },
    "language_info": {
      "name": "python"
    },
    "accelerator": "GPU",
    "gpuClass": "standard",
    "widgets": {
      "application/vnd.jupyter.widget-state+json": {
        "b3f880e1ea0b477fb6332c3451546a8a": {
          "model_module": "@jupyter-widgets/controls",
          "model_name": "HBoxModel",
          "model_module_version": "1.5.0",
          "state": {
            "_dom_classes": [],
            "_model_module": "@jupyter-widgets/controls",
            "_model_module_version": "1.5.0",
            "_model_name": "HBoxModel",
            "_view_count": null,
            "_view_module": "@jupyter-widgets/controls",
            "_view_module_version": "1.5.0",
            "_view_name": "HBoxView",
            "box_style": "",
            "children": [
              "IPY_MODEL_3c9ec786542049c08f9da999a2d816de",
              "IPY_MODEL_6403f271d923496787515457f07bd5dd",
              "IPY_MODEL_7cdf8dc4e53f4e8782ef74e7b06f8198"
            ],
            "layout": "IPY_MODEL_3a099b0cdcfe447488d43fc123d161c4"
          }
        },
        "3c9ec786542049c08f9da999a2d816de": {
          "model_module": "@jupyter-widgets/controls",
          "model_name": "HTMLModel",
          "model_module_version": "1.5.0",
          "state": {
            "_dom_classes": [],
            "_model_module": "@jupyter-widgets/controls",
            "_model_module_version": "1.5.0",
            "_model_name": "HTMLModel",
            "_view_count": null,
            "_view_module": "@jupyter-widgets/controls",
            "_view_module_version": "1.5.0",
            "_view_name": "HTMLView",
            "description": "",
            "description_tooltip": null,
            "layout": "IPY_MODEL_5935b2e153354186ab82179d11dd85c7",
            "placeholder": "​",
            "style": "IPY_MODEL_0378dd62730b434db5661d7ebd6e516b",
            "value": "100%"
          }
        },
        "6403f271d923496787515457f07bd5dd": {
          "model_module": "@jupyter-widgets/controls",
          "model_name": "FloatProgressModel",
          "model_module_version": "1.5.0",
          "state": {
            "_dom_classes": [],
            "_model_module": "@jupyter-widgets/controls",
            "_model_module_version": "1.5.0",
            "_model_name": "FloatProgressModel",
            "_view_count": null,
            "_view_module": "@jupyter-widgets/controls",
            "_view_module_version": "1.5.0",
            "_view_name": "ProgressView",
            "bar_style": "success",
            "description": "",
            "description_tooltip": null,
            "layout": "IPY_MODEL_5ded82c4797f4524ad12e12b60845959",
            "max": 1000,
            "min": 0,
            "orientation": "horizontal",
            "style": "IPY_MODEL_796a3139deff4c04a6ebff183266f380",
            "value": 1000
          }
        },
        "7cdf8dc4e53f4e8782ef74e7b06f8198": {
          "model_module": "@jupyter-widgets/controls",
          "model_name": "HTMLModel",
          "model_module_version": "1.5.0",
          "state": {
            "_dom_classes": [],
            "_model_module": "@jupyter-widgets/controls",
            "_model_module_version": "1.5.0",
            "_model_name": "HTMLModel",
            "_view_count": null,
            "_view_module": "@jupyter-widgets/controls",
            "_view_module_version": "1.5.0",
            "_view_name": "HTMLView",
            "description": "",
            "description_tooltip": null,
            "layout": "IPY_MODEL_183c56ce965048f6b1139a5199b381de",
            "placeholder": "​",
            "style": "IPY_MODEL_cba81a2f48654dadad8fec65cf7c3cc1",
            "value": " 1000/1000 [00:05&lt;00:00, 191.55it/s, loss=1.14e-5]"
          }
        },
        "3a099b0cdcfe447488d43fc123d161c4": {
          "model_module": "@jupyter-widgets/base",
          "model_name": "LayoutModel",
          "model_module_version": "1.2.0",
          "state": {
            "_model_module": "@jupyter-widgets/base",
            "_model_module_version": "1.2.0",
            "_model_name": "LayoutModel",
            "_view_count": null,
            "_view_module": "@jupyter-widgets/base",
            "_view_module_version": "1.2.0",
            "_view_name": "LayoutView",
            "align_content": null,
            "align_items": null,
            "align_self": null,
            "border": null,
            "bottom": null,
            "display": null,
            "flex": null,
            "flex_flow": null,
            "grid_area": null,
            "grid_auto_columns": null,
            "grid_auto_flow": null,
            "grid_auto_rows": null,
            "grid_column": null,
            "grid_gap": null,
            "grid_row": null,
            "grid_template_areas": null,
            "grid_template_columns": null,
            "grid_template_rows": null,
            "height": null,
            "justify_content": null,
            "justify_items": null,
            "left": null,
            "margin": null,
            "max_height": null,
            "max_width": null,
            "min_height": null,
            "min_width": null,
            "object_fit": null,
            "object_position": null,
            "order": null,
            "overflow": null,
            "overflow_x": null,
            "overflow_y": null,
            "padding": null,
            "right": null,
            "top": null,
            "visibility": null,
            "width": null
          }
        },
        "5935b2e153354186ab82179d11dd85c7": {
          "model_module": "@jupyter-widgets/base",
          "model_name": "LayoutModel",
          "model_module_version": "1.2.0",
          "state": {
            "_model_module": "@jupyter-widgets/base",
            "_model_module_version": "1.2.0",
            "_model_name": "LayoutModel",
            "_view_count": null,
            "_view_module": "@jupyter-widgets/base",
            "_view_module_version": "1.2.0",
            "_view_name": "LayoutView",
            "align_content": null,
            "align_items": null,
            "align_self": null,
            "border": null,
            "bottom": null,
            "display": null,
            "flex": null,
            "flex_flow": null,
            "grid_area": null,
            "grid_auto_columns": null,
            "grid_auto_flow": null,
            "grid_auto_rows": null,
            "grid_column": null,
            "grid_gap": null,
            "grid_row": null,
            "grid_template_areas": null,
            "grid_template_columns": null,
            "grid_template_rows": null,
            "height": null,
            "justify_content": null,
            "justify_items": null,
            "left": null,
            "margin": null,
            "max_height": null,
            "max_width": null,
            "min_height": null,
            "min_width": null,
            "object_fit": null,
            "object_position": null,
            "order": null,
            "overflow": null,
            "overflow_x": null,
            "overflow_y": null,
            "padding": null,
            "right": null,
            "top": null,
            "visibility": null,
            "width": null
          }
        },
        "0378dd62730b434db5661d7ebd6e516b": {
          "model_module": "@jupyter-widgets/controls",
          "model_name": "DescriptionStyleModel",
          "model_module_version": "1.5.0",
          "state": {
            "_model_module": "@jupyter-widgets/controls",
            "_model_module_version": "1.5.0",
            "_model_name": "DescriptionStyleModel",
            "_view_count": null,
            "_view_module": "@jupyter-widgets/base",
            "_view_module_version": "1.2.0",
            "_view_name": "StyleView",
            "description_width": ""
          }
        },
        "5ded82c4797f4524ad12e12b60845959": {
          "model_module": "@jupyter-widgets/base",
          "model_name": "LayoutModel",
          "model_module_version": "1.2.0",
          "state": {
            "_model_module": "@jupyter-widgets/base",
            "_model_module_version": "1.2.0",
            "_model_name": "LayoutModel",
            "_view_count": null,
            "_view_module": "@jupyter-widgets/base",
            "_view_module_version": "1.2.0",
            "_view_name": "LayoutView",
            "align_content": null,
            "align_items": null,
            "align_self": null,
            "border": null,
            "bottom": null,
            "display": null,
            "flex": null,
            "flex_flow": null,
            "grid_area": null,
            "grid_auto_columns": null,
            "grid_auto_flow": null,
            "grid_auto_rows": null,
            "grid_column": null,
            "grid_gap": null,
            "grid_row": null,
            "grid_template_areas": null,
            "grid_template_columns": null,
            "grid_template_rows": null,
            "height": null,
            "justify_content": null,
            "justify_items": null,
            "left": null,
            "margin": null,
            "max_height": null,
            "max_width": null,
            "min_height": null,
            "min_width": null,
            "object_fit": null,
            "object_position": null,
            "order": null,
            "overflow": null,
            "overflow_x": null,
            "overflow_y": null,
            "padding": null,
            "right": null,
            "top": null,
            "visibility": null,
            "width": null
          }
        },
        "796a3139deff4c04a6ebff183266f380": {
          "model_module": "@jupyter-widgets/controls",
          "model_name": "ProgressStyleModel",
          "model_module_version": "1.5.0",
          "state": {
            "_model_module": "@jupyter-widgets/controls",
            "_model_module_version": "1.5.0",
            "_model_name": "ProgressStyleModel",
            "_view_count": null,
            "_view_module": "@jupyter-widgets/base",
            "_view_module_version": "1.2.0",
            "_view_name": "StyleView",
            "bar_color": null,
            "description_width": ""
          }
        },
        "183c56ce965048f6b1139a5199b381de": {
          "model_module": "@jupyter-widgets/base",
          "model_name": "LayoutModel",
          "model_module_version": "1.2.0",
          "state": {
            "_model_module": "@jupyter-widgets/base",
            "_model_module_version": "1.2.0",
            "_model_name": "LayoutModel",
            "_view_count": null,
            "_view_module": "@jupyter-widgets/base",
            "_view_module_version": "1.2.0",
            "_view_name": "LayoutView",
            "align_content": null,
            "align_items": null,
            "align_self": null,
            "border": null,
            "bottom": null,
            "display": null,
            "flex": null,
            "flex_flow": null,
            "grid_area": null,
            "grid_auto_columns": null,
            "grid_auto_flow": null,
            "grid_auto_rows": null,
            "grid_column": null,
            "grid_gap": null,
            "grid_row": null,
            "grid_template_areas": null,
            "grid_template_columns": null,
            "grid_template_rows": null,
            "height": null,
            "justify_content": null,
            "justify_items": null,
            "left": null,
            "margin": null,
            "max_height": null,
            "max_width": null,
            "min_height": null,
            "min_width": null,
            "object_fit": null,
            "object_position": null,
            "order": null,
            "overflow": null,
            "overflow_x": null,
            "overflow_y": null,
            "padding": null,
            "right": null,
            "top": null,
            "visibility": null,
            "width": null
          }
        },
        "cba81a2f48654dadad8fec65cf7c3cc1": {
          "model_module": "@jupyter-widgets/controls",
          "model_name": "DescriptionStyleModel",
          "model_module_version": "1.5.0",
          "state": {
            "_model_module": "@jupyter-widgets/controls",
            "_model_module_version": "1.5.0",
            "_model_name": "DescriptionStyleModel",
            "_view_count": null,
            "_view_module": "@jupyter-widgets/base",
            "_view_module_version": "1.2.0",
            "_view_name": "StyleView",
            "description_width": ""
          }
        },
        "5123a062dcc04d22bd18b469a53841d0": {
          "model_module": "@jupyter-widgets/controls",
          "model_name": "HBoxModel",
          "model_module_version": "1.5.0",
          "state": {
            "_dom_classes": [],
            "_model_module": "@jupyter-widgets/controls",
            "_model_module_version": "1.5.0",
            "_model_name": "HBoxModel",
            "_view_count": null,
            "_view_module": "@jupyter-widgets/controls",
            "_view_module_version": "1.5.0",
            "_view_name": "HBoxView",
            "box_style": "",
            "children": [
              "IPY_MODEL_551a2f2d5b0849a7b143947da20a995a",
              "IPY_MODEL_f97da6c0c33445ada41fdaef3d946f8d",
              "IPY_MODEL_aa93514371a545d58bf2765f0335403b"
            ],
            "layout": "IPY_MODEL_484975d7de0341c288260b464482f42b"
          }
        },
        "551a2f2d5b0849a7b143947da20a995a": {
          "model_module": "@jupyter-widgets/controls",
          "model_name": "HTMLModel",
          "model_module_version": "1.5.0",
          "state": {
            "_dom_classes": [],
            "_model_module": "@jupyter-widgets/controls",
            "_model_module_version": "1.5.0",
            "_model_name": "HTMLModel",
            "_view_count": null,
            "_view_module": "@jupyter-widgets/controls",
            "_view_module_version": "1.5.0",
            "_view_name": "HTMLView",
            "description": "",
            "description_tooltip": null,
            "layout": "IPY_MODEL_69da3722ff3243e883de3f85e84d56fe",
            "placeholder": "​",
            "style": "IPY_MODEL_bc5ebaab19624974b0505d8d584ea9d0",
            "value": "100%"
          }
        },
        "f97da6c0c33445ada41fdaef3d946f8d": {
          "model_module": "@jupyter-widgets/controls",
          "model_name": "FloatProgressModel",
          "model_module_version": "1.5.0",
          "state": {
            "_dom_classes": [],
            "_model_module": "@jupyter-widgets/controls",
            "_model_module_version": "1.5.0",
            "_model_name": "FloatProgressModel",
            "_view_count": null,
            "_view_module": "@jupyter-widgets/controls",
            "_view_module_version": "1.5.0",
            "_view_name": "ProgressView",
            "bar_style": "success",
            "description": "",
            "description_tooltip": null,
            "layout": "IPY_MODEL_b40641c295094d47af03831b155a648e",
            "max": 5000,
            "min": 0,
            "orientation": "horizontal",
            "style": "IPY_MODEL_e9967b30e84041a7a3ff225432b4ec86",
            "value": 5000
          }
        },
        "aa93514371a545d58bf2765f0335403b": {
          "model_module": "@jupyter-widgets/controls",
          "model_name": "HTMLModel",
          "model_module_version": "1.5.0",
          "state": {
            "_dom_classes": [],
            "_model_module": "@jupyter-widgets/controls",
            "_model_module_version": "1.5.0",
            "_model_name": "HTMLModel",
            "_view_count": null,
            "_view_module": "@jupyter-widgets/controls",
            "_view_module_version": "1.5.0",
            "_view_name": "HTMLView",
            "description": "",
            "description_tooltip": null,
            "layout": "IPY_MODEL_dfd1300e7abd45fab0ddb00ae5f8467a",
            "placeholder": "​",
            "style": "IPY_MODEL_d2b1a9934b3443eba8fc65a63fd2298f",
            "value": " 5000/5000 [11:03&lt;00:00,  6.64it/s, loss=4.26e-5]"
          }
        },
        "484975d7de0341c288260b464482f42b": {
          "model_module": "@jupyter-widgets/base",
          "model_name": "LayoutModel",
          "model_module_version": "1.2.0",
          "state": {
            "_model_module": "@jupyter-widgets/base",
            "_model_module_version": "1.2.0",
            "_model_name": "LayoutModel",
            "_view_count": null,
            "_view_module": "@jupyter-widgets/base",
            "_view_module_version": "1.2.0",
            "_view_name": "LayoutView",
            "align_content": null,
            "align_items": null,
            "align_self": null,
            "border": null,
            "bottom": null,
            "display": null,
            "flex": null,
            "flex_flow": null,
            "grid_area": null,
            "grid_auto_columns": null,
            "grid_auto_flow": null,
            "grid_auto_rows": null,
            "grid_column": null,
            "grid_gap": null,
            "grid_row": null,
            "grid_template_areas": null,
            "grid_template_columns": null,
            "grid_template_rows": null,
            "height": null,
            "justify_content": null,
            "justify_items": null,
            "left": null,
            "margin": null,
            "max_height": null,
            "max_width": null,
            "min_height": null,
            "min_width": null,
            "object_fit": null,
            "object_position": null,
            "order": null,
            "overflow": null,
            "overflow_x": null,
            "overflow_y": null,
            "padding": null,
            "right": null,
            "top": null,
            "visibility": null,
            "width": null
          }
        },
        "69da3722ff3243e883de3f85e84d56fe": {
          "model_module": "@jupyter-widgets/base",
          "model_name": "LayoutModel",
          "model_module_version": "1.2.0",
          "state": {
            "_model_module": "@jupyter-widgets/base",
            "_model_module_version": "1.2.0",
            "_model_name": "LayoutModel",
            "_view_count": null,
            "_view_module": "@jupyter-widgets/base",
            "_view_module_version": "1.2.0",
            "_view_name": "LayoutView",
            "align_content": null,
            "align_items": null,
            "align_self": null,
            "border": null,
            "bottom": null,
            "display": null,
            "flex": null,
            "flex_flow": null,
            "grid_area": null,
            "grid_auto_columns": null,
            "grid_auto_flow": null,
            "grid_auto_rows": null,
            "grid_column": null,
            "grid_gap": null,
            "grid_row": null,
            "grid_template_areas": null,
            "grid_template_columns": null,
            "grid_template_rows": null,
            "height": null,
            "justify_content": null,
            "justify_items": null,
            "left": null,
            "margin": null,
            "max_height": null,
            "max_width": null,
            "min_height": null,
            "min_width": null,
            "object_fit": null,
            "object_position": null,
            "order": null,
            "overflow": null,
            "overflow_x": null,
            "overflow_y": null,
            "padding": null,
            "right": null,
            "top": null,
            "visibility": null,
            "width": null
          }
        },
        "bc5ebaab19624974b0505d8d584ea9d0": {
          "model_module": "@jupyter-widgets/controls",
          "model_name": "DescriptionStyleModel",
          "model_module_version": "1.5.0",
          "state": {
            "_model_module": "@jupyter-widgets/controls",
            "_model_module_version": "1.5.0",
            "_model_name": "DescriptionStyleModel",
            "_view_count": null,
            "_view_module": "@jupyter-widgets/base",
            "_view_module_version": "1.2.0",
            "_view_name": "StyleView",
            "description_width": ""
          }
        },
        "b40641c295094d47af03831b155a648e": {
          "model_module": "@jupyter-widgets/base",
          "model_name": "LayoutModel",
          "model_module_version": "1.2.0",
          "state": {
            "_model_module": "@jupyter-widgets/base",
            "_model_module_version": "1.2.0",
            "_model_name": "LayoutModel",
            "_view_count": null,
            "_view_module": "@jupyter-widgets/base",
            "_view_module_version": "1.2.0",
            "_view_name": "LayoutView",
            "align_content": null,
            "align_items": null,
            "align_self": null,
            "border": null,
            "bottom": null,
            "display": null,
            "flex": null,
            "flex_flow": null,
            "grid_area": null,
            "grid_auto_columns": null,
            "grid_auto_flow": null,
            "grid_auto_rows": null,
            "grid_column": null,
            "grid_gap": null,
            "grid_row": null,
            "grid_template_areas": null,
            "grid_template_columns": null,
            "grid_template_rows": null,
            "height": null,
            "justify_content": null,
            "justify_items": null,
            "left": null,
            "margin": null,
            "max_height": null,
            "max_width": null,
            "min_height": null,
            "min_width": null,
            "object_fit": null,
            "object_position": null,
            "order": null,
            "overflow": null,
            "overflow_x": null,
            "overflow_y": null,
            "padding": null,
            "right": null,
            "top": null,
            "visibility": null,
            "width": null
          }
        },
        "e9967b30e84041a7a3ff225432b4ec86": {
          "model_module": "@jupyter-widgets/controls",
          "model_name": "ProgressStyleModel",
          "model_module_version": "1.5.0",
          "state": {
            "_model_module": "@jupyter-widgets/controls",
            "_model_module_version": "1.5.0",
            "_model_name": "ProgressStyleModel",
            "_view_count": null,
            "_view_module": "@jupyter-widgets/base",
            "_view_module_version": "1.2.0",
            "_view_name": "StyleView",
            "bar_color": null,
            "description_width": ""
          }
        },
        "dfd1300e7abd45fab0ddb00ae5f8467a": {
          "model_module": "@jupyter-widgets/base",
          "model_name": "LayoutModel",
          "model_module_version": "1.2.0",
          "state": {
            "_model_module": "@jupyter-widgets/base",
            "_model_module_version": "1.2.0",
            "_model_name": "LayoutModel",
            "_view_count": null,
            "_view_module": "@jupyter-widgets/base",
            "_view_module_version": "1.2.0",
            "_view_name": "LayoutView",
            "align_content": null,
            "align_items": null,
            "align_self": null,
            "border": null,
            "bottom": null,
            "display": null,
            "flex": null,
            "flex_flow": null,
            "grid_area": null,
            "grid_auto_columns": null,
            "grid_auto_flow": null,
            "grid_auto_rows": null,
            "grid_column": null,
            "grid_gap": null,
            "grid_row": null,
            "grid_template_areas": null,
            "grid_template_columns": null,
            "grid_template_rows": null,
            "height": null,
            "justify_content": null,
            "justify_items": null,
            "left": null,
            "margin": null,
            "max_height": null,
            "max_width": null,
            "min_height": null,
            "min_width": null,
            "object_fit": null,
            "object_position": null,
            "order": null,
            "overflow": null,
            "overflow_x": null,
            "overflow_y": null,
            "padding": null,
            "right": null,
            "top": null,
            "visibility": null,
            "width": null
          }
        },
        "d2b1a9934b3443eba8fc65a63fd2298f": {
          "model_module": "@jupyter-widgets/controls",
          "model_name": "DescriptionStyleModel",
          "model_module_version": "1.5.0",
          "state": {
            "_model_module": "@jupyter-widgets/controls",
            "_model_module_version": "1.5.0",
            "_model_name": "DescriptionStyleModel",
            "_view_count": null,
            "_view_module": "@jupyter-widgets/base",
            "_view_module_version": "1.2.0",
            "_view_name": "StyleView",
            "description_width": ""
          }
        }
      }
    }
  },
  "cells": [
    {
      "cell_type": "markdown",
      "metadata": {
        "id": "view-in-github",
        "colab_type": "text"
      },
      "source": [
        "<a href=\"https://colab.research.google.com/github/yongsun-yoon/deep-learning-paper-implementation/blob/main/02-computer-vision/DMTet.ipynb\" target=\"_parent\"><img src=\"https://colab.research.google.com/assets/colab-badge.svg\" alt=\"Open In Colab\"/></a>"
      ]
    },
    {
      "cell_type": "markdown",
      "source": [
        "# DMTet"
      ],
      "metadata": {
        "id": "mwmcXPFu24Zi"
      }
    },
    {
      "cell_type": "markdown",
      "source": [
        "## 0. Info"
      ],
      "metadata": {
        "id": "8C0DjA4827pU"
      }
    },
    {
      "cell_type": "markdown",
      "source": [
        "### Paper\n",
        "* title: Deep Marching Tetrahedra: a Hybrid Representation for High-Resolution 3D Shape Synthesis\n",
        "* author: Tianchang Shen et al.\n",
        "* url: https://arxiv.org/abs/2111.04276\n",
        "\n",
        "### Features\n",
        "* dataset: \n",
        "\n",
        "### Reference\n",
        "* https://github.com/NVIDIAGameWorks/kaolin/blob/master/examples/tutorial/dmtet_tutorial.ipynb"
      ],
      "metadata": {
        "id": "ZXp_vwOW29Z3"
      }
    },
    {
      "cell_type": "markdown",
      "source": [
        "## 1. Setup"
      ],
      "metadata": {
        "id": "1M6qBXXF3Dmz"
      }
    },
    {
      "cell_type": "code",
      "source": [
        "!nvidia-smi"
      ],
      "metadata": {
        "colab": {
          "base_uri": "https://localhost:8080/"
        },
        "id": "M7z6SEcWwhTL",
        "outputId": "7cc0bd2c-ba9a-4cfa-c076-cf0add2299f7"
      },
      "execution_count": 1,
      "outputs": [
        {
          "output_type": "stream",
          "name": "stdout",
          "text": [
            "Tue Oct  4 21:58:56 2022       \n",
            "+-----------------------------------------------------------------------------+\n",
            "| NVIDIA-SMI 460.32.03    Driver Version: 460.32.03    CUDA Version: 11.2     |\n",
            "|-------------------------------+----------------------+----------------------+\n",
            "| GPU  Name        Persistence-M| Bus-Id        Disp.A | Volatile Uncorr. ECC |\n",
            "| Fan  Temp  Perf  Pwr:Usage/Cap|         Memory-Usage | GPU-Util  Compute M. |\n",
            "|                               |                      |               MIG M. |\n",
            "|===============================+======================+======================|\n",
            "|   0  Tesla T4            Off  | 00000000:00:04.0 Off |                    0 |\n",
            "| N/A   54C    P8    11W /  70W |      0MiB / 15109MiB |      0%      Default |\n",
            "|                               |                      |                  N/A |\n",
            "+-------------------------------+----------------------+----------------------+\n",
            "                                                                               \n",
            "+-----------------------------------------------------------------------------+\n",
            "| Processes:                                                                  |\n",
            "|  GPU   GI   CI        PID   Type   Process name                  GPU Memory |\n",
            "|        ID   ID                                                   Usage      |\n",
            "|=============================================================================|\n",
            "|  No running processes found                                                 |\n",
            "+-----------------------------------------------------------------------------+\n"
          ]
        }
      ]
    },
    {
      "cell_type": "code",
      "source": [
        "# install kaolin\n",
        "import os\n",
        "os.environ['IGNORE_TORCH_VER'] = '1'\n",
        "os.environ['KAOLIN_INSTALL_EXPERIMENTAL'] = '1'\n",
        "\n",
        "!git clone --recursive https://github.com/NVIDIAGameWorks/kaolin\n",
        "%cd kaolin\n",
        "!python setup.py develop\n",
        "!pip install .\n",
        "!pip install -q usd-core pyngrok einops\n",
        "\n",
        "%cd /content\n",
        "!rm -rf kaolin\n",
        "\n",
        "# restart runtime"
      ],
      "metadata": {
        "id": "iHEOLzVH-RrQ"
      },
      "execution_count": null,
      "outputs": []
    },
    {
      "cell_type": "code",
      "source": [
        "import easydict\n",
        "import numpy as np\n",
        "from tqdm.auto import tqdm\n",
        "from pyngrok import ngrok\n",
        "from einops import rearrange\n",
        "\n",
        "import kaolin\n",
        "import torch\n",
        "import torch.nn as nn\n",
        "import torch.nn.functional as F"
      ],
      "metadata": {
        "id": "Fv89T5-K3EeR"
      },
      "execution_count": 1,
      "outputs": []
    },
    {
      "cell_type": "code",
      "source": [
        "cfg = easydict.EasyDict(\n",
        "    device = 'cuda',\n",
        "    num_max_points = 100000,\n",
        "    multires = 2,\n",
        "    lr = 1e-3,\n",
        "    num_training_steps = 5000,\n",
        "    laplacian_weight = 0.1,\n",
        ")"
      ],
      "metadata": {
        "id": "UCVkzjw73KkG"
      },
      "execution_count": 2,
      "outputs": []
    },
    {
      "cell_type": "markdown",
      "source": [
        "## 2. Data"
      ],
      "metadata": {
        "id": "wHD9wVXQ3NFx"
      }
    },
    {
      "cell_type": "markdown",
      "source": [
        "### 2.1. Prepare"
      ],
      "metadata": {
        "id": "by7XMg6FMuuv"
      }
    },
    {
      "cell_type": "code",
      "source": [
        "!wget https://raw.githubusercontent.com/NVIDIAGameWorks/kaolin/master/examples/samples/bear_pointcloud.usd\n",
        "!wget https://raw.githubusercontent.com/NVIDIAGameWorks/kaolin/master/examples/samples/128_verts.npz\n",
        "!wget https://raw.githubusercontent.com/NVIDIAGameWorks/kaolin/master/examples/samples/128_tets_0.npz\n",
        "!wget https://raw.githubusercontent.com/NVIDIAGameWorks/kaolin/master/examples/samples/128_tets_1.npz\n",
        "!wget https://raw.githubusercontent.com/NVIDIAGameWorks/kaolin/master/examples/samples/128_tets_2.npz\n",
        "!wget https://raw.githubusercontent.com/NVIDIAGameWorks/kaolin/master/examples/samples/128_tets_3.npz"
      ],
      "metadata": {
        "id": "yGw6SLql3NmN",
        "colab": {
          "base_uri": "https://localhost:8080/"
        },
        "outputId": "56f3a9f0-0120-4034-b0f2-061965a9c213"
      },
      "execution_count": 3,
      "outputs": [
        {
          "output_type": "stream",
          "name": "stdout",
          "text": [
            "--2022-10-04 22:09:41--  https://raw.githubusercontent.com/NVIDIAGameWorks/kaolin/master/examples/samples/bear_pointcloud.usd\n",
            "Resolving raw.githubusercontent.com (raw.githubusercontent.com)... 185.199.109.133, 185.199.110.133, 185.199.111.133, ...\n",
            "Connecting to raw.githubusercontent.com (raw.githubusercontent.com)|185.199.109.133|:443... connected.\n",
            "HTTP request sent, awaiting response... 200 OK\n",
            "Length: 3210920 (3.1M) [application/octet-stream]\n",
            "Saving to: ‘bear_pointcloud.usd.1’\n",
            "\n",
            "\rbear_pointcloud.usd   0%[                    ]       0  --.-KB/s               \rbear_pointcloud.usd 100%[===================>]   3.06M  --.-KB/s    in 0.02s   \n",
            "\n",
            "2022-10-04 22:09:41 (197 MB/s) - ‘bear_pointcloud.usd.1’ saved [3210920/3210920]\n",
            "\n",
            "--2022-10-04 22:09:41--  https://raw.githubusercontent.com/NVIDIAGameWorks/kaolin/master/examples/samples/128_verts.npz\n",
            "Resolving raw.githubusercontent.com (raw.githubusercontent.com)... 185.199.108.133, 185.199.109.133, 185.199.110.133, ...\n",
            "Connecting to raw.githubusercontent.com (raw.githubusercontent.com)|185.199.108.133|:443... connected.\n",
            "HTTP request sent, awaiting response... 200 OK\n",
            "Length: 610391 (596K) [application/octet-stream]\n",
            "Saving to: ‘128_verts.npz.1’\n",
            "\n",
            "128_verts.npz.1     100%[===================>] 596.08K  --.-KB/s    in 0.005s  \n",
            "\n",
            "2022-10-04 22:09:41 (119 MB/s) - ‘128_verts.npz.1’ saved [610391/610391]\n",
            "\n",
            "--2022-10-04 22:09:41--  https://raw.githubusercontent.com/NVIDIAGameWorks/kaolin/master/examples/samples/128_tets_0.npz\n",
            "Resolving raw.githubusercontent.com (raw.githubusercontent.com)... 185.199.108.133, 185.199.109.133, 185.199.110.133, ...\n",
            "Connecting to raw.githubusercontent.com (raw.githubusercontent.com)|185.199.108.133|:443... connected.\n",
            "HTTP request sent, awaiting response... 200 OK\n",
            "Length: 2070272 (2.0M) [application/octet-stream]\n",
            "Saving to: ‘128_tets_0.npz.1’\n",
            "\n",
            "128_tets_0.npz.1    100%[===================>]   1.97M  --.-KB/s    in 0.01s   \n",
            "\n",
            "2022-10-04 22:09:41 (198 MB/s) - ‘128_tets_0.npz.1’ saved [2070272/2070272]\n",
            "\n",
            "--2022-10-04 22:09:41--  https://raw.githubusercontent.com/NVIDIAGameWorks/kaolin/master/examples/samples/128_tets_1.npz\n",
            "Resolving raw.githubusercontent.com (raw.githubusercontent.com)... 185.199.108.133, 185.199.110.133, 185.199.109.133, ...\n",
            "Connecting to raw.githubusercontent.com (raw.githubusercontent.com)|185.199.108.133|:443... connected.\n",
            "HTTP request sent, awaiting response... 200 OK\n",
            "Length: 1917273 (1.8M) [application/octet-stream]\n",
            "Saving to: ‘128_tets_1.npz.1’\n",
            "\n",
            "128_tets_1.npz.1    100%[===================>]   1.83M  --.-KB/s    in 0.009s  \n",
            "\n",
            "2022-10-04 22:09:41 (195 MB/s) - ‘128_tets_1.npz.1’ saved [1917273/1917273]\n",
            "\n",
            "--2022-10-04 22:09:41--  https://raw.githubusercontent.com/NVIDIAGameWorks/kaolin/master/examples/samples/128_tets_2.npz\n",
            "Resolving raw.githubusercontent.com (raw.githubusercontent.com)... 185.199.108.133, 185.199.109.133, 185.199.110.133, ...\n",
            "Connecting to raw.githubusercontent.com (raw.githubusercontent.com)|185.199.108.133|:443... connected.\n",
            "HTTP request sent, awaiting response... 200 OK\n",
            "Length: 1932682 (1.8M) [application/octet-stream]\n",
            "Saving to: ‘128_tets_2.npz.1’\n",
            "\n",
            "128_tets_2.npz.1    100%[===================>]   1.84M  --.-KB/s    in 0.03s   \n",
            "\n",
            "2022-10-04 22:09:41 (65.6 MB/s) - ‘128_tets_2.npz.1’ saved [1932682/1932682]\n",
            "\n",
            "--2022-10-04 22:09:41--  https://raw.githubusercontent.com/NVIDIAGameWorks/kaolin/master/examples/samples/128_tets_3.npz\n",
            "Resolving raw.githubusercontent.com (raw.githubusercontent.com)... 185.199.108.133, 185.199.109.133, 185.199.110.133, ...\n",
            "Connecting to raw.githubusercontent.com (raw.githubusercontent.com)|185.199.108.133|:443... connected.\n",
            "HTTP request sent, awaiting response... 200 OK\n",
            "Length: 1797870 (1.7M) [application/octet-stream]\n",
            "Saving to: ‘128_tets_3.npz.1’\n",
            "\n",
            "128_tets_3.npz.1    100%[===================>]   1.71M  --.-KB/s    in 0.02s   \n",
            "\n",
            "2022-10-04 22:09:42 (107 MB/s) - ‘128_tets_3.npz.1’ saved [1797870/1797870]\n",
            "\n"
          ]
        }
      ]
    },
    {
      "cell_type": "markdown",
      "source": [
        "### 2.2. Pointcloud"
      ],
      "metadata": {
        "id": "eXw07ynzMv8H"
      }
    },
    {
      "cell_type": "code",
      "source": [
        "timelapse = kaolin.visualize.Timelapse('logs')"
      ],
      "metadata": {
        "id": "peA0XacKPJc8"
      },
      "execution_count": 4,
      "outputs": []
    },
    {
      "cell_type": "code",
      "source": [
        "# load pointcloud\n",
        "points = kaolin.io.usd.import_pointclouds('bear_pointcloud.usd')[0].points.to(cfg.device)"
      ],
      "metadata": {
        "id": "w22Mqfys3Nug"
      },
      "execution_count": 5,
      "outputs": []
    },
    {
      "cell_type": "code",
      "source": [
        "# sampling\n",
        "num_points = points.size(0)\n",
        "if num_points > cfg.num_max_points:\n",
        "    rand_idxs = np.random.permutation(range(num_points))[:cfg.num_max_points]\n",
        "    points = points[rand_idxs]"
      ],
      "metadata": {
        "id": "3W-rfuSyLlC7"
      },
      "execution_count": 6,
      "outputs": []
    },
    {
      "cell_type": "code",
      "source": [
        "# normalize\n",
        "max_val = points.max(dim=0).values\n",
        "min_val = points.min(dim=0).values\n",
        "\n",
        "center = (max_val + min_val) / 2\n",
        "maxlen = (max_val - min_val).max()\n",
        "\n",
        "points = (points - center) / maxlen * 0.9"
      ],
      "metadata": {
        "id": "oIaQUq-3LUyi"
      },
      "execution_count": 7,
      "outputs": []
    },
    {
      "cell_type": "code",
      "source": [
        "points = points.unsqueeze(dim=0)"
      ],
      "metadata": {
        "id": "gzL3domgmRMV"
      },
      "execution_count": 8,
      "outputs": []
    },
    {
      "cell_type": "code",
      "source": [
        "timelapse.add_pointcloud_batch(category='input', pointcloud_list=points.cpu(), points_type = \"usd_geom_points\")"
      ],
      "metadata": {
        "id": "D-01p_Q9PNxT"
      },
      "execution_count": 9,
      "outputs": []
    },
    {
      "cell_type": "markdown",
      "source": [
        "### 2.3. Tetrahedral grid"
      ],
      "metadata": {
        "id": "iXS0a6BxMxVB"
      }
    },
    {
      "cell_type": "code",
      "source": [
        "tet_verts = torch.tensor(np.load('128_verts.npz')['data'], dtype=torch.float, device=cfg.device)\n",
        "\n",
        "tets = np.stack([np.load(f'128_tets_{i}.npz')['data'] for i in range(4)], axis=1)\n",
        "tets = torch.tensor(tets, dtype=torch.long, device=cfg.device)\n",
        "\n",
        "tet_verts.size(), tets.size()"
      ],
      "metadata": {
        "colab": {
          "base_uri": "https://localhost:8080/"
        },
        "id": "2JEWQ9foMzOQ",
        "outputId": "765c0b4f-1500-4aad-ff85-f9f11259ca4a"
      },
      "execution_count": 10,
      "outputs": [
        {
          "output_type": "execute_result",
          "data": {
            "text/plain": [
              "(torch.Size([277410, 3]), torch.Size([1524684, 4]))"
            ]
          },
          "metadata": {},
          "execution_count": 10
        }
      ]
    },
    {
      "cell_type": "markdown",
      "source": [
        "## 3. Model"
      ],
      "metadata": {
        "id": "T68ZmOG13N1T"
      }
    },
    {
      "cell_type": "markdown",
      "source": [
        "### 3.1. Marching Tetrahedra"
      ],
      "metadata": {
        "id": "i_satBKqnj9m"
      }
    },
    {
      "cell_type": "code",
      "source": [
        "# https://github.com/NVIDIAGameWorks/kaolin/blob/master/kaolin/ops/conversions/tetmesh.py\n",
        "triangle_table = torch.tensor([\n",
        "    [-1, -1, -1, -1, -1, -1],\n",
        "    [1, 0, 2, -1, -1, -1],\n",
        "    [4, 0, 3, -1, -1, -1],\n",
        "    [1, 4, 2, 1, 3, 4],\n",
        "    [3, 1, 5, -1, -1, -1],\n",
        "    [2, 3, 0, 2, 5, 3],\n",
        "    [1, 4, 0, 1, 5, 4],\n",
        "    [4, 2, 5, -1, -1, -1],\n",
        "    [4, 5, 2, -1, -1, -1],\n",
        "    [4, 1, 0, 4, 5, 1],\n",
        "    [3, 2, 0, 3, 5, 2],\n",
        "    [1, 3, 5, -1, -1, -1],\n",
        "    [4, 1, 2, 4, 3, 1],\n",
        "    [3, 0, 4, -1, -1, -1],\n",
        "    [2, 0, 1, -1, -1, -1],\n",
        "    [-1, -1, -1, -1, -1, -1]\n",
        "], dtype=torch.long)\n",
        "\n",
        "num_triangles_table = torch.tensor([0, 1, 1, 2, 1, 2, 2, 1, 1, 2, 2, 1, 2, 1, 1, 0], dtype=torch.long)\n",
        "base_tet_edges = torch.tensor([0, 1, 0, 2, 0, 3, 1, 2, 1, 3, 2, 3], dtype=torch.long)\n",
        "v_id = torch.pow(2, torch.arange(4, dtype=torch.long))\n",
        "\n",
        "\n",
        "def _sort_edges(edges):\n",
        "    with torch.no_grad():\n",
        "        order = (edges[:, 0] > edges[:, 1]).long()\n",
        "        order = order.unsqueeze(dim=1)\n",
        "\n",
        "        a = torch.gather(input=edges, index=order, dim=1)\n",
        "        b = torch.gather(input=edges, index=1 - order, dim=1)\n",
        "\n",
        "    return torch.stack([a, b], -1)\n",
        "\n",
        "\n",
        "def _unbatched_marching_tetrahedra(vertices, tets, sdf, return_tet_idx):\n",
        "    device = vertices.device\n",
        "    with torch.no_grad():\n",
        "        occ_n = sdf > 0\n",
        "        occ_fx4 = occ_n[tets.reshape(-1)].reshape(-1, 4)\n",
        "        occ_sum = torch.sum(occ_fx4, -1)\n",
        "        valid_tets = (occ_sum > 0) & (occ_sum < 4)\n",
        "        occ_sum = occ_sum[valid_tets]\n",
        "\n",
        "        # find all vertices\n",
        "        all_edges = tets[valid_tets][:, base_tet_edges.to(device)].reshape(-1, 2)\n",
        "        all_edges = _sort_edges(all_edges)\n",
        "        unique_edges, idx_map = torch.unique(all_edges, dim=0, return_inverse=True)\n",
        "\n",
        "        unique_edges = unique_edges.long()\n",
        "        mask_edges = occ_n[unique_edges.reshape(-1)].reshape(-1, 2).sum(-1) == 1\n",
        "        mapping = torch.ones((unique_edges.shape[0]), dtype=torch.long, device=device) * -1\n",
        "        mapping[mask_edges] = torch.arange(mask_edges.sum(), dtype=torch.long, device=device)\n",
        "        idx_map = mapping[idx_map]\n",
        "\n",
        "        interp_v = unique_edges[mask_edges]\n",
        "    edges_to_interp = vertices[interp_v.reshape(-1)].reshape(-1, 2, 3)\n",
        "    edges_to_interp_sdf = sdf[interp_v.reshape(-1)].reshape(-1, 2, 1)\n",
        "    edges_to_interp_sdf[:, -1] *= -1\n",
        "\n",
        "    denominator = edges_to_interp_sdf.sum(1, keepdim=True)\n",
        "\n",
        "    edges_to_interp_sdf = torch.flip(edges_to_interp_sdf, [1]) / denominator\n",
        "    verts = (edges_to_interp * edges_to_interp_sdf).sum(1)\n",
        "\n",
        "    idx_map = idx_map.reshape(-1, 6)\n",
        "\n",
        "    tetindex = (occ_fx4[valid_tets] * v_id.to(device).unsqueeze(0)).sum(-1)\n",
        "    num_triangles = num_triangles_table.to(device)[tetindex]\n",
        "    triangle_table_device = triangle_table.to(device)\n",
        "\n",
        "    # Generate triangle indices\n",
        "    faces = torch.cat((\n",
        "        torch.gather(input=idx_map[num_triangles == 1], dim=1,\n",
        "                     index=triangle_table_device[tetindex[num_triangles == 1]][:, :3]).reshape(-1, 3),\n",
        "        torch.gather(input=idx_map[num_triangles == 2], dim=1,\n",
        "                     index=triangle_table_device[tetindex[num_triangles == 2]][:, :6]).reshape(-1, 3),\n",
        "    ), dim=0)\n",
        "\n",
        "    if return_tet_idx:\n",
        "        tet_idx = torch.arange(tets.shape[0], device=device)[valid_tets]\n",
        "        tet_idx = torch.cat((tet_idx[num_triangles == 1], tet_idx[num_triangles ==\n",
        "                            2].unsqueeze(-1).expand(-1, 2).reshape(-1)), dim=0)\n",
        "        return verts, faces, tet_idx\n",
        "    return verts, faces\n",
        "\n",
        "\n",
        "def marching_tetrahedra(vertices, tets, sdf, return_tet_idx=False):\n",
        "    list_of_outputs = [_unbatched_marching_tetrahedra(vertices[b], tets, sdf[b], return_tet_idx) for b in range(vertices.shape[0])]\n",
        "    return list(zip(*list_of_outputs))"
      ],
      "metadata": {
        "id": "CCZf680LnluH"
      },
      "execution_count": 29,
      "outputs": []
    },
    {
      "cell_type": "markdown",
      "source": [
        "### 3.2. Decoder"
      ],
      "metadata": {
        "id": "O1j6Ad1u3OYh"
      }
    },
    {
      "cell_type": "code",
      "source": [
        "class Embedding(object):\n",
        "    def __init__(\n",
        "        self, \n",
        "        include_inputs = True,\n",
        "        input_dim = 3,\n",
        "        max_freq_log2 = 1,\n",
        "        num_freqs = 2,\n",
        "        log_sampling = True,\n",
        "        periodic_fns = [torch.sin, torch.cos]\n",
        "    ):\n",
        "\n",
        "        self.output_dim = 0\n",
        "        self.fns = []\n",
        "        if include_inputs:\n",
        "            self.fns.append(lambda x: x)\n",
        "            self.output_dim += input_dim\n",
        "        \n",
        "        if log_sampling:\n",
        "            freq_bands = 2. ** torch.linspace(0., max_freq_log2, steps=num_freqs)\n",
        "        else:\n",
        "            freq_bands = torch.linspace(2.**0., 2.**max_freq_log2, steps=num_freqs)\n",
        "        \n",
        "        for freq in freq_bands:\n",
        "            for pfn in periodic_fns:\n",
        "                self.fns.append(lambda x: pfn(x * freq))\n",
        "                self.output_dim += input_dim\n",
        "        \n",
        "\n",
        "    def __call__(self, x):\n",
        "        return torch.cat([fn(x) for fn in self.fns], dim=-1)\n",
        "\n",
        "\n",
        "class Decoder(torch.nn.Module):\n",
        "    def __init__(\n",
        "        self,\n",
        "        input_dim = 3, \n",
        "        hidden_dim = 128, \n",
        "        output_dim = 4, \n",
        "        num_layers = 5, \n",
        "        multires = 2\n",
        "    ):\n",
        "        super().__init__()\n",
        "        self.embedding = Embedding(\n",
        "            input_dim = input_dim,\n",
        "            max_freq_log2 = multires-1,\n",
        "            num_freqs = multires,\n",
        "        )\n",
        "\n",
        "        net = [nn.Linear(self.embedding.output_dim, hidden_dim, bias=False), nn.ReLU()]\n",
        "        for _ in range(num_layers - 1):\n",
        "            net += [nn.Linear(hidden_dim, hidden_dim, bias=False), nn.ReLU()]\n",
        "        net += [nn.Linear(hidden_dim, output_dim, bias=False)]\n",
        "        self.net = torch.nn.Sequential(*net)\n",
        "\n",
        "\n",
        "    def forward(self, x):\n",
        "        x = self.embedding(x)\n",
        "        out = self.net(x)\n",
        "        return out\n",
        "\n",
        "\n",
        "    def pretrain_sphere(self, num_pretraining_steps=1000):\n",
        "        device = next(model.parameters()).device\n",
        "        optimizer = torch.optim.Adam(list(self.parameters()), lr=1e-4)\n",
        "\n",
        "        pbar = tqdm(range(num_pretraining_steps))\n",
        "        for _ in pbar:\n",
        "            p = torch.rand((1024, 3), device=device) - 0.5\n",
        "            y = torch.sqrt((p**2).sum(-1)) - 0.3\n",
        "            output = self(p)\n",
        "            loss = F.mse_loss(output[...,0], y)\n",
        "            optimizer.zero_grad()\n",
        "            loss.backward()\n",
        "            optimizer.step()\n",
        "            pbar.set_postfix({'loss': loss.item()})\n",
        "\n",
        "        print(\"Finished pretraining\")"
      ],
      "metadata": {
        "id": "EoPjdgbsN41u"
      },
      "execution_count": 12,
      "outputs": []
    },
    {
      "cell_type": "markdown",
      "source": [
        "### 3.3. Loss"
      ],
      "metadata": {
        "id": "5epJuZB2O7y2"
      }
    },
    {
      "cell_type": "code",
      "source": [
        "def laplace_regularizer_const(mesh_verts, mesh_faces):\n",
        "    term = torch.zeros_like(mesh_verts)\n",
        "    norm = torch.zeros_like(mesh_verts[..., 0:1])\n",
        "\n",
        "    v0 = mesh_verts[mesh_faces[:, 0], :]\n",
        "    v1 = mesh_verts[mesh_faces[:, 1], :]\n",
        "    v2 = mesh_verts[mesh_faces[:, 2], :]\n",
        "\n",
        "    term.scatter_add_(0, mesh_faces[:, 0:1].repeat(1,3), (v1 - v0) + (v2 - v0))\n",
        "    term.scatter_add_(0, mesh_faces[:, 1:2].repeat(1,3), (v0 - v1) + (v2 - v1))\n",
        "    term.scatter_add_(0, mesh_faces[:, 2:3].repeat(1,3), (v0 - v2) + (v1 - v2))\n",
        "\n",
        "    two = torch.ones_like(v0) * 2.0\n",
        "    norm.scatter_add_(0, mesh_faces[:, 0:1], two)\n",
        "    norm.scatter_add_(0, mesh_faces[:, 1:2], two)\n",
        "    norm.scatter_add_(0, mesh_faces[:, 2:3], two)\n",
        "\n",
        "    term = term / torch.clamp(norm, min=1.0)\n",
        "    return torch.mean(term**2)\n",
        "\n",
        "def loss_fn(mesh_verts, mesh_faces, points, st, cfg):\n",
        "    pred_points = kaolin.ops.mesh.sample_points(mesh_verts.unsqueeze(0), mesh_faces, 50000)[0]\n",
        "    loss = kaolin.metrics.pointcloud.chamfer_distance(pred_points, points).mean()\n",
        "    if st > cfg.num_training_steps // 2:\n",
        "        lap = laplace_regularizer_const(mesh_verts, mesh_faces)\n",
        "        loss += lap * cfg.laplacian_weight\n",
        "    return loss"
      ],
      "metadata": {
        "id": "YEN_Z8kCO9EQ"
      },
      "execution_count": 13,
      "outputs": []
    },
    {
      "cell_type": "markdown",
      "source": [
        "## 4. Train"
      ],
      "metadata": {
        "id": "lnkkj16O3Omw"
      }
    },
    {
      "cell_type": "code",
      "source": [
        "model = Decoder().to(cfg.device)"
      ],
      "metadata": {
        "id": "N9QIO8dA3PTC"
      },
      "execution_count": 30,
      "outputs": []
    },
    {
      "cell_type": "code",
      "source": [
        "model.pretrain_sphere(1000)"
      ],
      "metadata": {
        "id": "w_Aatsmr3PbE",
        "colab": {
          "base_uri": "https://localhost:8080/",
          "height": 66,
          "referenced_widgets": [
            "b3f880e1ea0b477fb6332c3451546a8a",
            "3c9ec786542049c08f9da999a2d816de",
            "6403f271d923496787515457f07bd5dd",
            "7cdf8dc4e53f4e8782ef74e7b06f8198",
            "3a099b0cdcfe447488d43fc123d161c4",
            "5935b2e153354186ab82179d11dd85c7",
            "0378dd62730b434db5661d7ebd6e516b",
            "5ded82c4797f4524ad12e12b60845959",
            "796a3139deff4c04a6ebff183266f380",
            "183c56ce965048f6b1139a5199b381de",
            "cba81a2f48654dadad8fec65cf7c3cc1"
          ]
        },
        "outputId": "4c587a7d-45cb-4f64-b3ac-729ce54ddf6a"
      },
      "execution_count": 31,
      "outputs": [
        {
          "output_type": "display_data",
          "data": {
            "text/plain": [
              "  0%|          | 0/1000 [00:00<?, ?it/s]"
            ],
            "application/vnd.jupyter.widget-view+json": {
              "version_major": 2,
              "version_minor": 0,
              "model_id": "b3f880e1ea0b477fb6332c3451546a8a"
            }
          },
          "metadata": {}
        },
        {
          "output_type": "stream",
          "name": "stdout",
          "text": [
            "Finished pretraining\n"
          ]
        }
      ]
    },
    {
      "cell_type": "code",
      "source": [
        "optimizer = torch.optim.Adam(model.parameters(), lr=cfg.lr)\n",
        "scheduler = torch.optim.lr_scheduler.LambdaLR(optimizer, lr_lambda=lambda x: max(0.0, 10**(-x*0.0002))) # LR decay over time"
      ],
      "metadata": {
        "id": "kO-ei54WPAgo"
      },
      "execution_count": 32,
      "outputs": []
    },
    {
      "cell_type": "code",
      "source": [
        "pbar = tqdm(range(1, cfg.num_training_steps+1))\n",
        "for st in pbar:\n",
        "    preds = model(tet_verts) # predict SDF and per-vertex deformation\n",
        "    sdf, deform = preds[:, 0], preds[:, 1:]\n",
        "    verts_deformed = tet_verts + torch.tanh(deform) / 128 # constraint deformation to avoid flipping tets\n",
        "    mesh_verts, mesh_faces = marching_tetrahedra(verts_deformed.unsqueeze(0), tets, sdf.unsqueeze(0)) # running MT (batched) to extract surface mesh\n",
        "    mesh_verts, mesh_faces = mesh_verts[0], mesh_faces[0]\n",
        "    loss = loss_fn(mesh_verts, mesh_faces, points, st, cfg)\n",
        "    \n",
        "    optimizer.zero_grad()\n",
        "    loss.backward()\n",
        "    optimizer.step()\n",
        "    scheduler.step()\n",
        "    pbar.set_postfix({'loss': loss.item()})\n",
        "    \n",
        "    if (st) % 100 == 0: \n",
        "        print(f'Step {st:04d} | loss {loss:.6f} | mesh vertices {mesh_verts.shape[0]:06d} | mesh faces {mesh_faces.shape[0]:06d}')\n",
        "        # save reconstructed mesh\n",
        "        timelapse.add_mesh_batch(\n",
        "            iteration=st,\n",
        "            category='extracted_mesh',\n",
        "            vertices_list=[mesh_verts.cpu()],\n",
        "            faces_list=[mesh_faces.cpu()]\n",
        "        )"
      ],
      "metadata": {
        "colab": {
          "base_uri": "https://localhost:8080/",
          "height": 917,
          "referenced_widgets": [
            "5123a062dcc04d22bd18b469a53841d0",
            "551a2f2d5b0849a7b143947da20a995a",
            "f97da6c0c33445ada41fdaef3d946f8d",
            "aa93514371a545d58bf2765f0335403b",
            "484975d7de0341c288260b464482f42b",
            "69da3722ff3243e883de3f85e84d56fe",
            "bc5ebaab19624974b0505d8d584ea9d0",
            "b40641c295094d47af03831b155a648e",
            "e9967b30e84041a7a3ff225432b4ec86",
            "dfd1300e7abd45fab0ddb00ae5f8467a",
            "d2b1a9934b3443eba8fc65a63fd2298f"
          ]
        },
        "id": "z1vZQYejPgzs",
        "outputId": "1feed664-b2c4-4ec4-f5af-634c1fa5c5cf"
      },
      "execution_count": 34,
      "outputs": [
        {
          "output_type": "display_data",
          "data": {
            "text/plain": [
              "  0%|          | 0/5000 [00:00<?, ?it/s]"
            ],
            "application/vnd.jupyter.widget-view+json": {
              "version_major": 2,
              "version_minor": 0,
              "model_id": "5123a062dcc04d22bd18b469a53841d0"
            }
          },
          "metadata": {}
        },
        {
          "output_type": "stream",
          "name": "stdout",
          "text": [
            "Step 0100 | loss 0.004 | mesh vertices 023354 | mesh faces 046704\n",
            "Step 0200 | loss 0.008 | mesh vertices 028916 | mesh faces 057828\n",
            "Step 0300 | loss 0.002 | mesh vertices 025290 | mesh faces 050576\n",
            "Step 0400 | loss 0.003 | mesh vertices 023204 | mesh faces 046404\n",
            "Step 0500 | loss 0.002 | mesh vertices 027368 | mesh faces 054732\n",
            "Step 0600 | loss 0.001 | mesh vertices 027898 | mesh faces 055792\n",
            "Step 0700 | loss 0.001 | mesh vertices 029706 | mesh faces 059420\n",
            "Step 0800 | loss 0.001 | mesh vertices 030172 | mesh faces 060356\n",
            "Step 0900 | loss 0.001 | mesh vertices 024530 | mesh faces 049052\n",
            "Step 1000 | loss 0.000 | mesh vertices 029516 | mesh faces 059032\n",
            "Step 1100 | loss 0.000 | mesh vertices 028488 | mesh faces 056972\n",
            "Step 1200 | loss 0.000 | mesh vertices 028570 | mesh faces 057140\n",
            "Step 1300 | loss 0.000 | mesh vertices 027982 | mesh faces 055960\n",
            "Step 1400 | loss 0.000 | mesh vertices 028248 | mesh faces 056492\n",
            "Step 1500 | loss 0.000 | mesh vertices 028750 | mesh faces 057496\n",
            "Step 1600 | loss 0.000 | mesh vertices 028654 | mesh faces 057304\n",
            "Step 1700 | loss 0.000 | mesh vertices 029892 | mesh faces 059780\n",
            "Step 1800 | loss 0.000 | mesh vertices 029180 | mesh faces 058356\n",
            "Step 1900 | loss 0.000 | mesh vertices 028662 | mesh faces 057320\n",
            "Step 2000 | loss 0.000 | mesh vertices 028872 | mesh faces 057740\n",
            "Step 2100 | loss 0.000 | mesh vertices 028712 | mesh faces 057420\n",
            "Step 2200 | loss 0.000 | mesh vertices 028370 | mesh faces 056736\n",
            "Step 2300 | loss 0.000 | mesh vertices 026990 | mesh faces 053976\n",
            "Step 2400 | loss 0.000 | mesh vertices 028822 | mesh faces 057640\n",
            "Step 2500 | loss 0.000 | mesh vertices 028428 | mesh faces 056852\n",
            "Step 2600 | loss 0.000 | mesh vertices 028832 | mesh faces 057660\n",
            "Step 2700 | loss 0.000 | mesh vertices 028690 | mesh faces 057376\n",
            "Step 2800 | loss 0.000 | mesh vertices 028680 | mesh faces 057356\n",
            "Step 2900 | loss 0.000 | mesh vertices 028978 | mesh faces 057952\n",
            "Step 3000 | loss 0.000 | mesh vertices 028780 | mesh faces 057556\n",
            "Step 3100 | loss 0.000 | mesh vertices 028956 | mesh faces 057908\n",
            "Step 3200 | loss 0.000 | mesh vertices 028898 | mesh faces 057792\n",
            "Step 3300 | loss 0.000 | mesh vertices 028692 | mesh faces 057380\n",
            "Step 3400 | loss 0.000 | mesh vertices 028778 | mesh faces 057552\n",
            "Step 3500 | loss 0.000 | mesh vertices 029372 | mesh faces 058740\n",
            "Step 3600 | loss 0.000 | mesh vertices 029024 | mesh faces 058044\n",
            "Step 3700 | loss 0.000 | mesh vertices 029058 | mesh faces 058112\n",
            "Step 3800 | loss 0.000 | mesh vertices 029246 | mesh faces 058488\n",
            "Step 3900 | loss 0.000 | mesh vertices 028948 | mesh faces 057892\n",
            "Step 4000 | loss 0.000 | mesh vertices 028482 | mesh faces 056960\n",
            "Step 4100 | loss 0.000 | mesh vertices 028942 | mesh faces 057880\n",
            "Step 4200 | loss 0.000 | mesh vertices 028888 | mesh faces 057772\n",
            "Step 4300 | loss 0.000 | mesh vertices 029010 | mesh faces 058016\n",
            "Step 4400 | loss 0.000 | mesh vertices 028738 | mesh faces 057472\n",
            "Step 4500 | loss 0.000 | mesh vertices 028700 | mesh faces 057396\n",
            "Step 4600 | loss 0.000 | mesh vertices 028728 | mesh faces 057452\n",
            "Step 4700 | loss 0.000 | mesh vertices 028734 | mesh faces 057464\n",
            "Step 4800 | loss 0.000 | mesh vertices 028780 | mesh faces 057556\n",
            "Step 4900 | loss 0.000 | mesh vertices 029020 | mesh faces 058036\n",
            "Step 5000 | loss 0.000 | mesh vertices 028860 | mesh faces 057716\n"
          ]
        }
      ]
    },
    {
      "cell_type": "markdown",
      "source": [
        "## 5. Test"
      ],
      "metadata": {
        "id": "gqiHcVvs3Pjl"
      }
    },
    {
      "cell_type": "code",
      "source": [
        "ngrok.set_auth_token(\"###\")"
      ],
      "metadata": {
        "id": "cS3vV8Febome",
        "colab": {
          "base_uri": "https://localhost:8080/"
        },
        "outputId": "197dfdee-39bb-4a00-a968-c234a4cc6682"
      },
      "execution_count": 26,
      "outputs": [
        {
          "output_type": "stream",
          "name": "stdout",
          "text": []
        }
      ]
    },
    {
      "cell_type": "code",
      "source": [
        "!nohup kaolin-dash3d --logdir=logs --port=80 &"
      ],
      "metadata": {
        "colab": {
          "base_uri": "https://localhost:8080/"
        },
        "id": "1Mhq_ae3cZX3",
        "outputId": "05ef8718-f227-4ea2-f264-7aab5d6cf839"
      },
      "execution_count": 27,
      "outputs": [
        {
          "output_type": "stream",
          "name": "stdout",
          "text": [
            "nohup: appending output to 'nohup.out'\n"
          ]
        }
      ]
    },
    {
      "cell_type": "code",
      "source": [
        "ngrok.connect(port=\"80\")"
      ],
      "metadata": {
        "colab": {
          "base_uri": "https://localhost:8080/"
        },
        "id": "AUYl16EIa8vK",
        "outputId": "36846c21-2d45-40ca-d00d-985be0eb0032"
      },
      "execution_count": 28,
      "outputs": [
        {
          "output_type": "execute_result",
          "data": {
            "text/plain": [
              "<NgrokTunnel: \"http://0939-34-86-244-124.ngrok.io\" -> \"http://localhost:80\">"
            ]
          },
          "metadata": {},
          "execution_count": 28
        }
      ]
    },
    {
      "cell_type": "code",
      "source": [
        "ngrok.kill()"
      ],
      "metadata": {
        "id": "Lm1CaZkrb5TR"
      },
      "execution_count": 35,
      "outputs": []
    }
  ]
}