{
  "nbformat": 4,
  "nbformat_minor": 0,
  "metadata": {
    "colab": {
      "name": "DDPG",
      "provenance": [],
      "collapsed_sections": [],
      "toc_visible": true
    },
    "kernelspec": {
      "name": "python3",
      "display_name": "Python 3"
    },
    "accelerator": "GPU",
    "widgets": {
      "application/vnd.jupyter.widget-state+json": {
        "2e7908f89c5f4586b0c6cb0d351b211d": {
          "model_module": "@jupyter-widgets/controls",
          "model_name": "HBoxModel",
          "state": {
            "_view_name": "HBoxView",
            "_dom_classes": [],
            "_model_name": "HBoxModel",
            "_view_module": "@jupyter-widgets/controls",
            "_model_module_version": "1.5.0",
            "_view_count": null,
            "_view_module_version": "1.5.0",
            "box_style": "",
            "layout": "IPY_MODEL_026600ba617347c380e373d703bbe48e",
            "_model_module": "@jupyter-widgets/controls",
            "children": [
              "IPY_MODEL_418cb7759f354dd3bc8541ac7caaf1d2",
              "IPY_MODEL_9d6e64c1259e4101a2962fa8820edc86"
            ]
          }
        },
        "026600ba617347c380e373d703bbe48e": {
          "model_module": "@jupyter-widgets/base",
          "model_name": "LayoutModel",
          "state": {
            "_view_name": "LayoutView",
            "grid_template_rows": null,
            "right": null,
            "justify_content": null,
            "_view_module": "@jupyter-widgets/base",
            "overflow": null,
            "_model_module_version": "1.2.0",
            "_view_count": null,
            "flex_flow": null,
            "width": null,
            "min_width": null,
            "border": null,
            "align_items": null,
            "bottom": null,
            "_model_module": "@jupyter-widgets/base",
            "top": null,
            "grid_column": null,
            "overflow_y": null,
            "overflow_x": null,
            "grid_auto_flow": null,
            "grid_area": null,
            "grid_template_columns": null,
            "flex": null,
            "_model_name": "LayoutModel",
            "justify_items": null,
            "grid_row": null,
            "max_height": null,
            "align_content": null,
            "visibility": null,
            "align_self": null,
            "height": null,
            "min_height": null,
            "padding": null,
            "grid_auto_rows": null,
            "grid_gap": null,
            "max_width": null,
            "order": null,
            "_view_module_version": "1.2.0",
            "grid_template_areas": null,
            "object_position": null,
            "object_fit": null,
            "grid_auto_columns": null,
            "margin": null,
            "display": null,
            "left": null
          }
        },
        "418cb7759f354dd3bc8541ac7caaf1d2": {
          "model_module": "@jupyter-widgets/controls",
          "model_name": "FloatProgressModel",
          "state": {
            "_view_name": "ProgressView",
            "style": "IPY_MODEL_c19cdefb2e764ef0b85467438bc7cb80",
            "_dom_classes": [],
            "description": "100%",
            "_model_name": "FloatProgressModel",
            "bar_style": "success",
            "max": 300000,
            "_view_module": "@jupyter-widgets/controls",
            "_model_module_version": "1.5.0",
            "value": 300000,
            "_view_count": null,
            "_view_module_version": "1.5.0",
            "orientation": "horizontal",
            "min": 0,
            "description_tooltip": null,
            "_model_module": "@jupyter-widgets/controls",
            "layout": "IPY_MODEL_cadcad3b01224174b395a956c0ec9325"
          }
        },
        "9d6e64c1259e4101a2962fa8820edc86": {
          "model_module": "@jupyter-widgets/controls",
          "model_name": "HTMLModel",
          "state": {
            "_view_name": "HTMLView",
            "style": "IPY_MODEL_79d64d9e400a497084073c8d7986f4cb",
            "_dom_classes": [],
            "description": "",
            "_model_name": "HTMLModel",
            "placeholder": "​",
            "_view_module": "@jupyter-widgets/controls",
            "_model_module_version": "1.5.0",
            "value": " 300000/300000 [24:32&lt;00:00, 203.76it/s, log=EP 01499 | Reward -126.554]",
            "_view_count": null,
            "_view_module_version": "1.5.0",
            "description_tooltip": null,
            "_model_module": "@jupyter-widgets/controls",
            "layout": "IPY_MODEL_19371e34ea2b48628205bdcce2b764c6"
          }
        },
        "c19cdefb2e764ef0b85467438bc7cb80": {
          "model_module": "@jupyter-widgets/controls",
          "model_name": "ProgressStyleModel",
          "state": {
            "_view_name": "StyleView",
            "_model_name": "ProgressStyleModel",
            "description_width": "initial",
            "_view_module": "@jupyter-widgets/base",
            "_model_module_version": "1.5.0",
            "_view_count": null,
            "_view_module_version": "1.2.0",
            "bar_color": null,
            "_model_module": "@jupyter-widgets/controls"
          }
        },
        "cadcad3b01224174b395a956c0ec9325": {
          "model_module": "@jupyter-widgets/base",
          "model_name": "LayoutModel",
          "state": {
            "_view_name": "LayoutView",
            "grid_template_rows": null,
            "right": null,
            "justify_content": null,
            "_view_module": "@jupyter-widgets/base",
            "overflow": null,
            "_model_module_version": "1.2.0",
            "_view_count": null,
            "flex_flow": null,
            "width": null,
            "min_width": null,
            "border": null,
            "align_items": null,
            "bottom": null,
            "_model_module": "@jupyter-widgets/base",
            "top": null,
            "grid_column": null,
            "overflow_y": null,
            "overflow_x": null,
            "grid_auto_flow": null,
            "grid_area": null,
            "grid_template_columns": null,
            "flex": null,
            "_model_name": "LayoutModel",
            "justify_items": null,
            "grid_row": null,
            "max_height": null,
            "align_content": null,
            "visibility": null,
            "align_self": null,
            "height": null,
            "min_height": null,
            "padding": null,
            "grid_auto_rows": null,
            "grid_gap": null,
            "max_width": null,
            "order": null,
            "_view_module_version": "1.2.0",
            "grid_template_areas": null,
            "object_position": null,
            "object_fit": null,
            "grid_auto_columns": null,
            "margin": null,
            "display": null,
            "left": null
          }
        },
        "79d64d9e400a497084073c8d7986f4cb": {
          "model_module": "@jupyter-widgets/controls",
          "model_name": "DescriptionStyleModel",
          "state": {
            "_view_name": "StyleView",
            "_model_name": "DescriptionStyleModel",
            "description_width": "",
            "_view_module": "@jupyter-widgets/base",
            "_model_module_version": "1.5.0",
            "_view_count": null,
            "_view_module_version": "1.2.0",
            "_model_module": "@jupyter-widgets/controls"
          }
        },
        "19371e34ea2b48628205bdcce2b764c6": {
          "model_module": "@jupyter-widgets/base",
          "model_name": "LayoutModel",
          "state": {
            "_view_name": "LayoutView",
            "grid_template_rows": null,
            "right": null,
            "justify_content": null,
            "_view_module": "@jupyter-widgets/base",
            "overflow": null,
            "_model_module_version": "1.2.0",
            "_view_count": null,
            "flex_flow": null,
            "width": null,
            "min_width": null,
            "border": null,
            "align_items": null,
            "bottom": null,
            "_model_module": "@jupyter-widgets/base",
            "top": null,
            "grid_column": null,
            "overflow_y": null,
            "overflow_x": null,
            "grid_auto_flow": null,
            "grid_area": null,
            "grid_template_columns": null,
            "flex": null,
            "_model_name": "LayoutModel",
            "justify_items": null,
            "grid_row": null,
            "max_height": null,
            "align_content": null,
            "visibility": null,
            "align_self": null,
            "height": null,
            "min_height": null,
            "padding": null,
            "grid_auto_rows": null,
            "grid_gap": null,
            "max_width": null,
            "order": null,
            "_view_module_version": "1.2.0",
            "grid_template_areas": null,
            "object_position": null,
            "object_fit": null,
            "grid_auto_columns": null,
            "margin": null,
            "display": null,
            "left": null
          }
        }
      }
    }
  },
  "cells": [
    {
      "cell_type": "markdown",
      "metadata": {
        "id": "wzh7yGxNDluC"
      },
      "source": [
        "# DDPG"
      ]
    },
    {
      "cell_type": "markdown",
      "metadata": {
        "id": "Iki6sM3EDsjS"
      },
      "source": [
        "## 0. Paper"
      ]
    },
    {
      "cell_type": "markdown",
      "metadata": {
        "id": "subFe3E5DttM"
      },
      "source": [
        "### Info\n",
        "* Title: Continuous Control with Deep Reinforcement Learning\n",
        "* Author: Timothy P. Lillicrap\n",
        "* Task: Reinforcement Learning\n",
        "* Link: https://arxiv.org/abs/1509.02971\n",
        "\n",
        "\n",
        "### Features\n",
        "* Environment: Pendulum\n",
        "\n",
        "### Reference\n",
        "* https://github.com/soumik12345/DDPG"
      ]
    },
    {
      "cell_type": "markdown",
      "metadata": {
        "id": "JuaQpOWMD9tz"
      },
      "source": [
        "## 1. Setting"
      ]
    },
    {
      "cell_type": "code",
      "metadata": {
        "id": "ZizQk84lEC3L"
      },
      "source": [
        "import os\n",
        "import copy\n",
        "import gym\n",
        "from tqdm.auto import tqdm\n",
        "\n",
        "import numpy as np\n",
        "import pandas as pd\n",
        "import seaborn as sns\n",
        "import matplotlib.pyplot as plt\n",
        "from PIL import Image\n",
        "\n",
        "import torch\n",
        "import torch.nn as nn\n",
        "import torch.nn.functional as F\n",
        "import torchvision\n",
        "import torchvision.transforms as transforms\n",
        "from torchsummary import torchsummary"
      ],
      "execution_count": null,
      "outputs": []
    },
    {
      "cell_type": "code",
      "metadata": {
        "id": "k585LEOicg-4"
      },
      "source": [
        "class CONFIG:\n",
        "    exploration_noise = 0.1\n",
        "    batch_size = 256\n",
        "    start_step = int(5e4)\n",
        "    step_size = int(3e5)\n",
        "    device = 'cuda' if torch.cuda.is_available() else 'cpu'\n",
        "    env = 'Pendulum-v0'\n",
        "    base_dir = '/content/drive/Shared drives/Yoon/Project/Doing/Deep Learning Paper Implementation'"
      ],
      "execution_count": null,
      "outputs": []
    },
    {
      "cell_type": "markdown",
      "metadata": {
        "id": "Qd9D_aouEVMB"
      },
      "source": [
        "## 2. Data"
      ]
    },
    {
      "cell_type": "code",
      "metadata": {
        "id": "9mC4ZCHJiuO8"
      },
      "source": [
        "def create_env():\n",
        "    env = gym.make(CONFIG.env)\n",
        "    state_dim = env.observation_space.shape[0]\n",
        "    action_dim = env.action_space.shape[0]\n",
        "    max_action = env.action_space.high[0]\n",
        "    return env, state_dim, action_dim, max_action"
      ],
      "execution_count": null,
      "outputs": []
    },
    {
      "cell_type": "code",
      "metadata": {
        "id": "gCdnQjRJFn-M",
        "colab": {
          "base_uri": "https://localhost:8080/"
        },
        "outputId": "f7cefbc0-fdd1-470b-9d3c-3955f1d8756c"
      },
      "source": [
        "env, state_dim, action_dim, max_action = create_env()\n",
        "print('observation space : ', env.observation_space)\n",
        "print('action space : ', env.action_space)"
      ],
      "execution_count": null,
      "outputs": [
        {
          "output_type": "stream",
          "text": [
            "observation space :  Box(-8.0, 8.0, (3,), float32)\n",
            "action space :  Box(-2.0, 2.0, (1,), float32)\n"
          ],
          "name": "stdout"
        }
      ]
    },
    {
      "cell_type": "markdown",
      "metadata": {
        "id": "bLljDsOoFoLN"
      },
      "source": [
        "## 3. Model"
      ]
    },
    {
      "cell_type": "code",
      "metadata": {
        "id": "b3Esj_ZOjEnq"
      },
      "source": [
        "class ReplayBuffer(object):\n",
        "    def __init__(self, state_dim, action_dim, device, buffer_size=int(1e6)):\n",
        "        self.device = device\n",
        "        self.buffer_size = buffer_size\n",
        "        self.ptr = 0\n",
        "        self.size = 0\n",
        "        \n",
        "        self.state = np.zeros((buffer_size, state_dim))\n",
        "        self.action = np.zeros((buffer_size, action_dim))\n",
        "        self.next_state = np.zeros((buffer_size, state_dim))\n",
        "        self.reward = np.zeros((buffer_size, 1))\n",
        "        self.done = np.zeros((buffer_size, 1))\n",
        "\n",
        "    def add(self, state, action, next_state, reward, done):\n",
        "        self.state[self.ptr] = state\n",
        "        self.action[self.ptr] = action\n",
        "        self.next_state[self.ptr] = next_state\n",
        "        self.reward[self.ptr] = reward\n",
        "        self.done[self.ptr] = done\n",
        "\n",
        "        self.ptr = (self.ptr + 1) % self.buffer_size\n",
        "        self.size = min(self.size + 1, self.buffer_size)\n",
        "    \n",
        "    def sample(self, batch_size=128):\n",
        "        indices = np.random.randint(0, self.size, size=batch_size)\n",
        "        return (\n",
        "            torch.Tensor(self.state[indices]).to(self.device),\n",
        "            torch.Tensor(self.action[indices]).to(self.device),\n",
        "            torch.Tensor(self.next_state[indices]).to(self.device),\n",
        "            torch.Tensor(self.reward[indices]).to(self.device),\n",
        "            torch.Tensor(self.done[indices]).to(self.device),\n",
        "        )"
      ],
      "execution_count": null,
      "outputs": []
    },
    {
      "cell_type": "code",
      "metadata": {
        "id": "2NbRhIkmFo47"
      },
      "source": [
        "class Actor(nn.Module):\n",
        "    def __init__(self, state_dim, action_dim, max_action):\n",
        "        super(Actor, self).__init__()\n",
        "        self.max_action = max_action\n",
        "\n",
        "        self.fc1 = nn.Linear(state_dim, 400)\n",
        "        self.fc2 = nn.Linear(400, 300)\n",
        "        self.fc3 = nn.Linear(300, action_dim)\n",
        "        self.relu = nn.ReLU()\n",
        "        self.tanh = nn.Tanh()\n",
        "    \n",
        "    def forward(self, x):\n",
        "        x = self.relu(self.fc1(x))\n",
        "        x = self.relu(self.fc2(x))\n",
        "        x = self.tanh(self.fc3(x))\n",
        "        return x * self.max_action\n",
        "\n",
        "class Critic(nn.Module):\n",
        "    def __init__(self, state_dim, action_dim):\n",
        "        super(Critic, self).__init__()\n",
        "        self.fc1 = nn.Linear(state_dim+action_dim, 400)\n",
        "        self.fc2 = nn.Linear(400, 300)\n",
        "        self.fc3 = nn.Linear(300, 1)\n",
        "        self.relu = nn.ReLU()\n",
        "    \n",
        "    def forward(self, state, action):\n",
        "        x = torch.cat([state, action], dim=1)\n",
        "        x = self.relu(self.fc1(x))\n",
        "        x = self.relu(self.fc2(x))\n",
        "        return self.fc3(x)\n",
        "\n",
        "\n",
        "class DDPG(object):\n",
        "    def __init__(self, state_dim, action_dim, max_action, device, discount=0.99, tau=0.005):\n",
        "        self.device = device\n",
        "        self.discount = discount\n",
        "        self.tau = tau\n",
        "\n",
        "        self.actor = Actor(state_dim, action_dim, max_action).to(device)\n",
        "        self.actor_target = copy.deepcopy(self.actor)\n",
        "        self.actor_optim = torch.optim.Adam(self.actor.parameters())\n",
        "        self.critic = Critic(state_dim, action_dim).to(device)\n",
        "        self.critic_target = copy.deepcopy(self.critic)\n",
        "        self.critic_optim = torch.optim.Adam(self.critic.parameters())\n",
        "\n",
        "\n",
        "    def act(self, state):\n",
        "        state = torch.Tensor(state).to(self.device)\n",
        "        action = self.actor(state).cpu().data.numpy()\n",
        "        return action\n",
        "\n",
        "    def train(self, replay_buffer):\n",
        "        state, action, next_state, reward, done = replay_buffer.sample()\n",
        "        target_q = self.critic_target(next_state, self.actor_target(next_state))\n",
        "        target_q = reward + ((1. - done) * self.discount * target_q).detach()\n",
        "        current_q = self.critic(state, action)\n",
        "        critic_loss = F.mse_loss(current_q, target_q)\n",
        "        self.critic_optim.zero_grad()\n",
        "        critic_loss.backward()\n",
        "        self.critic_optim.step()\n",
        "\n",
        "        actor_loss = -self.critic(state, self.actor(state)).mean()\n",
        "        self.actor_optim.zero_grad()\n",
        "        actor_loss.backward()\n",
        "        self.actor_optim.step()\n",
        "\n",
        "        for param, target_param in zip(self.critic.parameters(), self.critic_target.parameters()):\n",
        "            target_param.data.copy_(self.tau * param.data + (1 - self.tau) * target_param.data)\n",
        "        for param, target_param in zip(self.actor.parameters(), self.actor_target.parameters()):\n",
        "            target_param.data.copy_(self.tau * param.data + (1 - self.tau) * target_param.data)\n",
        "\n",
        "        return critic_loss.item(), actor_loss.item()\n",
        "\n",
        "    def save(self):\n",
        "        ckpt = {\n",
        "            'critic': self.critic.state_dict(),\n",
        "            'critic_optim': self.critic_optim.state_dict(),\n",
        "            'actor': self.actor.state_dict(),\n",
        "            'actor_optim': self.actor_optim.state_dict()\n",
        "        }\n",
        "        torch.save(ckpt, 'ckpt.pt')\n",
        "    \n",
        "    def load(self):\n",
        "        ckpt = torch.load('ckpt.pt')\n",
        "        self.critic.load_state_dict(ckpt['critic'])\n",
        "        self.critic_target.load_state_dict(ckpt['critic'])\n",
        "        self.critic_optim.load_state_dict(ckpt['critic_optim'])\n",
        "\n",
        "        self.actor.load_state_dict(ckpt['actor'])\n",
        "        self.actor_target.load_state_dict(ckpt['actor'])\n",
        "        self.actor_optim.load_state_dict(ckpt['actor_optim'])"
      ],
      "execution_count": null,
      "outputs": []
    },
    {
      "cell_type": "markdown",
      "metadata": {
        "id": "AILnMW_tFpOG"
      },
      "source": [
        "## 4. Experiment"
      ]
    },
    {
      "cell_type": "code",
      "metadata": {
        "id": "yBy_2nWr4sEF"
      },
      "source": [
        "def train():\n",
        "    env, state_dim, action_dim, max_action = create_env()\n",
        "    agent = DDPG(state_dim, action_dim,max_action, CONFIG.device)\n",
        "    replay_buffer = ReplayBuffer(state_dim, action_dim, CONFIG.device)\n",
        "    \n",
        "    episode_rewards = []\n",
        "    episode, episode_reward, episode_step = 0, 0, 0\n",
        "\n",
        "    state, done = env.reset(), False\n",
        "    pbar = tqdm(range(CONFIG.step_size))\n",
        "    for st in pbar:\n",
        "        episode_step += 1\n",
        "\n",
        "        if st < CONFIG.start_step:\n",
        "            action = env.action_space.sample()\n",
        "        else:\n",
        "            noise = np.random.normal(0, max_action * 0.1, size=action_dim)\n",
        "            action = agent.act(state) + noise\n",
        "            action = action.clip(-max_action, max_action)\n",
        "        \n",
        "        next_state, reward, done, _ = env.step(action)\n",
        "        _done = done if episode_step < env._max_episode_steps else False\n",
        "        replay_buffer.add(state, action, next_state, reward, _done)\n",
        "\n",
        "        state = next_state\n",
        "        episode_reward += reward\n",
        "\n",
        "        if st >= CONFIG.start_step:\n",
        "            agent.train(replay_buffer)\n",
        "        if done:\n",
        "            pbar.set_postfix(log=f'EP {episode:05d} | Reward {episode_reward:.3f}')\n",
        "            state, done = env.reset(), False\n",
        "            episode_rewards.append(episode_reward)\n",
        "            episode_reward, episode_step = 0, 0\n",
        "            episode += 1\n",
        "    \n",
        "    agent.save()\n",
        "    return episode_rewards"
      ],
      "execution_count": null,
      "outputs": []
    },
    {
      "cell_type": "code",
      "metadata": {
        "id": "XVNvxUexsePK"
      },
      "source": [
        "def test(num_episode):\n",
        "    env, state_dim, action_dim, max_action = create_env()\n",
        "    agent = DDPG(state_dim, action_dim,max_action, CONFIG.device)\n",
        "    agent.load()\n",
        "\n",
        "    for ep in range(num_episode):\n",
        "        episode_reward = 0\n",
        "        state, done = env.reset(), False\n",
        "        while not done:\n",
        "            action = agent.act(state)\n",
        "            state, reward, done, _ = env.step(action)\n",
        "            episode_reward += reward\n",
        "        print(f'EP {ep:02d} | Reward {episode_reward:.3f}')\n",
        "    \n",
        "    env.close()"
      ],
      "execution_count": null,
      "outputs": []
    },
    {
      "cell_type": "code",
      "metadata": {
        "colab": {
          "base_uri": "https://localhost:8080/",
          "height": 66,
          "referenced_widgets": [
            "2e7908f89c5f4586b0c6cb0d351b211d",
            "026600ba617347c380e373d703bbe48e",
            "418cb7759f354dd3bc8541ac7caaf1d2",
            "9d6e64c1259e4101a2962fa8820edc86",
            "c19cdefb2e764ef0b85467438bc7cb80",
            "cadcad3b01224174b395a956c0ec9325",
            "79d64d9e400a497084073c8d7986f4cb",
            "19371e34ea2b48628205bdcce2b764c6"
          ]
        },
        "id": "QaEZe7AllPuO",
        "outputId": "8b8fb0cf-783f-4bc6-b9ca-39caf4fefd26"
      },
      "source": [
        "train_rewards = train()"
      ],
      "execution_count": null,
      "outputs": [
        {
          "output_type": "display_data",
          "data": {
            "application/vnd.jupyter.widget-view+json": {
              "model_id": "2e7908f89c5f4586b0c6cb0d351b211d",
              "version_minor": 0,
              "version_major": 2
            },
            "text/plain": [
              "HBox(children=(FloatProgress(value=0.0, max=300000.0), HTML(value='')))"
            ]
          },
          "metadata": {
            "tags": []
          }
        },
        {
          "output_type": "stream",
          "text": [
            "\n"
          ],
          "name": "stdout"
        }
      ]
    },
    {
      "cell_type": "code",
      "metadata": {
        "colab": {
          "base_uri": "https://localhost:8080/",
          "height": 281
        },
        "id": "-kgKAEiIxp6b",
        "outputId": "7aebacf6-f772-4221-9d35-9679cf941ecb"
      },
      "source": [
        "plt.plot(train_rewards)\n",
        "plt.title('Rewards')\n",
        "plt.show()"
      ],
      "execution_count": null,
      "outputs": [
        {
          "output_type": "display_data",
          "data": {
            "image/png": "[encoded data removed]",
            "text/plain": [
              "<Figure size 432x288 with 1 Axes>"
            ]
          },
          "metadata": {
            "tags": [],
            "needs_background": "light"
          }
        }
      ]
    },
    {
      "cell_type": "code",
      "metadata": {
        "colab": {
          "base_uri": "https://localhost:8080/"
        },
        "id": "ztoMWqL5tOv4",
        "outputId": "5afac003-2f17-4bdf-e34c-f1ec6f043844"
      },
      "source": [
        "test(10)"
      ],
      "execution_count": null,
      "outputs": [
        {
          "output_type": "stream",
          "text": [
            "EP 00 | Reward -11.633\n",
            "EP 01 | Reward -128.366\n",
            "EP 02 | Reward -236.354\n",
            "EP 03 | Reward -249.250\n",
            "EP 04 | Reward -11.529\n",
            "EP 05 | Reward -226.311\n",
            "EP 06 | Reward -130.351\n",
            "EP 07 | Reward -128.865\n",
            "EP 08 | Reward -123.923\n",
            "EP 09 | Reward -241.677\n"
          ],
          "name": "stdout"
        }
      ]
    },
    {
      "cell_type": "code",
      "metadata": {
        "id": "Sk9tkvuLyKLT"
      },
      "source": [
        ""
      ],
      "execution_count": null,
      "outputs": []
    }
  ]
}