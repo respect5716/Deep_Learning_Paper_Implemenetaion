{
  "cells": [
    {
      "cell_type": "markdown",
      "metadata": {
        "id": "view-in-github",
        "colab_type": "text"
      },
      "source": [
        "<a href=\"https://colab.research.google.com/github/yongsun-yoon/deep-learning-paper-implementation/blob/main/03-natural-language-process/PatternRank.ipynb\" target=\"_parent\"><img src=\"https://colab.research.google.com/assets/colab-badge.svg\" alt=\"Open In Colab\"/></a>"
      ]
    },
    {
      "cell_type": "markdown",
      "id": "e5af45c7-3f20-4619-b221-db967f54499b",
      "metadata": {
        "id": "e5af45c7-3f20-4619-b221-db967f54499b"
      },
      "source": [
        "# PatternRank"
      ]
    },
    {
      "cell_type": "markdown",
      "id": "fffb492d-bb93-4b95-bb91-ab830fc8c4f3",
      "metadata": {
        "id": "fffb492d-bb93-4b95-bb91-ab830fc8c4f3"
      },
      "source": [
        "## 0. Info"
      ]
    },
    {
      "cell_type": "markdown",
      "id": "52cd925e-683e-4553-8a4a-3e988667efee",
      "metadata": {
        "id": "52cd925e-683e-4553-8a4a-3e988667efee"
      },
      "source": [
        "### paper\n",
        "* title: PatternRank: Leveraging Pretrained Language Models and Part of Speech for Unsupervised Keyphrase Extraction\n",
        "* author: Tim Schopf et al.\n",
        "* url: https://arxiv.org/abs/2210.05245\n",
        "\n",
        "### feats\n",
        "* data: KorQuAD\n",
        "* sbert: Huffon/sentence-klue-roberta-base, [link](https://huggingface.co/Huffon/sentence-klue-roberta-base)\n",
        "\n",
        "### refs\n",
        "* https://github.com/TimSchopf/KeyphraseVectorizers"
      ]
    },
    {
      "cell_type": "markdown",
      "id": "6ed896ae-9f33-41e8-8940-b6d5ad96a765",
      "metadata": {
        "id": "6ed896ae-9f33-41e8-8940-b6d5ad96a765"
      },
      "source": [
        "## 1. Setup"
      ]
    },
    {
      "cell_type": "code",
      "execution_count": null,
      "id": "be67ec69-3907-4e5a-9b2d-5f4c389d6667",
      "metadata": {
        "id": "be67ec69-3907-4e5a-9b2d-5f4c389d6667"
      },
      "outputs": [],
      "source": [
        "import nltk\n",
        "import spacy\n",
        "import numpy as np\n",
        "from kiwipiepy import Kiwi\n",
        "\n",
        "import torch\n",
        "from sentence_transformers import SentenceTransformer, util\n",
        "from datasets import load_dataset"
      ]
    },
    {
      "cell_type": "markdown",
      "id": "a6c4aaa6-532e-4fae-9054-c6bd88ee81eb",
      "metadata": {
        "id": "a6c4aaa6-532e-4fae-9054-c6bd88ee81eb"
      },
      "source": [
        "## 2. Prepare"
      ]
    },
    {
      "cell_type": "code",
      "execution_count": null,
      "id": "721b6a40-c641-4ea7-8596-744fb41edc47",
      "metadata": {
        "id": "721b6a40-c641-4ea7-8596-744fb41edc47"
      },
      "outputs": [],
      "source": [
        "tagger = Kiwi()"
      ]
    },
    {
      "cell_type": "code",
      "execution_count": null,
      "id": "0ec55cd6-6338-47f9-b815-5cca9b6a372e",
      "metadata": {
        "id": "0ec55cd6-6338-47f9-b815-5cca9b6a372e",
        "outputId": "eb99932b-c38f-4e15-d4da-a35c986a0614"
      },
      "outputs": [
        {
          "name": "stderr",
          "output_type": "stream",
          "text": [
            "No sentence-transformers model found with name /root/.cache/torch/sentence_transformers/Huffon_sentence-klue-roberta-base. Creating a new one with MEAN pooling.\n"
          ]
        }
      ],
      "source": [
        "sbert = SentenceTransformer(\"Huffon/sentence-klue-roberta-base\", device='cuda:0')"
      ]
    },
    {
      "cell_type": "code",
      "execution_count": null,
      "id": "16104aba-8cde-44fe-a282-2461c152c125",
      "metadata": {
        "tags": [],
        "id": "16104aba-8cde-44fe-a282-2461c152c125",
        "outputId": "1c601e4c-a42a-4f48-8f3c-7a5094f5ee0f",
        "colab": {
          "referenced_widgets": [
            "fc75e74a7ff049d58c43fb2b436ebca5"
          ]
        }
      },
      "outputs": [
        {
          "name": "stderr",
          "output_type": "stream",
          "text": [
            "Found cached dataset korquad (/root/.cache/huggingface/datasets/KETI-AIR___korquad/v1.0/1.0.0/2f25bce677d9a1757c546a0db238083efafcb3b2c254b5883136455d7133abe1)\n"
          ]
        },
        {
          "data": {
            "application/vnd.jupyter.widget-view+json": {
              "model_id": "fc75e74a7ff049d58c43fb2b436ebca5",
              "version_major": 2,
              "version_minor": 0
            },
            "text/plain": [
              "  0%|          | 0/2 [00:00<?, ?it/s]"
            ]
          },
          "metadata": {},
          "output_type": "display_data"
        }
      ],
      "source": [
        "data = load_dataset('KETI-AIR/korquad', 'v1.0')\n",
        "data = data['train']"
      ]
    },
    {
      "cell_type": "code",
      "execution_count": null,
      "id": "41160d05-bacf-4caa-b663-89b90cdb45b5",
      "metadata": {
        "id": "41160d05-bacf-4caa-b663-89b90cdb45b5"
      },
      "outputs": [],
      "source": [
        "data = data.to_pandas()\n",
        "data = data['context'].drop_duplicates().tolist()"
      ]
    },
    {
      "cell_type": "markdown",
      "id": "9db3e9da-263a-44c0-91e2-2418d8a9cb64",
      "metadata": {
        "id": "9db3e9da-263a-44c0-91e2-2418d8a9cb64"
      },
      "source": [
        "## 3. Run"
      ]
    },
    {
      "cell_type": "code",
      "execution_count": null,
      "id": "e5eacde2-fa82-42dc-b0f0-8e919034db05",
      "metadata": {
        "id": "e5eacde2-fa82-42dc-b0f0-8e919034db05"
      },
      "outputs": [],
      "source": [
        "def extract_keyphrases(text, tagger, sbert, pattern='<N.*>+', k=5, max_length=768):\n",
        "    tokens = tagger.tokenize(text)\n",
        "    pos_tuples = [(t.form, t.tag) for t in tokens]\n",
        "    \n",
        "    parser = nltk.RegexpParser('CHUNK: {(' + pattern + ')}')\n",
        "    tree = parser.parse(pos_tuples)\n",
        "    \n",
        "    candidates = []\n",
        "    for subtree in tree.subtrees(filter=lambda tuple: tuple.label() == 'CHUNK'):\n",
        "        cand = ' '.join([i[0] for i in subtree.leaves()])\n",
        "        cand = cand.strip()\n",
        "        candidates.append(cand)\n",
        "    candidates = list(set(candidates))\n",
        "    \n",
        "    text = text[:max_length]\n",
        "    embeds = sbert.encode([text] + candidates)\n",
        "    scores = util.pytorch_cos_sim(embeds[:1], embeds[1:])[0].numpy()\n",
        "    ranks = np.argsort(-scores)\n",
        "    \n",
        "    keyphrases = []\n",
        "    for r in ranks:\n",
        "        candidate = candidates[r]\n",
        "        score = scores[r]\n",
        "        if candidate not in keyphrases:\n",
        "            keyphrases.append({'keyphrase': candidate, 'score': score})\n",
        "        if len(keyphrases) == k:\n",
        "            break\n",
        "            \n",
        "    return keyphrases"
      ]
    },
    {
      "cell_type": "code",
      "execution_count": null,
      "id": "f60656df-c10c-44be-9625-e982cb72da2f",
      "metadata": {
        "id": "f60656df-c10c-44be-9625-e982cb72da2f",
        "outputId": "791a4a3c-bac6-4626-851e-2eb0ddeea050"
      },
      "outputs": [
        {
          "data": {
            "text/plain": [
              "'1839년 바그너는 괴테의 파우스트을 처음 읽고 그 내용에 마음이 끌려 이를 소재로 해서 하나의 교향곡을 쓰려는 뜻을 갖는다. 이 시기 바그너는 1838년에 빛 독촉으로 산전수전을 다 걲은 상황이라 좌절과 실망에 가득했으며 메피스토펠레스를 만나는 파우스트의 심경에 공감했다고 한다. 또한 파리에서 아브네크의 지휘로 파리 음악원 관현악단이 연주하는 베토벤의 교향곡 9번을 듣고 깊은 감명을 받았는데, 이것이 이듬해 1월에 파우스트의 서곡으로 쓰여진 이 작품에 조금이라도 영향을 끼쳤으리라는 것은 의심할 여지가 없다. 여기의 라단조 조성의 경우에도 그의 전기에 적혀 있는 것처럼 단순한 정신적 피로나 실의가 반영된 것이 아니라 베토벤의 합창교향곡 조성의 영향을 받은 것을 볼 수 있다. 그렇게 교향곡 작곡을 1839년부터 40년에 걸쳐 파리에서 착수했으나 1악장을 쓴 뒤에 중단했다. 또한 작품의 완성과 동시에 그는 이 서곡(1악장)을 파리 음악원의 연주회에서 연주할 파트보까지 준비하였으나, 실제로는 이루어지지는 않았다. 결국 초연은 4년 반이 지난 후에 드레스덴에서 연주되었고 재연도 이루어졌지만, 이후에 그대로 방치되고 말았다. 그 사이에 그는 리엔치와 방황하는 네덜란드인을 완성하고 탄호이저에도 착수하는 등 분주한 시간을 보냈는데, 그런 바쁜 생활이 이 곡을 잊게 한 것이 아닌가 하는 의견도 있다.'"
            ]
          },
          "execution_count": 7,
          "metadata": {},
          "output_type": "execute_result"
        }
      ],
      "source": [
        "text = data[0]\n",
        "text"
      ]
    },
    {
      "cell_type": "code",
      "execution_count": null,
      "id": "5a9b7b8e-bb47-428c-ad9b-83a7c1d4a140",
      "metadata": {
        "id": "5a9b7b8e-bb47-428c-ad9b-83a7c1d4a140",
        "outputId": "60e91ee0-cc66-431e-d629-9ac78a4f434b"
      },
      "outputs": [
        {
          "data": {
            "text/plain": [
              "[{'keyphrase': '교향곡 작곡', 'score': 0.34518024},\n",
              " {'keyphrase': '시기 바그너', 'score': 0.2832832},\n",
              " {'keyphrase': '합창 교향곡 조성', 'score': 0.2767795},\n",
              " {'keyphrase': '파리 음악원 관현악단', 'score': 0.24829283},\n",
              " {'keyphrase': '교향곡', 'score': 0.23332232}]"
            ]
          },
          "execution_count": 8,
          "metadata": {},
          "output_type": "execute_result"
        }
      ],
      "source": [
        "keyphrases = extract_keyphrases(text, tagger, sbert)\n",
        "keyphrases"
      ]
    },
    {
      "cell_type": "code",
      "execution_count": null,
      "id": "ad09e315-bebf-453f-8a09-8c58ba30931b",
      "metadata": {
        "id": "ad09e315-bebf-453f-8a09-8c58ba30931b"
      },
      "outputs": [],
      "source": []
    }
  ],
  "metadata": {
    "kernelspec": {
      "display_name": "Python 3 (ipykernel)",
      "language": "python",
      "name": "python3"
    },
    "language_info": {
      "codemirror_mode": {
        "name": "ipython",
        "version": 3
      },
      "file_extension": ".py",
      "mimetype": "text/x-python",
      "name": "python",
      "nbconvert_exporter": "python",
      "pygments_lexer": "ipython3",
      "version": "3.7.13"
    },
    "colab": {
      "provenance": [],
      "include_colab_link": true
    }
  },
  "nbformat": 4,
  "nbformat_minor": 5
}