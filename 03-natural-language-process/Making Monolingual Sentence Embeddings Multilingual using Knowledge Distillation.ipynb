{
  "nbformat": 4,
  "nbformat_minor": 0,
  "metadata": {
    "colab": {
      "provenance": [],
      "authorship_tag": "ABX9TyNKobx8uRytAXyQI45Imx/o",
      "include_colab_link": true
    },
    "kernelspec": {
      "name": "python3",
      "display_name": "Python 3"
    },
    "language_info": {
      "name": "python"
    },
    "accelerator": "GPU",
    "gpuClass": "standard"
  },
  "cells": [
    {
      "cell_type": "markdown",
      "metadata": {
        "id": "view-in-github",
        "colab_type": "text"
      },
      "source": [
        "<a href=\"https://colab.research.google.com/github/yongsun-yoon/deep-learning-paper-implementation/blob/main/03-natural-language-process/Making%20Monolingual%20Sentence%20Embeddings%20Multilingual%20using%20Knowledge%20Distillation.ipynb\" target=\"_parent\"><img src=\"https://colab.research.google.com/assets/colab-badge.svg\" alt=\"Open In Colab\"/></a>"
      ]
    },
    {
      "cell_type": "markdown",
      "source": [
        "# Making Monolingual Sentence Embeddings Multilingual using Knowledge Distillation"
      ],
      "metadata": {
        "id": "Qpj6uXzpIbGj"
      }
    },
    {
      "cell_type": "markdown",
      "source": [
        "## 0. Info"
      ],
      "metadata": {
        "id": "6ckl9PyiItNO"
      }
    },
    {
      "cell_type": "markdown",
      "source": [
        "## Paper\n",
        "* title: Making Monolingual Sentence Embeddings Multilingual using\n",
        "Knowledge Distillation\n",
        "* author: Nils Reimers and Iryna Gurevych\n",
        "* url: https://arxiv.org/abs/2004.09813\n",
        "\n",
        "\n",
        "## Feats\n",
        "* dataset: opus100 (en-ko)"
      ],
      "metadata": {
        "id": "Ym6W3nOhIxgZ"
      }
    },
    {
      "cell_type": "markdown",
      "source": [
        "## 1. Setup"
      ],
      "metadata": {
        "id": "ikkXikGAI9Q1"
      }
    },
    {
      "cell_type": "code",
      "source": [
        "!pip install -q transformers datasets"
      ],
      "metadata": {
        "id": "IhJ4-n3pJBD0"
      },
      "execution_count": null,
      "outputs": []
    },
    {
      "cell_type": "code",
      "source": [
        "import easydict\n",
        "import numpy as np\n",
        "from tqdm.auto import tqdm\n",
        "from scipy.stats import pearsonr, spearmanr\n",
        "\n",
        "import torch\n",
        "import torch.nn.functional as F\n",
        "\n",
        "from datasets import load_dataset\n",
        "from transformers import AutoTokenizer, AutoModel\n",
        "from transformers import get_scheduler"
      ],
      "metadata": {
        "id": "gM72upYOI-BQ"
      },
      "execution_count": null,
      "outputs": []
    },
    {
      "cell_type": "code",
      "source": [
        "cfg = easydict.EasyDict(\n",
        "    teacher_name = 'sentence-transformers/all-mpnet-base-v2',\n",
        "    student_name = 'xlm-roberta-base',\n",
        "\n",
        "    device = 'cuda:0',\n",
        "    max_length = 256,\n",
        "    batch_size = 16,\n",
        "\n",
        "    weight_decay = 1e-4,\n",
        "    lr = 1e-4,\n",
        "    num_warmup_steps = 500,\n",
        "    num_training_steps = 10000,\n",
        ")"
      ],
      "metadata": {
        "id": "YXd7bAy3JtVu"
      },
      "execution_count": null,
      "outputs": []
    },
    {
      "cell_type": "markdown",
      "source": [
        "## 2. Data"
      ],
      "metadata": {
        "id": "VnN7ckLFJSVl"
      }
    },
    {
      "cell_type": "code",
      "source": [
        "def get_batch(data, batch_size=32):\n",
        "    ens, kos, idxs = [], [], []\n",
        "    while len(idxs) < batch_size:\n",
        "        idx = np.random.randint(0, len(data))\n",
        "        if idx in idxs: continue\n",
        "\n",
        "        item = data[idx]['translation']\n",
        "        ens.append(item['en'])\n",
        "        kos.append(item['ko'])\n",
        "        idxs.append(idx)\n",
        "\n",
        "    return ens, kos"
      ],
      "metadata": {
        "id": "oMMyBl7bKEq3"
      },
      "execution_count": null,
      "outputs": []
    },
    {
      "cell_type": "code",
      "source": [
        "data = load_dataset('opus100', 'en-ko')\n",
        "train_data = data['train']"
      ],
      "metadata": {
        "id": "S0tVcDBdJS2v"
      },
      "execution_count": null,
      "outputs": []
    },
    {
      "cell_type": "markdown",
      "source": [
        "## 3. Model"
      ],
      "metadata": {
        "id": "tQXA89r-KwkZ"
      }
    },
    {
      "cell_type": "code",
      "source": [
        "def mean_pooling(model_output, attention_mask):\n",
        "    token_embeddings = model_output[0]\n",
        "    input_mask_expanded = attention_mask.unsqueeze(-1).expand(token_embeddings.size()).float()\n",
        "    return torch.sum(token_embeddings * input_mask_expanded, 1) / torch.clamp(input_mask_expanded.sum(1), min=1e-9)"
      ],
      "metadata": {
        "id": "hn5wJfwqKxKi"
      },
      "execution_count": null,
      "outputs": []
    },
    {
      "cell_type": "code",
      "source": [
        "teacher_tokenizer = AutoTokenizer.from_pretrained(cfg.teacher_name)\n",
        "teacher_model = AutoModel.from_pretrained(cfg.teacher_name)\n",
        "_ = teacher_model.eval().requires_grad_(False).to(cfg.device)"
      ],
      "metadata": {
        "id": "cxc0rBWAK73-"
      },
      "execution_count": null,
      "outputs": []
    },
    {
      "cell_type": "code",
      "source": [
        "student_tokenizer = AutoTokenizer.from_pretrained(cfg.student_name)\n",
        "student_model = AutoModel.from_pretrained(cfg.student_name)\n",
        "_ = student_model.train().to(cfg.device)"
      ],
      "metadata": {
        "id": "16373A9IK-bQ"
      },
      "execution_count": null,
      "outputs": []
    },
    {
      "cell_type": "code",
      "source": [
        "optimizer = torch.optim.AdamW(student_model.parameters(), lr=cfg.lr, weight_decay=cfg.weight_decay)\n",
        "scheduler = get_scheduler('cosine', optimizer, num_warmup_steps=cfg.num_warmup_steps, num_training_steps=cfg.num_training_steps)"
      ],
      "metadata": {
        "id": "w6GEGOr2LI5M"
      },
      "execution_count": null,
      "outputs": []
    },
    {
      "cell_type": "markdown",
      "source": [
        "## 4. Train"
      ],
      "metadata": {
        "id": "iTIVxPL3LgKq"
      }
    },
    {
      "cell_type": "code",
      "source": [
        "pbar = tqdm(range(1, cfg.num_training_steps+1))\n",
        "for st in pbar:\n",
        "    ens, kos = get_batch(train_data, cfg.batch_size)\n",
        "\n",
        "    teacher_ens_inputs = teacher_tokenizer(ens, max_length=cfg.max_length, padding=True, truncation=True, return_tensors='pt').to(cfg.device)\n",
        "    student_ens_inputs = student_tokenizer(ens, max_length=cfg.max_length, padding=True, truncation=True, return_tensors='pt').to(cfg.device)\n",
        "    student_kos_inputs = student_tokenizer(kos, max_length=cfg.max_length, padding=True, truncation=True, return_tensors='pt').to(cfg.device)\n",
        "\n",
        "    teacher_ens_outputs = teacher_model(**teacher_ens_inputs)\n",
        "    teacher_ens_embeds = mean_pooling(teacher_ens_outputs, teacher_ens_inputs.attention_mask)\n",
        "\n",
        "    student_ens_outputs = student_model(**student_ens_inputs)\n",
        "    student_ens_embeds = mean_pooling(student_ens_outputs, student_ens_inputs.attention_mask)\n",
        "    student_kos_outputs = student_model(**student_kos_inputs)\n",
        "    student_kos_embeds = mean_pooling(student_kos_outputs, student_kos_inputs.attention_mask)\n",
        "\n",
        "    en_loss = F.mse_loss(teacher_ens_embeds, student_ens_embeds) \n",
        "    ko_loss = F.mse_loss(teacher_ens_embeds, student_kos_embeds)\n",
        "    loss = (en_loss + ko_loss) * 10.\n",
        "    \n",
        "    optimizer.zero_grad()\n",
        "    loss.backward()\n",
        "    optimizer.step()\n",
        "    scheduler.step()\n",
        "\n",
        "    log = {'loss': loss.item(), 'en': en_loss.item(), 'ko': ko_loss.item()}\n",
        "    pbar.set_postfix(log)\n",
        "\n",
        "    if st % 1000 == 0:\n",
        "        student_tokenizer.save_pretrained('ckpt')\n",
        "        student_model.save_pretrained('ckpt')"
      ],
      "metadata": {
        "id": "qiXsgsghLkGq"
      },
      "execution_count": null,
      "outputs": []
    },
    {
      "cell_type": "markdown",
      "source": [
        "## 5. Test"
      ],
      "metadata": {
        "id": "akWooZzHNMVQ"
      }
    },
    {
      "cell_type": "code",
      "source": [
        "def mean_pooling(model_output, attention_mask):\n",
        "    token_embeddings = model_output[0]\n",
        "    input_mask_expanded = attention_mask.unsqueeze(-1).expand(token_embeddings.size()).float()\n",
        "    return torch.sum(token_embeddings * input_mask_expanded, 1) / torch.clamp(input_mask_expanded.sum(1), min=1e-9)\n",
        "\n",
        "class Dataset(torch.utils.data.Dataset):\n",
        "    def __init__(self, data):\n",
        "        self.data = data\n",
        "    \n",
        "    def __len__(self):\n",
        "        return len(self.data)\n",
        "    \n",
        "    def __getitem__(self, idx):\n",
        "        item = self.data[idx]\n",
        "        return item\n",
        "\n",
        "def collate_fn(batch, tokenizer, max_length):\n",
        "    sent1 = tokenizer([i['sentence1'] for i in batch], max_length=max_length, padding=True, truncation=True, return_tensors='pt')\n",
        "    sent2 = tokenizer([i['sentence2'] for i in batch], max_length=max_length, padding=True, truncation=True, return_tensors='pt')\n",
        "    labels = torch.tensor([i['labels']['label'] for i in batch])\n",
        "    return sent1, sent2, labels\n",
        "\n",
        "def to_device(d, device):\n",
        "    return {k:v.to(device) for k,v in d.items()}"
      ],
      "metadata": {
        "id": "6vsQyg1WNNsE"
      },
      "execution_count": null,
      "outputs": []
    },
    {
      "cell_type": "code",
      "source": [
        "data = load_dataset('klue', 'sts')['validation']\n",
        "dataset = Dataset(data)\n",
        "dataloader = torch.utils.data.DataLoader(dataset, batch_size=cfg.batch_size, shuffle=False, collate_fn=lambda x: collate_fn(x, tokenizer, cfg.max_length))"
      ],
      "metadata": {
        "id": "IW4g6ZprdxJZ"
      },
      "execution_count": null,
      "outputs": []
    },
    {
      "cell_type": "code",
      "source": [
        "tokenizer = AutoTokenizer.from_pretrained('ckpt')\n",
        "model = AutoModel.from_pretrained('ckpt')\n",
        "# tokenizer = AutoTokenizer.from_pretrained(cfg.student_name)\n",
        "# model = AutoModel.from_pretrained(cfg.student_name)\n",
        "_ = model.eval().requires_grad_(False).to(cfg.device)"
      ],
      "metadata": {
        "id": "GDaCkwdacF_B"
      },
      "execution_count": null,
      "outputs": []
    },
    {
      "cell_type": "code",
      "source": [
        "preds, labels = [], []\n",
        "\n",
        "for sent1, sent2, label in tqdm(dataloader):\n",
        "    sent1, sent2 = sent1.to(cfg.device), sent2.to(cfg.device)\n",
        "    \n",
        "    sent1_out = model(**sent1)\n",
        "    sent2_out = model(**sent2)\n",
        "    sent1_emb = mean_pooling(sent1_out, sent1.attention_mask).cpu()\n",
        "    sent2_emb = mean_pooling(sent2_out, sent2.attention_mask).cpu()\n",
        "\n",
        "    pred = F.cosine_similarity(sent1_emb, sent2_emb, dim=-1)\n",
        "    preds.append(pred)\n",
        "    labels.append(label)\n",
        "\n",
        "preds = torch.cat(preds, dim=0).numpy()\n",
        "labels = torch.cat(labels, dim=0).numpy()"
      ],
      "metadata": {
        "id": "cKvcihyScRdg"
      },
      "execution_count": null,
      "outputs": []
    },
    {
      "cell_type": "code",
      "source": [
        "pr = pearsonr(preds, labels)[0]\n",
        "spr = spearmanr(preds, labels)[0]\n",
        "\n",
        "print(f'pearsonr {pr:.3f} | spearmanr {spr:.3f}')"
      ],
      "metadata": {
        "id": "z-LZ_RuddEih"
      },
      "execution_count": null,
      "outputs": []
    }
  ]
}