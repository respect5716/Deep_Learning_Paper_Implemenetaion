{
  "cells": [
    {
      "cell_type": "markdown",
      "metadata": {
        "id": "view-in-github",
        "colab_type": "text"
      },
      "source": [
        "<a href=\"https://colab.research.google.com/github/yongsun-yoon/deep-learning-paper-implementation/blob/main/03-natural-language-process/Internet-QA-LM.ipynb\" target=\"_parent\"><img src=\"https://colab.research.google.com/assets/colab-badge.svg\" alt=\"Open In Colab\"/></a>"
      ]
    },
    {
      "cell_type": "markdown",
      "id": "0ac10134-7ae2-46c6-986f-8ef73ae416c7",
      "metadata": {
        "id": "0ac10134-7ae2-46c6-986f-8ef73ae416c7"
      },
      "source": [
        "# Internet-QA-LM"
      ]
    },
    {
      "cell_type": "markdown",
      "id": "1cbbcb3e-ae9e-486f-b79c-9713128113db",
      "metadata": {
        "id": "1cbbcb3e-ae9e-486f-b79c-9713128113db"
      },
      "source": [
        "## 0. Info"
      ]
    },
    {
      "cell_type": "markdown",
      "id": "c1269c85-1660-449b-a86b-9bdd095ba119",
      "metadata": {
        "id": "c1269c85-1660-449b-a86b-9bdd095ba119"
      },
      "source": [
        "### Paper\n",
        "* title: Internet-augmented language models through few-shot prompting for open-domain question answering\n",
        "* author: Angeliki Lazaridou et al.\n",
        "* url: https://arxiv.org/abs/2203.05115\n",
        "\n",
        "### Features\n",
        "* pretrained: facebook/opt-1.3b\n",
        "* retriever: tfidf -> sentence embedding model\n",
        "\n",
        "### Reference\n",
        "* ref1"
      ]
    },
    {
      "cell_type": "markdown",
      "id": "3cf875ff-298b-4241-9f61-079893081798",
      "metadata": {
        "id": "3cf875ff-298b-4241-9f61-079893081798"
      },
      "source": [
        "## 1. Setup"
      ]
    },
    {
      "cell_type": "code",
      "execution_count": null,
      "id": "fa5e6cb9-5f10-4863-ba0f-4218ba5830d0",
      "metadata": {
        "id": "fa5e6cb9-5f10-4863-ba0f-4218ba5830d0"
      },
      "outputs": [],
      "source": [
        "import easydict\n",
        "import requests\n",
        "from bs4 import BeautifulSoup\n",
        "from newspaper import Article\n",
        "from sentence_splitter import SentenceSplitter, split_text_into_sentences\n",
        "\n",
        "import torch\n",
        "import torch.nn.functional as F\n",
        "from transformers import AutoTokenizer, AutoModel, AutoModelForCausalLM, StoppingCriteriaList, StoppingCriteria"
      ]
    },
    {
      "cell_type": "code",
      "execution_count": null,
      "id": "f604751b-6099-44e7-aaf2-086f00d6e6d7",
      "metadata": {
        "id": "f604751b-6099-44e7-aaf2-086f00d6e6d7"
      },
      "outputs": [],
      "source": [
        "cfg = easydict.EasyDict(\n",
        "    generator = 'facebook/opt-1.3b',\n",
        "    encoder = 'sentence-transformers/all-MiniLM-L6-v2',\n",
        "    device = 'cuda:2'\n",
        ")"
      ]
    },
    {
      "cell_type": "markdown",
      "id": "ba9b3233-a019-4902-949b-020a23f27b90",
      "metadata": {
        "id": "ba9b3233-a019-4902-949b-020a23f27b90"
      },
      "source": [
        "## 2. Search"
      ]
    },
    {
      "cell_type": "code",
      "execution_count": null,
      "id": "9b66af66-6edc-4fef-862f-360e3f39df13",
      "metadata": {
        "id": "9b66af66-6edc-4fef-862f-360e3f39df13"
      },
      "outputs": [],
      "source": [
        "HEADERS = {'User-Agent': 'Mozilla/5.0 (Macintosh; Intel Mac OS X 10_11_6) AppleWebKit/537.36 (KHTML, like Gecko) Chrome/61.0.3163.100 Safari/537.36'}\n",
        "\n",
        "def search(query, num_results=20, maxpage=10):\n",
        "    query = query.replace(' ', '+')\n",
        "\n",
        "    page = 0\n",
        "    results = []\n",
        "    while len(results) < num_results:\n",
        "        query_url = f'https://www.google.com/search?q={query}&start={page*10}'\n",
        "    \n",
        "        res = requests.get(query_url, headers=HEADERS)\n",
        "        html = res.text\n",
        "        soup = BeautifulSoup(html, 'html.parser')\n",
        "    \n",
        "        anchors = soup.select('a:has(h3)')\n",
        "        urls = [a.get('href') for a in anchors]\n",
        "        urls = [u for u in urls if u.startswith('https')]\n",
        "        \n",
        "        results += urls\n",
        "        page += 1\n",
        "        \n",
        "    results = results[:num_results]\n",
        "    return results\n",
        "\n",
        "\n",
        "def parse(url, num_sentences=6):\n",
        "    try:\n",
        "        article = Article(url)\n",
        "        article.download()\n",
        "        article.parse()\n",
        "    except:\n",
        "        return []\n",
        "    \n",
        "    sentences = split_text_into_sentences(article.text, language='en')\n",
        "    \n",
        "    paragraphs = []\n",
        "    buffer = []\n",
        "    for sent in sentences:\n",
        "        if sent:\n",
        "            buffer.append(sent)\n",
        "        if len(buffer) == num_sentences:\n",
        "            paragraphs.append(' '.join(buffer))\n",
        "            buffer = []\n",
        "    paragraphs.append(' '.join(buffer))\n",
        "    \n",
        "    return paragraphs\n",
        "\n",
        "def mean_pooling(model_output, attention_mask):\n",
        "    token_embeddings = model_output[0] #First element of model_output contains all token embeddings\n",
        "    input_mask_expanded = attention_mask.unsqueeze(-1).expand(token_embeddings.size()).float()\n",
        "    return torch.sum(token_embeddings * input_mask_expanded, 1) / torch.clamp(input_mask_expanded.sum(1), min=1e-9)"
      ]
    },
    {
      "cell_type": "code",
      "execution_count": null,
      "id": "1aeb2ff5-a0d1-4074-865b-6a8ca6c4cc38",
      "metadata": {
        "id": "1aeb2ff5-a0d1-4074-865b-6a8ca6c4cc38"
      },
      "outputs": [],
      "source": [
        "encoder_tokenizer = AutoTokenizer.from_pretrained(cfg.encoder)\n",
        "encoder = AutoModel.from_pretrained(cfg.encoder)\n",
        "_ = encoder.eval().requires_grad_(False)"
      ]
    },
    {
      "cell_type": "code",
      "execution_count": null,
      "id": "2d829e4b-b56b-4dc2-aa08-95fc5d982048",
      "metadata": {
        "id": "2d829e4b-b56b-4dc2-aa08-95fc5d982048"
      },
      "outputs": [],
      "source": [
        "question = \"where is the best place for date in NY\"\n",
        "urls = search(question, num_results=5)"
      ]
    },
    {
      "cell_type": "code",
      "execution_count": null,
      "id": "204b6b6a-dc15-41d6-a04f-17bb3a317160",
      "metadata": {
        "id": "204b6b6a-dc15-41d6-a04f-17bb3a317160"
      },
      "outputs": [],
      "source": [
        "paragraphs = []\n",
        "for url in urls:\n",
        "    paragraphs += parse(url, num_sentences=5)"
      ]
    },
    {
      "cell_type": "code",
      "execution_count": null,
      "id": "75063a5d-b1d4-4200-a0ba-b5867e5bc42e",
      "metadata": {
        "id": "75063a5d-b1d4-4200-a0ba-b5867e5bc42e"
      },
      "outputs": [],
      "source": [
        "inputs = encoder_tokenizer([question] + paragraphs, padding=True, truncation=True, max_length=512, return_tensors='pt')\n",
        "model_output = encoder(**inputs)\n",
        "embeds = mean_pooling(model_output, inputs.attention_mask)\n",
        "embeds = F.normalize(embeds, p=2, dim=1)\n",
        "\n",
        "query_embeds, doc_embeds = embeds[:1], embeds[1:]"
      ]
    },
    {
      "cell_type": "code",
      "execution_count": null,
      "id": "2be6bbaf-3aef-4902-a0d7-030e7afbfdf2",
      "metadata": {
        "id": "2be6bbaf-3aef-4902-a0d7-030e7afbfdf2"
      },
      "outputs": [],
      "source": [
        "score = query_embeds @ doc_embeds.T\n",
        "topk_indices = torch.topk(score, k=5).indices[0].tolist()\n",
        "topk_paragraphs = [paragraphs[i] for i in topk_indices]"
      ]
    },
    {
      "cell_type": "markdown",
      "id": "e4f69ae5-173d-49a9-84d3-d36d4d5e89c5",
      "metadata": {
        "id": "e4f69ae5-173d-49a9-84d3-d36d4d5e89c5"
      },
      "source": [
        "## 3. QA"
      ]
    },
    {
      "cell_type": "code",
      "execution_count": null,
      "id": "c0e0f484-8e56-4866-9717-6c4b164e5b30",
      "metadata": {
        "id": "c0e0f484-8e56-4866-9717-6c4b164e5b30"
      },
      "outputs": [],
      "source": [
        "PROMPT = \"\"\"Look at the evidence and answer the question\n",
        "Evidence: Top 20 rankings as of 16 October 2017 Rank Change Team Points Germany 1631 Brazil 1619 Portugal 1446 Argentina 1445 5 Belgium 1333 6 Poland 1323 7 France 1226 8 Spain 1218 9 Chile 1173 10 Peru 1160 11 Switzerland 1134 12 England 1116 13 Colombia 1095 14 Wales 1072 15 Italy 1066 16 Mexico 1060 17 Uruguay 1034 18 Croatia 1013 19 7 Denmark 1001 20 9 Netherlands 931 * Change from 14 September 2017 Complete rankings at FIFA.com\n",
        "Question: who has been ranked no. 1 in the latest football rankings announced by fifa\n",
        "Answer: Germany\n",
        "\n",
        "Evidence: \"Your Love\" is a song by the English rock band the Outfield, taken from their debut album Play Deep (1985). The song was penned by the band's guitarist John Spinks.\n",
        "Question: who sings i just want to use your love tonight\n",
        "Answer: English rock band the Outfield\n",
        "\n",
        "Evidence: Principal photography began on May 20, 2016, in Welch, West Virginia.\n",
        "Question: where was the movie the glass castle filmed\n",
        "Answer: in Welch, West Virginia\n",
        "\n",
        "Evidence: No. Name Field Affiliation Date of Appointment Date of Retirement Roopa Ganguly Art Bharatiya Janata Party 04-Oct-2016 03-Oct-2022 Sambhaji Raje Social work Bharatiya Janata Party 07-Jun-2016 03-May-2022 Suresh Gopi Art Bharatiya Janata Party 25-Apr-2016 24-Apr-2022 Subramanian Swamy Economics Bharatiya Janata Party 25-Apr-2016 24-Apr-2022 5 Narendra Jadhav Economics Nominated 25-Apr-2016 24-Apr-2022 6 Mary Kom Sport Nominated 25-Apr-2016 24-Apr-2022 7 Swapan Dasgupta Journalism Nominated 25-Apr-2016 24-Apr-2022 8 K.T.S. Tulsi Law Nominated 25-Feb-2014 24-Feb-2020 9 K. Parasaran Law Nominated 09-Jun-2012 28-Jun-2018 10 Rekha Art Nominated 27-Apr-2012 26-Apr-2018 11 Sachin Tendulkar Social service Nominated 27-Apr-2012 26-Apr-2018 12 Anu Aga Business Nominated 27-Apr-2012 26-Apr-2018\n",
        "Question: who was the first lady nominated member of the rajya sabha\n",
        "Answer: Mary Kom\n",
        "\n",
        "Evidence: The McChicken is a chicken sandwich sold by the international fast-food chain McDonald's. The sandwich consists of a toasted wheat bun, a breaded chicken patty, shredded lettuce, and mayonnaise.\n",
        "Question: what is on a mcchicken sandwich from mcdonalds\n",
        "Answer: a breaded chicken patty\n",
        "\n",
        "Evidence: Life of Pi is a Canadian fantasy adventure novel by Yann Martel published in 2001. The protagonist is Piscine Molitor \"Pi\" Patel, an Indian boy from Pondicherry who explores issues of spirituality and practicality from an early age. He survives 227 days after a shipwreck while stranded on a lifeboat in the Pacific Ocean with a Bengal tiger named Richard Parker.\n",
        "Question: what is the tigers name in life of pi\n",
        "Answer: Richard Parker\n",
        "\n",
        "Evidence: Malware, short for malicious software, is an umbrella term used to refer to a variety of forms of harmful or intrusive software, including computer viruses, worms, Trojan horses, ransomware, spyware, adware, scareware, and other malicious programs. It can take the form of executable code, scripts, active content, and other software. Malware is defined by its malicious intent, acting against the requirements of the computer user -- and so does not include software that causes unintentional harm due to some deficiency.\n",
        "Question: the general term for software that is designed to damage disable or steal data is\n",
        "Answer: Malware\n",
        "\n",
        "Evidence: Mum Genre Sitcom Created by Stefan Golaszewski Written by Stefan Golaszewski Directed by Richard Laxton Stefan Golaszewski Starring Lesley Manville Peter Mullan Sam Swainsbury Lisa McGrillis Opening theme Cups by Lulu and the Lampshades Country of origin United Kingdom Original language (s) English No. of series No. of episodes 12 (to 27 March 2018) Production Running time 30 minutes Production company (s) Big Talk Productions Distributor ITV Studios Release Original network BBC Two (2016-present) BBC Two HD (2016-present) Picture format 16: 9 1080i Audio format Stereo Original release 13 May 2016 (2016-05-13) -- present\n",
        "Question: who sings the theme tune to mum on bbc2\n",
        "Answer: Lulu and the Lampshades\n",
        "\n",
        "Evidence: The Chess World Cup 2017 was a 128-player single-elimination chess tournament, held in Tbilisi, Georgia, from 2 to 27 September 2017. It was won by Armenian grandmaster Levon Aronian. This was the second time he had won the Chess World Cup, 12 years after his first win in 2005.\n",
        "Question: where was the world chess tournament 2017 held\n",
        "Answer: Tbilisi, Georgia\n",
        "\n",
        "Evidence: T.J. Miller as Randy Kevin Michael Richardson as Rosie, others David Koechner as Robert \"Bob Pogo\" Pogrohvich, Frank's obese, chainsmoking boss. Kevin Farley as Babe, Carl, others Gary Cole as Rodger Dunbarton, the owner and founder of the airlines where Frank and his co-workers work. Joe Buck as Lou Gagliardi, others John DiMaggio as Scoop Dunbarton, Roger Dunbarton's racist and moronic nephew. Allison Janney as Henrietta Van Horne T.J. Miller as Randy Michael K. Williams as Smoky\n",
        "Question: who voices randy in f is for family\n",
        "Answer: T.J. Miller\"\"\""
      ]
    },
    {
      "cell_type": "code",
      "execution_count": null,
      "id": "4668fa24-ba3b-4e0c-b251-44cff97df733",
      "metadata": {
        "id": "4668fa24-ba3b-4e0c-b251-44cff97df733"
      },
      "outputs": [],
      "source": [
        "def create_prompt(evidence, question):\n",
        "    prompt = f'{PROMPT}\\n\\nEvidence: {evidence}\\nQuestion: {question}\\nAnswer:'\n",
        "    return prompt\n",
        "\n",
        "def clean_answer(answer, input_text):\n",
        "    return answer.split(input_text)[-1].split('\\n')[0].strip()"
      ]
    },
    {
      "cell_type": "code",
      "execution_count": null,
      "id": "9f517bad-90ff-4fbc-a77c-b29e41a2e656",
      "metadata": {
        "tags": [],
        "id": "9f517bad-90ff-4fbc-a77c-b29e41a2e656"
      },
      "outputs": [],
      "source": [
        "generator_tokenizer = AutoTokenizer.from_pretrained(cfg.generator, padding_side='left')\n",
        "generator = AutoModelForCausalLM.from_pretrained(cfg.generator)\n",
        "_ = generator.eval().requires_grad_(False).to(cfg.device)"
      ]
    },
    {
      "cell_type": "code",
      "execution_count": null,
      "id": "34c3afa8-0992-4edf-9782-73838982b5e6",
      "metadata": {
        "id": "34c3afa8-0992-4edf-9782-73838982b5e6"
      },
      "outputs": [],
      "source": [
        "input_texts = [create_prompt(evidence, question) for evidence in topk_paragraphs]\n",
        "inputs = generator_tokenizer(input_texts, padding=True, return_tensors='pt').input_ids.to(cfg.device)"
      ]
    },
    {
      "cell_type": "code",
      "execution_count": null,
      "id": "6c1e79e6-5088-4224-94bb-6d5241cc46ab",
      "metadata": {
        "id": "6c1e79e6-5088-4224-94bb-6d5241cc46ab"
      },
      "outputs": [],
      "source": [
        "outputs = generator.generate(inputs, do_sample=True, top_p=0.9, temperature=1., max_new_tokens=32, num_return_sequences=1, use_cache=True)\n",
        "outputs = generator_tokenizer.batch_decode(outputs, skip_special_tokens=True)"
      ]
    },
    {
      "cell_type": "code",
      "execution_count": null,
      "id": "42fc1001-fecd-4f85-93ca-844459869893",
      "metadata": {
        "id": "42fc1001-fecd-4f85-93ca-844459869893"
      },
      "outputs": [],
      "source": [
        "answers = [clean_answer(o, i) for i, o in zip(input_texts, outputs)]\n",
        "answers"
      ]
    },
    {
      "cell_type": "code",
      "execution_count": null,
      "id": "8be47a31-10bd-439e-97e7-8788c9a7518f",
      "metadata": {
        "id": "8be47a31-10bd-439e-97e7-8788c9a7518f"
      },
      "outputs": [],
      "source": []
    }
  ],
  "metadata": {
    "kernelspec": {
      "display_name": "Python 3 (ipykernel)",
      "language": "python",
      "name": "python3"
    },
    "language_info": {
      "codemirror_mode": {
        "name": "ipython",
        "version": 3
      },
      "file_extension": ".py",
      "mimetype": "text/x-python",
      "name": "python",
      "nbconvert_exporter": "python",
      "pygments_lexer": "ipython3",
      "version": "3.7.11"
    },
    "colab": {
      "provenance": [],
      "collapsed_sections": [],
      "include_colab_link": true
    }
  },
  "nbformat": 4,
  "nbformat_minor": 5
}