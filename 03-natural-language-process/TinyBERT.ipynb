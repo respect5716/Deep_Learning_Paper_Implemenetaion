{
  "nbformat": 4,
  "nbformat_minor": 0,
  "metadata": {
    "colab": {
      "name": "TinyBERT",
      "provenance": [],
      "collapsed_sections": [],
      "mount_file_id": "17WfLWEJ8rfBYS-tJYTFgfE1Hg1vZ_PEC",
      "authorship_tag": "ABX9TyNL/+/HCgCCB8Fyp+vlCMwb",
      "include_colab_link": true
    },
    "kernelspec": {
      "name": "python3",
      "display_name": "Python 3"
    },
    "language_info": {
      "name": "python"
    },
    "accelerator": "GPU",
    "widgets": {
      "application/vnd.jupyter.widget-state+json": {
        "d9d3acdcfb9842a299bd6fca690dbc51": {
          "model_module": "@jupyter-widgets/controls",
          "model_name": "HBoxModel",
          "model_module_version": "1.5.0",
          "state": {
            "_dom_classes": [],
            "_model_module": "@jupyter-widgets/controls",
            "_model_module_version": "1.5.0",
            "_model_name": "HBoxModel",
            "_view_count": null,
            "_view_module": "@jupyter-widgets/controls",
            "_view_module_version": "1.5.0",
            "_view_name": "HBoxView",
            "box_style": "",
            "children": [
              "IPY_MODEL_cca9914479994ca48f60740c12b72771",
              "IPY_MODEL_e2b1dad8198f453aacab6c32ca160341",
              "IPY_MODEL_a4802bcf20c34c36b2b44151766f83b4"
            ],
            "layout": "IPY_MODEL_93a9d95a043d4b3db426ef7d7bc3676f"
          }
        },
        "cca9914479994ca48f60740c12b72771": {
          "model_module": "@jupyter-widgets/controls",
          "model_name": "HTMLModel",
          "model_module_version": "1.5.0",
          "state": {
            "_dom_classes": [],
            "_model_module": "@jupyter-widgets/controls",
            "_model_module_version": "1.5.0",
            "_model_name": "HTMLModel",
            "_view_count": null,
            "_view_module": "@jupyter-widgets/controls",
            "_view_module_version": "1.5.0",
            "_view_name": "HTMLView",
            "description": "",
            "description_tooltip": null,
            "layout": "IPY_MODEL_4a82a8b38a4442508f6525f6d2e8c2f0",
            "placeholder": "​",
            "style": "IPY_MODEL_f661664057ca4f02bb7a470a71abe266",
            "value": "100%"
          }
        },
        "e2b1dad8198f453aacab6c32ca160341": {
          "model_module": "@jupyter-widgets/controls",
          "model_name": "FloatProgressModel",
          "model_module_version": "1.5.0",
          "state": {
            "_dom_classes": [],
            "_model_module": "@jupyter-widgets/controls",
            "_model_module_version": "1.5.0",
            "_model_name": "FloatProgressModel",
            "_view_count": null,
            "_view_module": "@jupyter-widgets/controls",
            "_view_module_version": "1.5.0",
            "_view_name": "ProgressView",
            "bar_style": "success",
            "description": "",
            "description_tooltip": null,
            "layout": "IPY_MODEL_9364e3495e0f4107962363ef0d325122",
            "max": 1,
            "min": 0,
            "orientation": "horizontal",
            "style": "IPY_MODEL_8d391426fa91497585b67d18aff39406",
            "value": 1
          }
        },
        "a4802bcf20c34c36b2b44151766f83b4": {
          "model_module": "@jupyter-widgets/controls",
          "model_name": "HTMLModel",
          "model_module_version": "1.5.0",
          "state": {
            "_dom_classes": [],
            "_model_module": "@jupyter-widgets/controls",
            "_model_module_version": "1.5.0",
            "_model_name": "HTMLModel",
            "_view_count": null,
            "_view_module": "@jupyter-widgets/controls",
            "_view_module_version": "1.5.0",
            "_view_name": "HTMLView",
            "description": "",
            "description_tooltip": null,
            "layout": "IPY_MODEL_42c89ee3e96b4b62b77c4017ed036438",
            "placeholder": "​",
            "style": "IPY_MODEL_e1858b3b65774cbe9c572bbcf40a3846",
            "value": " 1/1 [00:01&lt;00:00,  1.84s/it]"
          }
        },
        "93a9d95a043d4b3db426ef7d7bc3676f": {
          "model_module": "@jupyter-widgets/base",
          "model_name": "LayoutModel",
          "model_module_version": "1.2.0",
          "state": {
            "_model_module": "@jupyter-widgets/base",
            "_model_module_version": "1.2.0",
            "_model_name": "LayoutModel",
            "_view_count": null,
            "_view_module": "@jupyter-widgets/base",
            "_view_module_version": "1.2.0",
            "_view_name": "LayoutView",
            "align_content": null,
            "align_items": null,
            "align_self": null,
            "border": null,
            "bottom": null,
            "display": null,
            "flex": null,
            "flex_flow": null,
            "grid_area": null,
            "grid_auto_columns": null,
            "grid_auto_flow": null,
            "grid_auto_rows": null,
            "grid_column": null,
            "grid_gap": null,
            "grid_row": null,
            "grid_template_areas": null,
            "grid_template_columns": null,
            "grid_template_rows": null,
            "height": null,
            "justify_content": null,
            "justify_items": null,
            "left": null,
            "margin": null,
            "max_height": null,
            "max_width": null,
            "min_height": null,
            "min_width": null,
            "object_fit": null,
            "object_position": null,
            "order": null,
            "overflow": null,
            "overflow_x": null,
            "overflow_y": null,
            "padding": null,
            "right": null,
            "top": null,
            "visibility": null,
            "width": null
          }
        },
        "4a82a8b38a4442508f6525f6d2e8c2f0": {
          "model_module": "@jupyter-widgets/base",
          "model_name": "LayoutModel",
          "model_module_version": "1.2.0",
          "state": {
            "_model_module": "@jupyter-widgets/base",
            "_model_module_version": "1.2.0",
            "_model_name": "LayoutModel",
            "_view_count": null,
            "_view_module": "@jupyter-widgets/base",
            "_view_module_version": "1.2.0",
            "_view_name": "LayoutView",
            "align_content": null,
            "align_items": null,
            "align_self": null,
            "border": null,
            "bottom": null,
            "display": null,
            "flex": null,
            "flex_flow": null,
            "grid_area": null,
            "grid_auto_columns": null,
            "grid_auto_flow": null,
            "grid_auto_rows": null,
            "grid_column": null,
            "grid_gap": null,
            "grid_row": null,
            "grid_template_areas": null,
            "grid_template_columns": null,
            "grid_template_rows": null,
            "height": null,
            "justify_content": null,
            "justify_items": null,
            "left": null,
            "margin": null,
            "max_height": null,
            "max_width": null,
            "min_height": null,
            "min_width": null,
            "object_fit": null,
            "object_position": null,
            "order": null,
            "overflow": null,
            "overflow_x": null,
            "overflow_y": null,
            "padding": null,
            "right": null,
            "top": null,
            "visibility": null,
            "width": null
          }
        },
        "f661664057ca4f02bb7a470a71abe266": {
          "model_module": "@jupyter-widgets/controls",
          "model_name": "DescriptionStyleModel",
          "model_module_version": "1.5.0",
          "state": {
            "_model_module": "@jupyter-widgets/controls",
            "_model_module_version": "1.5.0",
            "_model_name": "DescriptionStyleModel",
            "_view_count": null,
            "_view_module": "@jupyter-widgets/base",
            "_view_module_version": "1.2.0",
            "_view_name": "StyleView",
            "description_width": ""
          }
        },
        "9364e3495e0f4107962363ef0d325122": {
          "model_module": "@jupyter-widgets/base",
          "model_name": "LayoutModel",
          "model_module_version": "1.2.0",
          "state": {
            "_model_module": "@jupyter-widgets/base",
            "_model_module_version": "1.2.0",
            "_model_name": "LayoutModel",
            "_view_count": null,
            "_view_module": "@jupyter-widgets/base",
            "_view_module_version": "1.2.0",
            "_view_name": "LayoutView",
            "align_content": null,
            "align_items": null,
            "align_self": null,
            "border": null,
            "bottom": null,
            "display": null,
            "flex": null,
            "flex_flow": null,
            "grid_area": null,
            "grid_auto_columns": null,
            "grid_auto_flow": null,
            "grid_auto_rows": null,
            "grid_column": null,
            "grid_gap": null,
            "grid_row": null,
            "grid_template_areas": null,
            "grid_template_columns": null,
            "grid_template_rows": null,
            "height": null,
            "justify_content": null,
            "justify_items": null,
            "left": null,
            "margin": null,
            "max_height": null,
            "max_width": null,
            "min_height": null,
            "min_width": null,
            "object_fit": null,
            "object_position": null,
            "order": null,
            "overflow": null,
            "overflow_x": null,
            "overflow_y": null,
            "padding": null,
            "right": null,
            "top": null,
            "visibility": null,
            "width": null
          }
        },
        "8d391426fa91497585b67d18aff39406": {
          "model_module": "@jupyter-widgets/controls",
          "model_name": "ProgressStyleModel",
          "model_module_version": "1.5.0",
          "state": {
            "_model_module": "@jupyter-widgets/controls",
            "_model_module_version": "1.5.0",
            "_model_name": "ProgressStyleModel",
            "_view_count": null,
            "_view_module": "@jupyter-widgets/base",
            "_view_module_version": "1.2.0",
            "_view_name": "StyleView",
            "bar_color": null,
            "description_width": ""
          }
        },
        "42c89ee3e96b4b62b77c4017ed036438": {
          "model_module": "@jupyter-widgets/base",
          "model_name": "LayoutModel",
          "model_module_version": "1.2.0",
          "state": {
            "_model_module": "@jupyter-widgets/base",
            "_model_module_version": "1.2.0",
            "_model_name": "LayoutModel",
            "_view_count": null,
            "_view_module": "@jupyter-widgets/base",
            "_view_module_version": "1.2.0",
            "_view_name": "LayoutView",
            "align_content": null,
            "align_items": null,
            "align_self": null,
            "border": null,
            "bottom": null,
            "display": null,
            "flex": null,
            "flex_flow": null,
            "grid_area": null,
            "grid_auto_columns": null,
            "grid_auto_flow": null,
            "grid_auto_rows": null,
            "grid_column": null,
            "grid_gap": null,
            "grid_row": null,
            "grid_template_areas": null,
            "grid_template_columns": null,
            "grid_template_rows": null,
            "height": null,
            "justify_content": null,
            "justify_items": null,
            "left": null,
            "margin": null,
            "max_height": null,
            "max_width": null,
            "min_height": null,
            "min_width": null,
            "object_fit": null,
            "object_position": null,
            "order": null,
            "overflow": null,
            "overflow_x": null,
            "overflow_y": null,
            "padding": null,
            "right": null,
            "top": null,
            "visibility": null,
            "width": null
          }
        },
        "e1858b3b65774cbe9c572bbcf40a3846": {
          "model_module": "@jupyter-widgets/controls",
          "model_name": "DescriptionStyleModel",
          "model_module_version": "1.5.0",
          "state": {
            "_model_module": "@jupyter-widgets/controls",
            "_model_module_version": "1.5.0",
            "_model_name": "DescriptionStyleModel",
            "_view_count": null,
            "_view_module": "@jupyter-widgets/base",
            "_view_module_version": "1.2.0",
            "_view_name": "StyleView",
            "description_width": ""
          }
        },
        "21f12d2202c5445fbd55b05b922aec5e": {
          "model_module": "@jupyter-widgets/controls",
          "model_name": "HBoxModel",
          "model_module_version": "1.5.0",
          "state": {
            "_dom_classes": [],
            "_model_module": "@jupyter-widgets/controls",
            "_model_module_version": "1.5.0",
            "_model_name": "HBoxModel",
            "_view_count": null,
            "_view_module": "@jupyter-widgets/controls",
            "_view_module_version": "1.5.0",
            "_view_name": "HBoxView",
            "box_style": "",
            "children": [
              "IPY_MODEL_82bb68bf264a4f768ce8aa2e997eee9d",
              "IPY_MODEL_eb31827980a149f09428f58046dddf9b",
              "IPY_MODEL_5971ab707f194cf79c0a091539d29f5b"
            ],
            "layout": "IPY_MODEL_4cf47ede7b724ebfa178fc8710f5ff38"
          }
        },
        "82bb68bf264a4f768ce8aa2e997eee9d": {
          "model_module": "@jupyter-widgets/controls",
          "model_name": "HTMLModel",
          "model_module_version": "1.5.0",
          "state": {
            "_dom_classes": [],
            "_model_module": "@jupyter-widgets/controls",
            "_model_module_version": "1.5.0",
            "_model_name": "HTMLModel",
            "_view_count": null,
            "_view_module": "@jupyter-widgets/controls",
            "_view_module_version": "1.5.0",
            "_view_name": "HTMLView",
            "description": "",
            "description_tooltip": null,
            "layout": "IPY_MODEL_3e195075819d45c38b7002bd9fa1c620",
            "placeholder": "​",
            "style": "IPY_MODEL_b2bcb59709954b8b8d8ee09466d90d7c",
            "value": "Epoch 0:   8%"
          }
        },
        "eb31827980a149f09428f58046dddf9b": {
          "model_module": "@jupyter-widgets/controls",
          "model_name": "FloatProgressModel",
          "model_module_version": "1.5.0",
          "state": {
            "_dom_classes": [],
            "_model_module": "@jupyter-widgets/controls",
            "_model_module_version": "1.5.0",
            "_model_name": "FloatProgressModel",
            "_view_count": null,
            "_view_module": "@jupyter-widgets/controls",
            "_view_module_version": "1.5.0",
            "_view_name": "ProgressView",
            "bar_style": "",
            "description": "",
            "description_tooltip": null,
            "layout": "IPY_MODEL_598b378196ab44c18b5f1af563032cd8",
            "max": 141302,
            "min": 0,
            "orientation": "horizontal",
            "style": "IPY_MODEL_13a9e73ee29946d088771ad5d4154df8",
            "value": 11140
          }
        },
        "5971ab707f194cf79c0a091539d29f5b": {
          "model_module": "@jupyter-widgets/controls",
          "model_name": "HTMLModel",
          "model_module_version": "1.5.0",
          "state": {
            "_dom_classes": [],
            "_model_module": "@jupyter-widgets/controls",
            "_model_module_version": "1.5.0",
            "_model_name": "HTMLModel",
            "_view_count": null,
            "_view_module": "@jupyter-widgets/controls",
            "_view_module_version": "1.5.0",
            "_view_name": "HTMLView",
            "description": "",
            "description_tooltip": null,
            "layout": "IPY_MODEL_7fef979dbc49404c8abdd38f08820cd9",
            "placeholder": "​",
            "style": "IPY_MODEL_6de334d789d246c48741c62a51587144",
            "value": " 11140/141302 [21:06&lt;4:06:34,  8.80it/s, loss=12.6, v_num=53y4, train/hidden_loss_step=1.540, train/attn_loss_step=4.450, train/loss_step=12.00]"
          }
        },
        "4cf47ede7b724ebfa178fc8710f5ff38": {
          "model_module": "@jupyter-widgets/base",
          "model_name": "LayoutModel",
          "model_module_version": "1.2.0",
          "state": {
            "_model_module": "@jupyter-widgets/base",
            "_model_module_version": "1.2.0",
            "_model_name": "LayoutModel",
            "_view_count": null,
            "_view_module": "@jupyter-widgets/base",
            "_view_module_version": "1.2.0",
            "_view_name": "LayoutView",
            "align_content": null,
            "align_items": null,
            "align_self": null,
            "border": null,
            "bottom": null,
            "display": "inline-flex",
            "flex": null,
            "flex_flow": "row wrap",
            "grid_area": null,
            "grid_auto_columns": null,
            "grid_auto_flow": null,
            "grid_auto_rows": null,
            "grid_column": null,
            "grid_gap": null,
            "grid_row": null,
            "grid_template_areas": null,
            "grid_template_columns": null,
            "grid_template_rows": null,
            "height": null,
            "justify_content": null,
            "justify_items": null,
            "left": null,
            "margin": null,
            "max_height": null,
            "max_width": null,
            "min_height": null,
            "min_width": null,
            "object_fit": null,
            "object_position": null,
            "order": null,
            "overflow": null,
            "overflow_x": null,
            "overflow_y": null,
            "padding": null,
            "right": null,
            "top": null,
            "visibility": null,
            "width": "100%"
          }
        },
        "3e195075819d45c38b7002bd9fa1c620": {
          "model_module": "@jupyter-widgets/base",
          "model_name": "LayoutModel",
          "model_module_version": "1.2.0",
          "state": {
            "_model_module": "@jupyter-widgets/base",
            "_model_module_version": "1.2.0",
            "_model_name": "LayoutModel",
            "_view_count": null,
            "_view_module": "@jupyter-widgets/base",
            "_view_module_version": "1.2.0",
            "_view_name": "LayoutView",
            "align_content": null,
            "align_items": null,
            "align_self": null,
            "border": null,
            "bottom": null,
            "display": null,
            "flex": null,
            "flex_flow": null,
            "grid_area": null,
            "grid_auto_columns": null,
            "grid_auto_flow": null,
            "grid_auto_rows": null,
            "grid_column": null,
            "grid_gap": null,
            "grid_row": null,
            "grid_template_areas": null,
            "grid_template_columns": null,
            "grid_template_rows": null,
            "height": null,
            "justify_content": null,
            "justify_items": null,
            "left": null,
            "margin": null,
            "max_height": null,
            "max_width": null,
            "min_height": null,
            "min_width": null,
            "object_fit": null,
            "object_position": null,
            "order": null,
            "overflow": null,
            "overflow_x": null,
            "overflow_y": null,
            "padding": null,
            "right": null,
            "top": null,
            "visibility": null,
            "width": null
          }
        },
        "b2bcb59709954b8b8d8ee09466d90d7c": {
          "model_module": "@jupyter-widgets/controls",
          "model_name": "DescriptionStyleModel",
          "model_module_version": "1.5.0",
          "state": {
            "_model_module": "@jupyter-widgets/controls",
            "_model_module_version": "1.5.0",
            "_model_name": "DescriptionStyleModel",
            "_view_count": null,
            "_view_module": "@jupyter-widgets/base",
            "_view_module_version": "1.2.0",
            "_view_name": "StyleView",
            "description_width": ""
          }
        },
        "598b378196ab44c18b5f1af563032cd8": {
          "model_module": "@jupyter-widgets/base",
          "model_name": "LayoutModel",
          "model_module_version": "1.2.0",
          "state": {
            "_model_module": "@jupyter-widgets/base",
            "_model_module_version": "1.2.0",
            "_model_name": "LayoutModel",
            "_view_count": null,
            "_view_module": "@jupyter-widgets/base",
            "_view_module_version": "1.2.0",
            "_view_name": "LayoutView",
            "align_content": null,
            "align_items": null,
            "align_self": null,
            "border": null,
            "bottom": null,
            "display": null,
            "flex": "2",
            "flex_flow": null,
            "grid_area": null,
            "grid_auto_columns": null,
            "grid_auto_flow": null,
            "grid_auto_rows": null,
            "grid_column": null,
            "grid_gap": null,
            "grid_row": null,
            "grid_template_areas": null,
            "grid_template_columns": null,
            "grid_template_rows": null,
            "height": null,
            "justify_content": null,
            "justify_items": null,
            "left": null,
            "margin": null,
            "max_height": null,
            "max_width": null,
            "min_height": null,
            "min_width": null,
            "object_fit": null,
            "object_position": null,
            "order": null,
            "overflow": null,
            "overflow_x": null,
            "overflow_y": null,
            "padding": null,
            "right": null,
            "top": null,
            "visibility": null,
            "width": null
          }
        },
        "13a9e73ee29946d088771ad5d4154df8": {
          "model_module": "@jupyter-widgets/controls",
          "model_name": "ProgressStyleModel",
          "model_module_version": "1.5.0",
          "state": {
            "_model_module": "@jupyter-widgets/controls",
            "_model_module_version": "1.5.0",
            "_model_name": "ProgressStyleModel",
            "_view_count": null,
            "_view_module": "@jupyter-widgets/base",
            "_view_module_version": "1.2.0",
            "_view_name": "StyleView",
            "bar_color": null,
            "description_width": ""
          }
        },
        "7fef979dbc49404c8abdd38f08820cd9": {
          "model_module": "@jupyter-widgets/base",
          "model_name": "LayoutModel",
          "model_module_version": "1.2.0",
          "state": {
            "_model_module": "@jupyter-widgets/base",
            "_model_module_version": "1.2.0",
            "_model_name": "LayoutModel",
            "_view_count": null,
            "_view_module": "@jupyter-widgets/base",
            "_view_module_version": "1.2.0",
            "_view_name": "LayoutView",
            "align_content": null,
            "align_items": null,
            "align_self": null,
            "border": null,
            "bottom": null,
            "display": null,
            "flex": null,
            "flex_flow": null,
            "grid_area": null,
            "grid_auto_columns": null,
            "grid_auto_flow": null,
            "grid_auto_rows": null,
            "grid_column": null,
            "grid_gap": null,
            "grid_row": null,
            "grid_template_areas": null,
            "grid_template_columns": null,
            "grid_template_rows": null,
            "height": null,
            "justify_content": null,
            "justify_items": null,
            "left": null,
            "margin": null,
            "max_height": null,
            "max_width": null,
            "min_height": null,
            "min_width": null,
            "object_fit": null,
            "object_position": null,
            "order": null,
            "overflow": null,
            "overflow_x": null,
            "overflow_y": null,
            "padding": null,
            "right": null,
            "top": null,
            "visibility": null,
            "width": null
          }
        },
        "6de334d789d246c48741c62a51587144": {
          "model_module": "@jupyter-widgets/controls",
          "model_name": "DescriptionStyleModel",
          "model_module_version": "1.5.0",
          "state": {
            "_model_module": "@jupyter-widgets/controls",
            "_model_module_version": "1.5.0",
            "_model_name": "DescriptionStyleModel",
            "_view_count": null,
            "_view_module": "@jupyter-widgets/base",
            "_view_module_version": "1.2.0",
            "_view_name": "StyleView",
            "description_width": ""
          }
        },
        "404632724cca4d0db86d2a004273a50f": {
          "model_module": "@jupyter-widgets/controls",
          "model_name": "HBoxModel",
          "model_module_version": "1.5.0",
          "state": {
            "_dom_classes": [],
            "_model_module": "@jupyter-widgets/controls",
            "_model_module_version": "1.5.0",
            "_model_name": "HBoxModel",
            "_view_count": null,
            "_view_module": "@jupyter-widgets/controls",
            "_view_module_version": "1.5.0",
            "_view_name": "HBoxView",
            "box_style": "",
            "children": [
              "IPY_MODEL_d3c65318bc404fe79abe9273a758b9ef",
              "IPY_MODEL_c0deda9be1244a489e994f5ecbfba469",
              "IPY_MODEL_ad2f5134624a42548a7fbfcdeac28406"
            ],
            "layout": "IPY_MODEL_da7a6b5611b6427ca0e338fe49b7dd98"
          }
        },
        "d3c65318bc404fe79abe9273a758b9ef": {
          "model_module": "@jupyter-widgets/controls",
          "model_name": "HTMLModel",
          "model_module_version": "1.5.0",
          "state": {
            "_dom_classes": [],
            "_model_module": "@jupyter-widgets/controls",
            "_model_module_version": "1.5.0",
            "_model_name": "HTMLModel",
            "_view_count": null,
            "_view_module": "@jupyter-widgets/controls",
            "_view_module_version": "1.5.0",
            "_view_name": "HTMLView",
            "description": "",
            "description_tooltip": null,
            "layout": "IPY_MODEL_fb14ee18d1e54479a85cf0aaffca1ce1",
            "placeholder": "​",
            "style": "IPY_MODEL_2ee1f9d9c7bc4baba8a9113004c86a2d",
            "value": "100%"
          }
        },
        "c0deda9be1244a489e994f5ecbfba469": {
          "model_module": "@jupyter-widgets/controls",
          "model_name": "FloatProgressModel",
          "model_module_version": "1.5.0",
          "state": {
            "_dom_classes": [],
            "_model_module": "@jupyter-widgets/controls",
            "_model_module_version": "1.5.0",
            "_model_name": "FloatProgressModel",
            "_view_count": null,
            "_view_module": "@jupyter-widgets/controls",
            "_view_module_version": "1.5.0",
            "_view_name": "ProgressView",
            "bar_style": "success",
            "description": "",
            "description_tooltip": null,
            "layout": "IPY_MODEL_3bb0625982e748039a3e447f7956b532",
            "max": 2,
            "min": 0,
            "orientation": "horizontal",
            "style": "IPY_MODEL_a666b7988dbd456e9c9d39f6632e0829",
            "value": 2
          }
        },
        "ad2f5134624a42548a7fbfcdeac28406": {
          "model_module": "@jupyter-widgets/controls",
          "model_name": "HTMLModel",
          "model_module_version": "1.5.0",
          "state": {
            "_dom_classes": [],
            "_model_module": "@jupyter-widgets/controls",
            "_model_module_version": "1.5.0",
            "_model_name": "HTMLModel",
            "_view_count": null,
            "_view_module": "@jupyter-widgets/controls",
            "_view_module_version": "1.5.0",
            "_view_name": "HTMLView",
            "description": "",
            "description_tooltip": null,
            "layout": "IPY_MODEL_c2d95cda001c497fa934b19387fd46cb",
            "placeholder": "​",
            "style": "IPY_MODEL_b7cc68e0fefb4e29b2952e39595a60c5",
            "value": " 2/2 [00:00&lt;00:00, 25.52it/s]"
          }
        },
        "da7a6b5611b6427ca0e338fe49b7dd98": {
          "model_module": "@jupyter-widgets/base",
          "model_name": "LayoutModel",
          "model_module_version": "1.2.0",
          "state": {
            "_model_module": "@jupyter-widgets/base",
            "_model_module_version": "1.2.0",
            "_model_name": "LayoutModel",
            "_view_count": null,
            "_view_module": "@jupyter-widgets/base",
            "_view_module_version": "1.2.0",
            "_view_name": "LayoutView",
            "align_content": null,
            "align_items": null,
            "align_self": null,
            "border": null,
            "bottom": null,
            "display": null,
            "flex": null,
            "flex_flow": null,
            "grid_area": null,
            "grid_auto_columns": null,
            "grid_auto_flow": null,
            "grid_auto_rows": null,
            "grid_column": null,
            "grid_gap": null,
            "grid_row": null,
            "grid_template_areas": null,
            "grid_template_columns": null,
            "grid_template_rows": null,
            "height": null,
            "justify_content": null,
            "justify_items": null,
            "left": null,
            "margin": null,
            "max_height": null,
            "max_width": null,
            "min_height": null,
            "min_width": null,
            "object_fit": null,
            "object_position": null,
            "order": null,
            "overflow": null,
            "overflow_x": null,
            "overflow_y": null,
            "padding": null,
            "right": null,
            "top": null,
            "visibility": null,
            "width": null
          }
        },
        "fb14ee18d1e54479a85cf0aaffca1ce1": {
          "model_module": "@jupyter-widgets/base",
          "model_name": "LayoutModel",
          "model_module_version": "1.2.0",
          "state": {
            "_model_module": "@jupyter-widgets/base",
            "_model_module_version": "1.2.0",
            "_model_name": "LayoutModel",
            "_view_count": null,
            "_view_module": "@jupyter-widgets/base",
            "_view_module_version": "1.2.0",
            "_view_name": "LayoutView",
            "align_content": null,
            "align_items": null,
            "align_self": null,
            "border": null,
            "bottom": null,
            "display": null,
            "flex": null,
            "flex_flow": null,
            "grid_area": null,
            "grid_auto_columns": null,
            "grid_auto_flow": null,
            "grid_auto_rows": null,
            "grid_column": null,
            "grid_gap": null,
            "grid_row": null,
            "grid_template_areas": null,
            "grid_template_columns": null,
            "grid_template_rows": null,
            "height": null,
            "justify_content": null,
            "justify_items": null,
            "left": null,
            "margin": null,
            "max_height": null,
            "max_width": null,
            "min_height": null,
            "min_width": null,
            "object_fit": null,
            "object_position": null,
            "order": null,
            "overflow": null,
            "overflow_x": null,
            "overflow_y": null,
            "padding": null,
            "right": null,
            "top": null,
            "visibility": null,
            "width": null
          }
        },
        "2ee1f9d9c7bc4baba8a9113004c86a2d": {
          "model_module": "@jupyter-widgets/controls",
          "model_name": "DescriptionStyleModel",
          "model_module_version": "1.5.0",
          "state": {
            "_model_module": "@jupyter-widgets/controls",
            "_model_module_version": "1.5.0",
            "_model_name": "DescriptionStyleModel",
            "_view_count": null,
            "_view_module": "@jupyter-widgets/base",
            "_view_module_version": "1.2.0",
            "_view_name": "StyleView",
            "description_width": ""
          }
        },
        "3bb0625982e748039a3e447f7956b532": {
          "model_module": "@jupyter-widgets/base",
          "model_name": "LayoutModel",
          "model_module_version": "1.2.0",
          "state": {
            "_model_module": "@jupyter-widgets/base",
            "_model_module_version": "1.2.0",
            "_model_name": "LayoutModel",
            "_view_count": null,
            "_view_module": "@jupyter-widgets/base",
            "_view_module_version": "1.2.0",
            "_view_name": "LayoutView",
            "align_content": null,
            "align_items": null,
            "align_self": null,
            "border": null,
            "bottom": null,
            "display": null,
            "flex": null,
            "flex_flow": null,
            "grid_area": null,
            "grid_auto_columns": null,
            "grid_auto_flow": null,
            "grid_auto_rows": null,
            "grid_column": null,
            "grid_gap": null,
            "grid_row": null,
            "grid_template_areas": null,
            "grid_template_columns": null,
            "grid_template_rows": null,
            "height": null,
            "justify_content": null,
            "justify_items": null,
            "left": null,
            "margin": null,
            "max_height": null,
            "max_width": null,
            "min_height": null,
            "min_width": null,
            "object_fit": null,
            "object_position": null,
            "order": null,
            "overflow": null,
            "overflow_x": null,
            "overflow_y": null,
            "padding": null,
            "right": null,
            "top": null,
            "visibility": null,
            "width": null
          }
        },
        "a666b7988dbd456e9c9d39f6632e0829": {
          "model_module": "@jupyter-widgets/controls",
          "model_name": "ProgressStyleModel",
          "model_module_version": "1.5.0",
          "state": {
            "_model_module": "@jupyter-widgets/controls",
            "_model_module_version": "1.5.0",
            "_model_name": "ProgressStyleModel",
            "_view_count": null,
            "_view_module": "@jupyter-widgets/base",
            "_view_module_version": "1.2.0",
            "_view_name": "StyleView",
            "bar_color": null,
            "description_width": ""
          }
        },
        "c2d95cda001c497fa934b19387fd46cb": {
          "model_module": "@jupyter-widgets/base",
          "model_name": "LayoutModel",
          "model_module_version": "1.2.0",
          "state": {
            "_model_module": "@jupyter-widgets/base",
            "_model_module_version": "1.2.0",
            "_model_name": "LayoutModel",
            "_view_count": null,
            "_view_module": "@jupyter-widgets/base",
            "_view_module_version": "1.2.0",
            "_view_name": "LayoutView",
            "align_content": null,
            "align_items": null,
            "align_self": null,
            "border": null,
            "bottom": null,
            "display": null,
            "flex": null,
            "flex_flow": null,
            "grid_area": null,
            "grid_auto_columns": null,
            "grid_auto_flow": null,
            "grid_auto_rows": null,
            "grid_column": null,
            "grid_gap": null,
            "grid_row": null,
            "grid_template_areas": null,
            "grid_template_columns": null,
            "grid_template_rows": null,
            "height": null,
            "justify_content": null,
            "justify_items": null,
            "left": null,
            "margin": null,
            "max_height": null,
            "max_width": null,
            "min_height": null,
            "min_width": null,
            "object_fit": null,
            "object_position": null,
            "order": null,
            "overflow": null,
            "overflow_x": null,
            "overflow_y": null,
            "padding": null,
            "right": null,
            "top": null,
            "visibility": null,
            "width": null
          }
        },
        "b7cc68e0fefb4e29b2952e39595a60c5": {
          "model_module": "@jupyter-widgets/controls",
          "model_name": "DescriptionStyleModel",
          "model_module_version": "1.5.0",
          "state": {
            "_model_module": "@jupyter-widgets/controls",
            "_model_module_version": "1.5.0",
            "_model_name": "DescriptionStyleModel",
            "_view_count": null,
            "_view_module": "@jupyter-widgets/base",
            "_view_module_version": "1.2.0",
            "_view_name": "StyleView",
            "description_width": ""
          }
        },
        "7bf12e3cf37248e0a1e7b1839ba14b9a": {
          "model_module": "@jupyter-widgets/controls",
          "model_name": "HBoxModel",
          "model_module_version": "1.5.0",
          "state": {
            "_dom_classes": [],
            "_model_module": "@jupyter-widgets/controls",
            "_model_module_version": "1.5.0",
            "_model_name": "HBoxModel",
            "_view_count": null,
            "_view_module": "@jupyter-widgets/controls",
            "_view_module_version": "1.5.0",
            "_view_name": "HBoxView",
            "box_style": "",
            "children": [
              "IPY_MODEL_296e0ec63d554ec68cbda11b099f7306",
              "IPY_MODEL_271866e501284a3490a1307b35bce069",
              "IPY_MODEL_e19d8f4ce7d94c3397213a3acf2b4575"
            ],
            "layout": "IPY_MODEL_ce7f83fe63484b6bb77eb7b3455295af"
          }
        },
        "296e0ec63d554ec68cbda11b099f7306": {
          "model_module": "@jupyter-widgets/controls",
          "model_name": "HTMLModel",
          "model_module_version": "1.5.0",
          "state": {
            "_dom_classes": [],
            "_model_module": "@jupyter-widgets/controls",
            "_model_module_version": "1.5.0",
            "_model_name": "HTMLModel",
            "_view_count": null,
            "_view_module": "@jupyter-widgets/controls",
            "_view_module_version": "1.5.0",
            "_view_name": "HTMLView",
            "description": "",
            "description_tooltip": null,
            "layout": "IPY_MODEL_33570ba0c967431a91ba49e69ca3bb5f",
            "placeholder": "​",
            "style": "IPY_MODEL_1f13b8b15cc5486c9de9f2a1697ffb3b",
            "value": "100%"
          }
        },
        "271866e501284a3490a1307b35bce069": {
          "model_module": "@jupyter-widgets/controls",
          "model_name": "FloatProgressModel",
          "model_module_version": "1.5.0",
          "state": {
            "_dom_classes": [],
            "_model_module": "@jupyter-widgets/controls",
            "_model_module_version": "1.5.0",
            "_model_name": "FloatProgressModel",
            "_view_count": null,
            "_view_module": "@jupyter-widgets/controls",
            "_view_module_version": "1.5.0",
            "_view_name": "ProgressView",
            "bar_style": "success",
            "description": "",
            "description_tooltip": null,
            "layout": "IPY_MODEL_c02674fb5bdf4d26aa183482ccccc341",
            "max": 3000,
            "min": 0,
            "orientation": "horizontal",
            "style": "IPY_MODEL_d22ad1001db54e8dbce5ca8dc71b20e4",
            "value": 3000
          }
        },
        "e19d8f4ce7d94c3397213a3acf2b4575": {
          "model_module": "@jupyter-widgets/controls",
          "model_name": "HTMLModel",
          "model_module_version": "1.5.0",
          "state": {
            "_dom_classes": [],
            "_model_module": "@jupyter-widgets/controls",
            "_model_module_version": "1.5.0",
            "_model_name": "HTMLModel",
            "_view_count": null,
            "_view_module": "@jupyter-widgets/controls",
            "_view_module_version": "1.5.0",
            "_view_name": "HTMLView",
            "description": "",
            "description_tooltip": null,
            "layout": "IPY_MODEL_8ff805945d8d43a9b98ab19b4913f259",
            "placeholder": "​",
            "style": "IPY_MODEL_2c6e7302e7264c66a430ed2c02aadedd",
            "value": " 3000/3000 [00:01&lt;00:00, 2501.59ex/s]"
          }
        },
        "ce7f83fe63484b6bb77eb7b3455295af": {
          "model_module": "@jupyter-widgets/base",
          "model_name": "LayoutModel",
          "model_module_version": "1.2.0",
          "state": {
            "_model_module": "@jupyter-widgets/base",
            "_model_module_version": "1.2.0",
            "_model_name": "LayoutModel",
            "_view_count": null,
            "_view_module": "@jupyter-widgets/base",
            "_view_module_version": "1.2.0",
            "_view_name": "LayoutView",
            "align_content": null,
            "align_items": null,
            "align_self": null,
            "border": null,
            "bottom": null,
            "display": null,
            "flex": null,
            "flex_flow": null,
            "grid_area": null,
            "grid_auto_columns": null,
            "grid_auto_flow": null,
            "grid_auto_rows": null,
            "grid_column": null,
            "grid_gap": null,
            "grid_row": null,
            "grid_template_areas": null,
            "grid_template_columns": null,
            "grid_template_rows": null,
            "height": null,
            "justify_content": null,
            "justify_items": null,
            "left": null,
            "margin": null,
            "max_height": null,
            "max_width": null,
            "min_height": null,
            "min_width": null,
            "object_fit": null,
            "object_position": null,
            "order": null,
            "overflow": null,
            "overflow_x": null,
            "overflow_y": null,
            "padding": null,
            "right": null,
            "top": null,
            "visibility": null,
            "width": null
          }
        },
        "33570ba0c967431a91ba49e69ca3bb5f": {
          "model_module": "@jupyter-widgets/base",
          "model_name": "LayoutModel",
          "model_module_version": "1.2.0",
          "state": {
            "_model_module": "@jupyter-widgets/base",
            "_model_module_version": "1.2.0",
            "_model_name": "LayoutModel",
            "_view_count": null,
            "_view_module": "@jupyter-widgets/base",
            "_view_module_version": "1.2.0",
            "_view_name": "LayoutView",
            "align_content": null,
            "align_items": null,
            "align_self": null,
            "border": null,
            "bottom": null,
            "display": null,
            "flex": null,
            "flex_flow": null,
            "grid_area": null,
            "grid_auto_columns": null,
            "grid_auto_flow": null,
            "grid_auto_rows": null,
            "grid_column": null,
            "grid_gap": null,
            "grid_row": null,
            "grid_template_areas": null,
            "grid_template_columns": null,
            "grid_template_rows": null,
            "height": null,
            "justify_content": null,
            "justify_items": null,
            "left": null,
            "margin": null,
            "max_height": null,
            "max_width": null,
            "min_height": null,
            "min_width": null,
            "object_fit": null,
            "object_position": null,
            "order": null,
            "overflow": null,
            "overflow_x": null,
            "overflow_y": null,
            "padding": null,
            "right": null,
            "top": null,
            "visibility": null,
            "width": null
          }
        },
        "1f13b8b15cc5486c9de9f2a1697ffb3b": {
          "model_module": "@jupyter-widgets/controls",
          "model_name": "DescriptionStyleModel",
          "model_module_version": "1.5.0",
          "state": {
            "_model_module": "@jupyter-widgets/controls",
            "_model_module_version": "1.5.0",
            "_model_name": "DescriptionStyleModel",
            "_view_count": null,
            "_view_module": "@jupyter-widgets/base",
            "_view_module_version": "1.2.0",
            "_view_name": "StyleView",
            "description_width": ""
          }
        },
        "c02674fb5bdf4d26aa183482ccccc341": {
          "model_module": "@jupyter-widgets/base",
          "model_name": "LayoutModel",
          "model_module_version": "1.2.0",
          "state": {
            "_model_module": "@jupyter-widgets/base",
            "_model_module_version": "1.2.0",
            "_model_name": "LayoutModel",
            "_view_count": null,
            "_view_module": "@jupyter-widgets/base",
            "_view_module_version": "1.2.0",
            "_view_name": "LayoutView",
            "align_content": null,
            "align_items": null,
            "align_self": null,
            "border": null,
            "bottom": null,
            "display": null,
            "flex": null,
            "flex_flow": null,
            "grid_area": null,
            "grid_auto_columns": null,
            "grid_auto_flow": null,
            "grid_auto_rows": null,
            "grid_column": null,
            "grid_gap": null,
            "grid_row": null,
            "grid_template_areas": null,
            "grid_template_columns": null,
            "grid_template_rows": null,
            "height": null,
            "justify_content": null,
            "justify_items": null,
            "left": null,
            "margin": null,
            "max_height": null,
            "max_width": null,
            "min_height": null,
            "min_width": null,
            "object_fit": null,
            "object_position": null,
            "order": null,
            "overflow": null,
            "overflow_x": null,
            "overflow_y": null,
            "padding": null,
            "right": null,
            "top": null,
            "visibility": null,
            "width": null
          }
        },
        "d22ad1001db54e8dbce5ca8dc71b20e4": {
          "model_module": "@jupyter-widgets/controls",
          "model_name": "ProgressStyleModel",
          "model_module_version": "1.5.0",
          "state": {
            "_model_module": "@jupyter-widgets/controls",
            "_model_module_version": "1.5.0",
            "_model_name": "ProgressStyleModel",
            "_view_count": null,
            "_view_module": "@jupyter-widgets/base",
            "_view_module_version": "1.2.0",
            "_view_name": "StyleView",
            "bar_color": null,
            "description_width": ""
          }
        },
        "8ff805945d8d43a9b98ab19b4913f259": {
          "model_module": "@jupyter-widgets/base",
          "model_name": "LayoutModel",
          "model_module_version": "1.2.0",
          "state": {
            "_model_module": "@jupyter-widgets/base",
            "_model_module_version": "1.2.0",
            "_model_name": "LayoutModel",
            "_view_count": null,
            "_view_module": "@jupyter-widgets/base",
            "_view_module_version": "1.2.0",
            "_view_name": "LayoutView",
            "align_content": null,
            "align_items": null,
            "align_self": null,
            "border": null,
            "bottom": null,
            "display": null,
            "flex": null,
            "flex_flow": null,
            "grid_area": null,
            "grid_auto_columns": null,
            "grid_auto_flow": null,
            "grid_auto_rows": null,
            "grid_column": null,
            "grid_gap": null,
            "grid_row": null,
            "grid_template_areas": null,
            "grid_template_columns": null,
            "grid_template_rows": null,
            "height": null,
            "justify_content": null,
            "justify_items": null,
            "left": null,
            "margin": null,
            "max_height": null,
            "max_width": null,
            "min_height": null,
            "min_width": null,
            "object_fit": null,
            "object_position": null,
            "order": null,
            "overflow": null,
            "overflow_x": null,
            "overflow_y": null,
            "padding": null,
            "right": null,
            "top": null,
            "visibility": null,
            "width": null
          }
        },
        "2c6e7302e7264c66a430ed2c02aadedd": {
          "model_module": "@jupyter-widgets/controls",
          "model_name": "DescriptionStyleModel",
          "model_module_version": "1.5.0",
          "state": {
            "_model_module": "@jupyter-widgets/controls",
            "_model_module_version": "1.5.0",
            "_model_name": "DescriptionStyleModel",
            "_view_count": null,
            "_view_module": "@jupyter-widgets/base",
            "_view_module_version": "1.2.0",
            "_view_name": "StyleView",
            "description_width": ""
          }
        },
        "15ed76dbcc104b3bb758017b2805ef6b": {
          "model_module": "@jupyter-widgets/controls",
          "model_name": "HBoxModel",
          "model_module_version": "1.5.0",
          "state": {
            "_dom_classes": [],
            "_model_module": "@jupyter-widgets/controls",
            "_model_module_version": "1.5.0",
            "_model_name": "HBoxModel",
            "_view_count": null,
            "_view_module": "@jupyter-widgets/controls",
            "_view_module_version": "1.5.0",
            "_view_name": "HBoxView",
            "box_style": "",
            "children": [
              "IPY_MODEL_5871d9c459464e32b4bae6324236053e",
              "IPY_MODEL_efaa495881d2408c87bb0a70836bfb70",
              "IPY_MODEL_99407d189d2f4b3f987473c9e411dd2c"
            ],
            "layout": "IPY_MODEL_8d94a2d08a48449e988a8521f9968d54"
          }
        },
        "5871d9c459464e32b4bae6324236053e": {
          "model_module": "@jupyter-widgets/controls",
          "model_name": "HTMLModel",
          "model_module_version": "1.5.0",
          "state": {
            "_dom_classes": [],
            "_model_module": "@jupyter-widgets/controls",
            "_model_module_version": "1.5.0",
            "_model_name": "HTMLModel",
            "_view_count": null,
            "_view_module": "@jupyter-widgets/controls",
            "_view_module_version": "1.5.0",
            "_view_name": "HTMLView",
            "description": "",
            "description_tooltip": null,
            "layout": "IPY_MODEL_1071e4da58204f4292fff1f3e2d21f52",
            "placeholder": "​",
            "style": "IPY_MODEL_3df337a74b5749e7b1f78a2ae6aaa989",
            "value": "100%"
          }
        },
        "efaa495881d2408c87bb0a70836bfb70": {
          "model_module": "@jupyter-widgets/controls",
          "model_name": "FloatProgressModel",
          "model_module_version": "1.5.0",
          "state": {
            "_dom_classes": [],
            "_model_module": "@jupyter-widgets/controls",
            "_model_module_version": "1.5.0",
            "_model_name": "FloatProgressModel",
            "_view_count": null,
            "_view_module": "@jupyter-widgets/controls",
            "_view_module_version": "1.5.0",
            "_view_name": "ProgressView",
            "bar_style": "success",
            "description": "",
            "description_tooltip": null,
            "layout": "IPY_MODEL_a9241ed3f60d44719ac1133a32bd4b1f",
            "max": 375,
            "min": 0,
            "orientation": "horizontal",
            "style": "IPY_MODEL_5d6d5e1033804b6fb12e0ea23d8b1872",
            "value": 375
          }
        },
        "99407d189d2f4b3f987473c9e411dd2c": {
          "model_module": "@jupyter-widgets/controls",
          "model_name": "HTMLModel",
          "model_module_version": "1.5.0",
          "state": {
            "_dom_classes": [],
            "_model_module": "@jupyter-widgets/controls",
            "_model_module_version": "1.5.0",
            "_model_name": "HTMLModel",
            "_view_count": null,
            "_view_module": "@jupyter-widgets/controls",
            "_view_module_version": "1.5.0",
            "_view_name": "HTMLView",
            "description": "",
            "description_tooltip": null,
            "layout": "IPY_MODEL_e1cc4aafe8464391a1524e32092897f2",
            "placeholder": "​",
            "style": "IPY_MODEL_3127f1c4022241ac8cd75cfa11729253",
            "value": " 375/375 [00:04&lt;00:00, 78.67it/s]"
          }
        },
        "8d94a2d08a48449e988a8521f9968d54": {
          "model_module": "@jupyter-widgets/base",
          "model_name": "LayoutModel",
          "model_module_version": "1.2.0",
          "state": {
            "_model_module": "@jupyter-widgets/base",
            "_model_module_version": "1.2.0",
            "_model_name": "LayoutModel",
            "_view_count": null,
            "_view_module": "@jupyter-widgets/base",
            "_view_module_version": "1.2.0",
            "_view_name": "LayoutView",
            "align_content": null,
            "align_items": null,
            "align_self": null,
            "border": null,
            "bottom": null,
            "display": null,
            "flex": null,
            "flex_flow": null,
            "grid_area": null,
            "grid_auto_columns": null,
            "grid_auto_flow": null,
            "grid_auto_rows": null,
            "grid_column": null,
            "grid_gap": null,
            "grid_row": null,
            "grid_template_areas": null,
            "grid_template_columns": null,
            "grid_template_rows": null,
            "height": null,
            "justify_content": null,
            "justify_items": null,
            "left": null,
            "margin": null,
            "max_height": null,
            "max_width": null,
            "min_height": null,
            "min_width": null,
            "object_fit": null,
            "object_position": null,
            "order": null,
            "overflow": null,
            "overflow_x": null,
            "overflow_y": null,
            "padding": null,
            "right": null,
            "top": null,
            "visibility": null,
            "width": null
          }
        },
        "1071e4da58204f4292fff1f3e2d21f52": {
          "model_module": "@jupyter-widgets/base",
          "model_name": "LayoutModel",
          "model_module_version": "1.2.0",
          "state": {
            "_model_module": "@jupyter-widgets/base",
            "_model_module_version": "1.2.0",
            "_model_name": "LayoutModel",
            "_view_count": null,
            "_view_module": "@jupyter-widgets/base",
            "_view_module_version": "1.2.0",
            "_view_name": "LayoutView",
            "align_content": null,
            "align_items": null,
            "align_self": null,
            "border": null,
            "bottom": null,
            "display": null,
            "flex": null,
            "flex_flow": null,
            "grid_area": null,
            "grid_auto_columns": null,
            "grid_auto_flow": null,
            "grid_auto_rows": null,
            "grid_column": null,
            "grid_gap": null,
            "grid_row": null,
            "grid_template_areas": null,
            "grid_template_columns": null,
            "grid_template_rows": null,
            "height": null,
            "justify_content": null,
            "justify_items": null,
            "left": null,
            "margin": null,
            "max_height": null,
            "max_width": null,
            "min_height": null,
            "min_width": null,
            "object_fit": null,
            "object_position": null,
            "order": null,
            "overflow": null,
            "overflow_x": null,
            "overflow_y": null,
            "padding": null,
            "right": null,
            "top": null,
            "visibility": null,
            "width": null
          }
        },
        "3df337a74b5749e7b1f78a2ae6aaa989": {
          "model_module": "@jupyter-widgets/controls",
          "model_name": "DescriptionStyleModel",
          "model_module_version": "1.5.0",
          "state": {
            "_model_module": "@jupyter-widgets/controls",
            "_model_module_version": "1.5.0",
            "_model_name": "DescriptionStyleModel",
            "_view_count": null,
            "_view_module": "@jupyter-widgets/base",
            "_view_module_version": "1.2.0",
            "_view_name": "StyleView",
            "description_width": ""
          }
        },
        "a9241ed3f60d44719ac1133a32bd4b1f": {
          "model_module": "@jupyter-widgets/base",
          "model_name": "LayoutModel",
          "model_module_version": "1.2.0",
          "state": {
            "_model_module": "@jupyter-widgets/base",
            "_model_module_version": "1.2.0",
            "_model_name": "LayoutModel",
            "_view_count": null,
            "_view_module": "@jupyter-widgets/base",
            "_view_module_version": "1.2.0",
            "_view_name": "LayoutView",
            "align_content": null,
            "align_items": null,
            "align_self": null,
            "border": null,
            "bottom": null,
            "display": null,
            "flex": null,
            "flex_flow": null,
            "grid_area": null,
            "grid_auto_columns": null,
            "grid_auto_flow": null,
            "grid_auto_rows": null,
            "grid_column": null,
            "grid_gap": null,
            "grid_row": null,
            "grid_template_areas": null,
            "grid_template_columns": null,
            "grid_template_rows": null,
            "height": null,
            "justify_content": null,
            "justify_items": null,
            "left": null,
            "margin": null,
            "max_height": null,
            "max_width": null,
            "min_height": null,
            "min_width": null,
            "object_fit": null,
            "object_position": null,
            "order": null,
            "overflow": null,
            "overflow_x": null,
            "overflow_y": null,
            "padding": null,
            "right": null,
            "top": null,
            "visibility": null,
            "width": null
          }
        },
        "5d6d5e1033804b6fb12e0ea23d8b1872": {
          "model_module": "@jupyter-widgets/controls",
          "model_name": "ProgressStyleModel",
          "model_module_version": "1.5.0",
          "state": {
            "_model_module": "@jupyter-widgets/controls",
            "_model_module_version": "1.5.0",
            "_model_name": "ProgressStyleModel",
            "_view_count": null,
            "_view_module": "@jupyter-widgets/base",
            "_view_module_version": "1.2.0",
            "_view_name": "StyleView",
            "bar_color": null,
            "description_width": ""
          }
        },
        "e1cc4aafe8464391a1524e32092897f2": {
          "model_module": "@jupyter-widgets/base",
          "model_name": "LayoutModel",
          "model_module_version": "1.2.0",
          "state": {
            "_model_module": "@jupyter-widgets/base",
            "_model_module_version": "1.2.0",
            "_model_name": "LayoutModel",
            "_view_count": null,
            "_view_module": "@jupyter-widgets/base",
            "_view_module_version": "1.2.0",
            "_view_name": "LayoutView",
            "align_content": null,
            "align_items": null,
            "align_self": null,
            "border": null,
            "bottom": null,
            "display": null,
            "flex": null,
            "flex_flow": null,
            "grid_area": null,
            "grid_auto_columns": null,
            "grid_auto_flow": null,
            "grid_auto_rows": null,
            "grid_column": null,
            "grid_gap": null,
            "grid_row": null,
            "grid_template_areas": null,
            "grid_template_columns": null,
            "grid_template_rows": null,
            "height": null,
            "justify_content": null,
            "justify_items": null,
            "left": null,
            "margin": null,
            "max_height": null,
            "max_width": null,
            "min_height": null,
            "min_width": null,
            "object_fit": null,
            "object_position": null,
            "order": null,
            "overflow": null,
            "overflow_x": null,
            "overflow_y": null,
            "padding": null,
            "right": null,
            "top": null,
            "visibility": null,
            "width": null
          }
        },
        "3127f1c4022241ac8cd75cfa11729253": {
          "model_module": "@jupyter-widgets/controls",
          "model_name": "DescriptionStyleModel",
          "model_module_version": "1.5.0",
          "state": {
            "_model_module": "@jupyter-widgets/controls",
            "_model_module_version": "1.5.0",
            "_model_name": "DescriptionStyleModel",
            "_view_count": null,
            "_view_module": "@jupyter-widgets/base",
            "_view_module_version": "1.2.0",
            "_view_name": "StyleView",
            "description_width": ""
          }
        }
      }
    }
  },
  "cells": [
    {
      "cell_type": "markdown",
      "metadata": {
        "id": "view-in-github",
        "colab_type": "text"
      },
      "source": [
        "<a href=\"https://colab.research.google.com/github/respect5716/deep-learning-paper-implementation/blob/main/03_NLP/TinyBERT.ipynb\" target=\"_parent\"><img src=\"https://colab.research.google.com/assets/colab-badge.svg\" alt=\"Open In Colab\"/></a>"
      ]
    },
    {
      "cell_type": "markdown",
      "source": [
        "# TinyBERT"
      ],
      "metadata": {
        "id": "ocJFUNXs_hbR"
      }
    },
    {
      "cell_type": "markdown",
      "source": [
        "## 0. Introduction"
      ],
      "metadata": {
        "id": "E8BnU1Xm_nvu"
      }
    },
    {
      "cell_type": "markdown",
      "source": [
        "### Paper\n",
        "* title: TInyBERT: Distilling BERT for Natural Language Understanding\n",
        "* authors: Xiaoqi Jiao et al.\n",
        "* url: https://arxiv.org/abs/1909.10351\n",
        "\n",
        "### Reference\n",
        "* https://github.com/huawei-noah/Pretrained-Language-Model/tree/master/TinyBERT"
      ],
      "metadata": {
        "id": "AdQ2k8jh_p9A"
      }
    },
    {
      "cell_type": "markdown",
      "source": [
        "## 1. Setup"
      ],
      "metadata": {
        "id": "hgKbMoXA_6B8"
      }
    },
    {
      "cell_type": "code",
      "source": [
        "!pip install -q wandb transformers pytorch_lightning datasets"
      ],
      "metadata": {
        "id": "ooYpiYvqAJoY"
      },
      "execution_count": null,
      "outputs": []
    },
    {
      "cell_type": "code",
      "source": [
        "import os\n",
        "import math\n",
        "import wandb\n",
        "import easydict\n",
        "import numpy as np\n",
        "from tqdm.auto import tqdm\n",
        "\n",
        "import torch\n",
        "import torch.nn as nn\n",
        "import torch.nn.functional as F\n",
        "import pytorch_lightning as pl\n",
        "\n",
        "from transformers import Trainer, TrainingArguments\n",
        "from transformers import get_scheduler\n",
        "from transformers import BatchEncoding\n",
        "from transformers import DataCollatorForLanguageModeling\n",
        "from transformers import AutoTokenizer, AutoConfig, AutoModelForMaskedLM, AutoModelForSequenceClassification\n",
        "\n",
        "from datasets import load_metric, load_dataset, concatenate_datasets"
      ],
      "metadata": {
        "id": "vgWj0lg5AMeB"
      },
      "execution_count": 1,
      "outputs": []
    },
    {
      "cell_type": "code",
      "source": [
        "config = easydict.EasyDict(\n",
        "\n",
        "    data = {\n",
        "        'datasets': ['namuwiki'],\n",
        "        'data_dir': 'drive/Shareddrives/dataset',\n",
        "        'pretrained_model_name_or_path': 'klue/bert-base',\n",
        "        'batch_size': 4,\n",
        "        'mlm_probability': 0.15,\n",
        "        'max_seq_length': 512\n",
        "    },\n",
        "\n",
        "    teacher = {\n",
        "        'model_name_or_path': 'klue/bert-base',\n",
        "        'hidden_dropout_prob': 0.,\n",
        "        'attention_probs_dropout_prob': 0.,\n",
        "        'output_attentions': True,\n",
        "        'output_hidden_states': True\n",
        "    },\n",
        "\n",
        "    student = {\n",
        "        'num_hidden_layers': 6,\n",
        "        'hidden_size': 384,\n",
        "        'intermediate_size': 1536,\n",
        "        'output_attentions': True,\n",
        "        'output_hidden_states': True\n",
        "    },\n",
        "\n",
        "    optimizer = {\n",
        "        'name': 'adamw',\n",
        "        'lr': 6e-4,\n",
        "        'betas': (0.9, 0.98),\n",
        "        'weight_decay': 0.01,\n",
        "    },\n",
        "\n",
        "    scheduler = {\n",
        "        'name': 'linear',\n",
        "        'max_steps': 10000,\n",
        "        'warmup_ratio': 0.05\n",
        "    },\n",
        "\n",
        "    distil = {\n",
        "        'temperature': 2.,\n",
        "        'alpha_hidden': 2.0, # hidden states mse loss\n",
        "        'alpha_attn': 2.0,  # attn mse loss\n",
        "        'alpha_pred': 0. # logits kl-div loss\n",
        "    },\n",
        "\n",
        "    trainer = {\n",
        "        'gpus': -1,\n",
        "        'log_every_n_steps': 10,\n",
        "        'num_sanity_val_steps': 100,\n",
        "        'val_check_interval': 1000,\n",
        "        'limit_val_batches': 100,\n",
        "\n",
        "        'max_steps': 10000,\n",
        "        'accumulate_grad_batches': 4,\n",
        "        'gradient_clip_val': 5.0,\n",
        "        'precision': 32,\n",
        "    }\n",
        ")"
      ],
      "metadata": {
        "id": "kejMVv0WAZuM"
      },
      "execution_count": 2,
      "outputs": []
    },
    {
      "cell_type": "markdown",
      "source": [
        "## 2. Data"
      ],
      "metadata": {
        "id": "UKNxlxg5BQtk"
      }
    },
    {
      "cell_type": "code",
      "source": [
        "class DataModule(pl.LightningDataModule):\n",
        "    def __init__(self, *args, **kwargs):\n",
        "        super().__init__()\n",
        "        self.save_hyperparameters()\n",
        "        self.tokenizer = AutoTokenizer.from_pretrained(self.hparams.pretrained_model_name_or_path)\n",
        "        \n",
        "    def setup(self, stage=None):\n",
        "        dataset = []\n",
        "        for dname in self.hparams.datasets:\n",
        "            _dataset = load_dataset('text', data_files=os.path.join(self.hparams.data_dir, f'{dname}.txt'))['train']\n",
        "            dataset.append(_dataset)\n",
        "\n",
        "        self.dataset = concatenate_datasets(dataset)\n",
        "        self.dataset.set_transform(lambda batch: transform(batch, self.tokenizer, self.hparams.max_seq_length))\n",
        "        self.dataset = self.dataset.train_test_split(test_size=0.01)\n",
        "        self.train_dataset, self.eval_dataset = self.dataset['train'], self.dataset['test']\n",
        "        \n",
        "        self.collator = DataCollatorForLanguageModeling(tokenizer=self.tokenizer, mlm=False)\n",
        "\n",
        "\n",
        "    def collate_fn(self, batch):\n",
        "        batch = BatchEncoding(self.collator(batch))\n",
        "        batch['attention_mask'] = batch.input_ids.ne(self.tokenizer.pad_token_id).float()\n",
        "        return batch\n",
        "\n",
        "    def train_dataloader(self):\n",
        "        return torch.utils.data.DataLoader(self.train_dataset, batch_size=self.hparams.batch_size, shuffle=True, collate_fn=self.collate_fn)\n",
        "    \n",
        "    def val_dataloader(self):\n",
        "        return torch.utils.data.DataLoader(self.eval_dataset, batch_size=self.hparams.batch_size, shuffle=False, collate_fn=self.collate_fn)\n",
        "\n",
        "    def test_dataloader(self):\n",
        "        return self.val_dataloader()\n",
        "    \n",
        "    \n",
        "def transform(batch, tokenizer, max_length):\n",
        "    new_batch = []\n",
        "    for text in batch['text']:\n",
        "        text = slice_text(text)\n",
        "        new_batch.append(text)\n",
        "    \n",
        "    return tokenizer(new_batch, padding='max_length', truncation=True, max_length=max_length, return_tensors='pt')\n",
        "\n",
        "\n",
        "def slice_text(text, max_char_length=1024):\n",
        "    if len(text) > max_char_length:\n",
        "        idx = np.random.randint(low=0, high=len(text)-max_char_length)\n",
        "        text = text[idx : idx+max_char_length]\n",
        "    return text"
      ],
      "metadata": {
        "id": "uFFXxCReDGmD"
      },
      "execution_count": 3,
      "outputs": []
    },
    {
      "cell_type": "markdown",
      "source": [
        "## 3. Model"
      ],
      "metadata": {
        "id": "blJETS52GIRM"
      }
    },
    {
      "cell_type": "code",
      "source": [
        "def bert_self_attention_forward(\n",
        "    self,\n",
        "    hidden_states,\n",
        "    attention_mask=None,\n",
        "    head_mask=None,\n",
        "    encoder_hidden_states=None,\n",
        "    encoder_attention_mask=None,\n",
        "    past_key_value=None,\n",
        "    output_attentions=False,\n",
        "):\n",
        "    mixed_query_layer = self.query(hidden_states)\n",
        "    mixed_key_layer = self.key(hidden_states)\n",
        "    mixed_value_layer = self.value(hidden_states)\n",
        "\n",
        "    self.q = mixed_query_layer # (bs, sq, dim)\n",
        "    self.k = mixed_key_layer # (bs, sq, dim)\n",
        "    self.v = mixed_value_layer # (bs, sq, dim)\n",
        "    \n",
        "    query_layer = self.transpose_for_scores(mixed_query_layer) # (bs, nh, sq, dim)\n",
        "    key_layer = self.transpose_for_scores(mixed_key_layer) # (bs, nh, sq, dim)\n",
        "    value_layer = self.transpose_for_scores(mixed_value_layer) # (bs, nh, sq, dim)\n",
        "    \n",
        "    if self.is_decoder:\n",
        "        past_key_value = (key_layer, value_layer)\n",
        "\n",
        "    attention_scores = torch.matmul(query_layer, key_layer.transpose(-1, -2)) # (bs, nh, sq, sq)\n",
        "    self.attn = attention_scores\n",
        "\n",
        "    if self.position_embedding_type == \"relative_key\" or self.position_embedding_type == \"relative_key_query\":\n",
        "        seq_length = hidden_states.size()[1]\n",
        "        position_ids_l = torch.arange(seq_length, dtype=torch.long, device=hidden_states.device).view(-1, 1)\n",
        "        position_ids_r = torch.arange(seq_length, dtype=torch.long, device=hidden_states.device).view(1, -1)\n",
        "        distance = position_ids_l - position_ids_r\n",
        "        positional_embedding = self.distance_embedding(distance + self.max_position_embeddings - 1)\n",
        "        positional_embedding = positional_embedding.to(dtype=query_layer.dtype)  # fp16 compatibility\n",
        "\n",
        "        if self.position_embedding_type == \"relative_key\":\n",
        "            relative_position_scores = torch.einsum(\"bhld,lrd->bhlr\", query_layer, positional_embedding)\n",
        "            attention_scores = attention_scores + relative_position_scores\n",
        "        elif self.position_embedding_type == \"relative_key_query\":\n",
        "            relative_position_scores_query = torch.einsum(\"bhld,lrd->bhlr\", query_layer, positional_embedding)\n",
        "            relative_position_scores_key = torch.einsum(\"bhrd,lrd->bhlr\", key_layer, positional_embedding)\n",
        "            attention_scores = attention_scores + relative_position_scores_query + relative_position_scores_key\n",
        "\n",
        "    attention_scores = attention_scores / math.sqrt(self.attention_head_size)\n",
        "    if attention_mask is not None:\n",
        "        attention_scores = attention_scores + attention_mask\n",
        "\n",
        "    attention_probs = nn.Softmax(dim=-1)(attention_scores)\n",
        "    attention_probs = self.dropout(attention_probs)\n",
        "\n",
        "    if head_mask is not None:\n",
        "        attention_probs = attention_probs * head_mask\n",
        "\n",
        "    context_layer = torch.matmul(attention_probs, value_layer)\n",
        "\n",
        "    context_layer = context_layer.permute(0, 2, 1, 3).contiguous()\n",
        "    new_context_layer_shape = context_layer.size()[:-2] + (self.all_head_size,)\n",
        "    context_layer = context_layer.view(*new_context_layer_shape)\n",
        "    self.o = context_layer\n",
        "\n",
        "    outputs = (context_layer, attention_probs) if output_attentions else (context_layer,)\n",
        "    if self.is_decoder:\n",
        "        outputs = outputs + (past_key_value,)\n",
        "    return outputs\n",
        "\n",
        "\n",
        "def to_distill(model):\n",
        "    model.base_model.encoder.layer[0].attention.self.__class__._forward = bert_self_attention_forward\n",
        "    for layer in model.base_model.encoder.layer:\n",
        "        layer.attention.self.forward = layer.attention.self._forward\n",
        "    return model\n",
        "\n",
        "def get_layer_mapper(student_num_layers, teacher_num_layers):\n",
        "    share = teacher_num_layers // student_num_layers\n",
        "    layer_mapper = {0:0}\n",
        "    for s in range(1, student_num_layers+1):\n",
        "        layer_mapper[s] = s * share\n",
        "    return layer_mapper\n",
        "\n",
        "def get_attns(model):\n",
        "    attns = [l.attention.self.attn for l in model.base_model.encoder.layer]\n",
        "    return attns\n",
        "\n",
        "def kl_div_loss(s, t, temperature):\n",
        "    if len(s.size()) != 2:\n",
        "        s = s.view(-1, s.size(-1))\n",
        "        t = t.view(-1, t.size(-1))\n",
        "\n",
        "    s = F.log_softmax(s / temperature, dim=-1)\n",
        "    t = F.softmax(t / temperature, dim=-1)\n",
        "    return F.kl_div(s, t, reduction='batchmean') * (temperature ** 2)"
      ],
      "metadata": {
        "id": "DveezzxyL3B6"
      },
      "execution_count": 4,
      "outputs": []
    },
    {
      "cell_type": "code",
      "source": [
        "optim_dict = {\n",
        "    'adam': torch.optim.Adam,\n",
        "    'adamw': torch.optim.AdamW\n",
        "}\n",
        "\n",
        "def prepare_optimizer(params, optimizer_hparams):\n",
        "    name = optimizer_hparams['name']\n",
        "    hparams = {k:v for k,v in optimizer_hparams.items() if k != 'name'}\n",
        "    return optim_dict[name](params, **hparams)\n",
        "\n",
        "\n",
        "def prepare_scheduler(optimizer, scheduler_hparams):\n",
        "    num_training_steps = scheduler_hparams['max_steps']\n",
        "    num_warmup_steps = int(num_training_steps * scheduler_hparams['warmup_ratio'])\n",
        "    scheduler = get_scheduler(scheduler_hparams['name'], optimizer, num_warmup_steps=num_warmup_steps, num_training_steps=num_training_steps)\n",
        "    return scheduler\n",
        "\n",
        "\n",
        "def select_tensor(tensor, attention_mask):\n",
        "    mask = attention_mask.unsqueeze(-1).expand_as(tensor).bool()\n",
        "    selected = torch.masked_select(tensor, mask)  # (bs * seq_length * voc_size)\n",
        "    selected = selected.view(-1, tensor.size(-1))  # (bs * seq_length, voc_size)\n",
        "    return selected"
      ],
      "metadata": {
        "id": "H2i-mm7gI4R4"
      },
      "execution_count": 5,
      "outputs": []
    },
    {
      "cell_type": "code",
      "source": [
        "class Model(pl.LightningModule):\n",
        "    def __init__(self, *args, **kwargs):\n",
        "        super().__init__()\n",
        "        self.save_hyperparameters()\n",
        "        self.teacher, self.student, self.tokenizer = self.prepare()\n",
        "        self.layer_mapper = get_layer_mapper(self.student.config.num_hidden_layers, self.teacher.config.num_hidden_layers)\n",
        "    \n",
        "    def prepare(self):\n",
        "        teacher_kwargs = {k:v for k, v in self.hparams.teacher.items() if k not in ['model_name_or_path']}\n",
        "        teacher = AutoModelForMaskedLM.from_pretrained(\n",
        "            self.hparams.teacher.model_name_or_path,\n",
        "            **teacher_kwargs\n",
        "        )\n",
        "        for param in teacher.parameters():\n",
        "            param.requires_grad = False\n",
        "\n",
        "        config = AutoConfig.from_pretrained(\n",
        "            self.hparams.teacher.model_name_or_path,\n",
        "            **self.hparams.student\n",
        "        )\n",
        "        \n",
        "        student = AutoModelForMaskedLM.from_config(config)\n",
        "        student.upsampler = nn.ModuleList([nn.Linear(student.config.hidden_size, teacher.config.hidden_size) for _ in range(student.config.num_hidden_layers+1)])\n",
        "\n",
        "        teacher = to_distill(teacher)\n",
        "        student = to_distill(student)\n",
        "\n",
        "        teacher.eval()\n",
        "        student.train()\n",
        "\n",
        "        tokenizer = AutoTokenizer.from_pretrained(self.hparams.teacher.model_name_or_path)\n",
        "        return teacher, student, tokenizer\n",
        "    \n",
        "    \n",
        "    def student_param_groups(self):\n",
        "        no_decay = [\"bias\", \"bn\", \"ln\", \"norm\"]\n",
        "        param_groups = [\n",
        "            {\n",
        "                # apply weight decay\n",
        "                \"params\": [p for n, p in self.student.named_parameters() if not any(nd in n.lower() for nd in no_decay)],\n",
        "                \"weight_decay\": self.hparams.optimizer.weight_decay\n",
        "            },\n",
        "            {\n",
        "                # not apply weight decay\n",
        "                \"params\": [p for n, p in self.student.named_parameters() if any(nd in n.lower() for nd in no_decay)],\n",
        "                \"weight_decay\": 0.0,\n",
        "            },\n",
        "        ]\n",
        "        return param_groups\n",
        "\n",
        "\n",
        "    def configure_optimizers(self):\n",
        "        optimizer = prepare_optimizer(self.student_param_groups(), self.hparams.optimizer)\n",
        "        scheduler = prepare_scheduler(optimizer, self.hparams.scheduler)\n",
        "        return {\n",
        "            'optimizer': optimizer,\n",
        "            'lr_scheduler': {\n",
        "                'scheduler': scheduler,\n",
        "                'interval': 'step',\n",
        "            }\n",
        "        }\n",
        "\n",
        "\n",
        "    def training_step(self, batch, batch_idx):\n",
        "        loss = 0.\n",
        "        log = {}\n",
        "\n",
        "        to = self.teacher(**batch)\n",
        "        so = self.student(**batch)\n",
        "        tattns = get_attns(self.teacher)\n",
        "        sattns = get_attns(self.student)\n",
        "        \n",
        "        if self.hparams.distil.alpha_hidden > 0:\n",
        "            hidden_loss = 0.\n",
        "            for si, ti in self.layer_mapper.items():\n",
        "                th, sh = to.hidden_states[ti], so.hidden_states[si]\n",
        "                sh = self.student.upsampler[si](sh)\n",
        "                hidden_loss += F.mse_loss(sh, th)\n",
        "            loss += self.hparams.distil.alpha_hidden * hidden_loss\n",
        "            log['train/hidden_loss'] = hidden_loss.item()\n",
        "\n",
        "        if self.hparams.distil.alpha_attn > 0:\n",
        "            attn_loss = 0.\n",
        "            for ta, sa in zip(tattns, sattns):\n",
        "                attn_loss += F.mse_loss(sa, ta) / (ta.size(0) * ta.size(1))\n",
        "            loss += self.hparams.distil.alpha_attn * attn_loss\n",
        "            log['train/attn_loss'] = attn_loss.item()\n",
        "\n",
        "        if self.hparams.distil.alpha_pred > 0:\n",
        "            pred_loss = kl_div_loss(so.logits, to.logits, self.hparams.distil.temperature)\n",
        "            loss += self.hparams.distil.alpha_pred * pred_loss\n",
        "            log['train/pred_loss'] = pred_loss.item()\n",
        "\n",
        "        log['train/loss'] = loss\n",
        "        self.log_dict(log, on_step=True, on_epoch=True, prog_bar=True, logger=True)\n",
        "        return loss\n",
        "\n",
        "    @pl.utilities.rank_zero_only\n",
        "    def on_save_checkpoint(self, checkpoint):\n",
        "        ckpt_dir = os.path.join('ckpt', f'{self.trainer.global_step:06d}')\n",
        "        self.student.save_pretrained(ckpt_dir)\n",
        "        self.tokenizer.save_pretrained(ckpt_dir)"
      ],
      "metadata": {
        "id": "-U1mPWvKGIMW"
      },
      "execution_count": 6,
      "outputs": []
    },
    {
      "cell_type": "markdown",
      "source": [
        "## 4. Distillation"
      ],
      "metadata": {
        "id": "mgQlhS4pOrzo"
      }
    },
    {
      "cell_type": "code",
      "source": [
        "data_module = DataModule(**config.data)"
      ],
      "metadata": {
        "id": "lckB866TE7OT"
      },
      "execution_count": 7,
      "outputs": []
    },
    {
      "cell_type": "code",
      "source": [
        "model = Model(**config)"
      ],
      "metadata": {
        "colab": {
          "base_uri": "https://localhost:8080/"
        },
        "id": "qcxJ3HbfFC2c",
        "outputId": "154a82e0-13e6-4f27-d6e2-ddc57bff0427"
      },
      "execution_count": 8,
      "outputs": [
        {
          "output_type": "stream",
          "name": "stderr",
          "text": [
            "Some weights of the model checkpoint at klue/bert-base were not used when initializing BertForMaskedLM: ['cls.seq_relationship.bias', 'cls.seq_relationship.weight']\n",
            "- This IS expected if you are initializing BertForMaskedLM from the checkpoint of a model trained on another task or with another architecture (e.g. initializing a BertForSequenceClassification model from a BertForPreTraining model).\n",
            "- This IS NOT expected if you are initializing BertForMaskedLM from the checkpoint of a model that you expect to be exactly identical (initializing a BertForSequenceClassification model from a BertForSequenceClassification model).\n"
          ]
        }
      ]
    },
    {
      "cell_type": "code",
      "source": [
        "logger = pl.loggers.WandbLogger(\n",
        "    project = 'paper',\n",
        "    log_model = False,\n",
        "    reinit = True,\n",
        ")\n",
        "\n",
        "logger.watch(model, log='gradients')"
      ],
      "metadata": {
        "colab": {
          "base_uri": "https://localhost:8080/",
          "height": 104
        },
        "id": "w7ixzEYbXCX0",
        "outputId": "308c1ede-38f8-49f6-9289-c6a12abe1ae4"
      },
      "execution_count": 9,
      "outputs": [
        {
          "output_type": "stream",
          "name": "stderr",
          "text": [
            "\u001b[34m\u001b[1mwandb\u001b[0m: Currently logged in as: \u001b[33mrespect5716\u001b[0m (use `wandb login --relogin` to force relogin)\n"
          ]
        },
        {
          "output_type": "display_data",
          "data": {
            "text/plain": [
              "<IPython.core.display.HTML object>"
            ],
            "text/html": [
              "Tracking run with wandb version 0.12.11"
            ]
          },
          "metadata": {}
        },
        {
          "output_type": "display_data",
          "data": {
            "text/plain": [
              "<IPython.core.display.HTML object>"
            ],
            "text/html": [
              "Run data is saved locally in <code>/content/wandb/run-20220320_075309-210c53y4</code>"
            ]
          },
          "metadata": {}
        },
        {
          "output_type": "display_data",
          "data": {
            "text/plain": [
              "<IPython.core.display.HTML object>"
            ],
            "text/html": [
              "Syncing run <strong><a href=\"https://wandb.ai/respect5716/paper/runs/210c53y4\" target=\"_blank\">twilight-lake-39</a></strong> to <a href=\"https://wandb.ai/respect5716/paper\" target=\"_blank\">Weights & Biases</a> (<a href=\"https://wandb.me/run\" target=\"_blank\">docs</a>)<br/>"
            ]
          },
          "metadata": {}
        },
        {
          "output_type": "stream",
          "name": "stderr",
          "text": [
            "\u001b[34m\u001b[1mwandb\u001b[0m: logging graph, to disable use `wandb.watch(log_graph=False)`\n"
          ]
        }
      ]
    },
    {
      "cell_type": "code",
      "source": [
        "lr_callback = pl.callbacks.LearningRateMonitor(logging_interval='step')"
      ],
      "metadata": {
        "id": "i0TIuEa2Wb3P"
      },
      "execution_count": 10,
      "outputs": []
    },
    {
      "cell_type": "code",
      "source": [
        "trainer = pl.Trainer(    \n",
        "    logger = logger,\n",
        "    callbacks = [lr_callback],\n",
        "    resume_from_checkpoint = False,\n",
        "    **config.trainer\n",
        ")"
      ],
      "metadata": {
        "colab": {
          "base_uri": "https://localhost:8080/"
        },
        "id": "BmjhRuuVVIEj",
        "outputId": "98fc0f52-1ace-4a91-8057-feb75f470b24"
      },
      "execution_count": 11,
      "outputs": [
        {
          "output_type": "stream",
          "name": "stderr",
          "text": [
            "/usr/local/lib/python3.7/dist-packages/pytorch_lightning/trainer/connectors/checkpoint_connector.py:46: LightningDeprecationWarning: Setting `Trainer(resume_from_checkpoint=)` is deprecated in v1.5 and will be removed in v1.7. Please pass `Trainer.fit(ckpt_path=)` directly instead.\n",
            "  \"Setting `Trainer(resume_from_checkpoint=)` is deprecated in v1.5 and\"\n",
            "GPU available: True, used: True\n",
            "TPU available: False, using: 0 TPU cores\n",
            "IPU available: False, using: 0 IPUs\n"
          ]
        }
      ]
    },
    {
      "cell_type": "code",
      "source": [
        "data_module.setup()"
      ],
      "metadata": {
        "colab": {
          "base_uri": "https://localhost:8080/",
          "height": 104,
          "referenced_widgets": [
            "d9d3acdcfb9842a299bd6fca690dbc51",
            "cca9914479994ca48f60740c12b72771",
            "e2b1dad8198f453aacab6c32ca160341",
            "a4802bcf20c34c36b2b44151766f83b4",
            "93a9d95a043d4b3db426ef7d7bc3676f",
            "4a82a8b38a4442508f6525f6d2e8c2f0",
            "f661664057ca4f02bb7a470a71abe266",
            "9364e3495e0f4107962363ef0d325122",
            "8d391426fa91497585b67d18aff39406",
            "42c89ee3e96b4b62b77c4017ed036438",
            "e1858b3b65774cbe9c572bbcf40a3846"
          ]
        },
        "id": "FZiSm7a2O0kL",
        "outputId": "08b03e8f-9f5e-420b-e5de-aafba246507d"
      },
      "execution_count": 12,
      "outputs": [
        {
          "output_type": "stream",
          "name": "stderr",
          "text": [
            "Using custom data configuration default-a5f702edb7742337\n",
            "Reusing dataset text (/root/.cache/huggingface/datasets/text/default-a5f702edb7742337/0.0.0/4b86d314f7236db91f0a0f5cda32d4375445e64c5eda2692655dd99c2dac68e8)\n"
          ]
        },
        {
          "output_type": "display_data",
          "data": {
            "text/plain": [
              "  0%|          | 0/1 [00:00<?, ?it/s]"
            ],
            "application/vnd.jupyter.widget-view+json": {
              "version_major": 2,
              "version_minor": 0,
              "model_id": "d9d3acdcfb9842a299bd6fca690dbc51"
            }
          },
          "metadata": {}
        }
      ]
    },
    {
      "cell_type": "code",
      "source": [
        "trainer.fit(model, data_module)"
      ],
      "metadata": {
        "colab": {
          "base_uri": "https://localhost:8080/",
          "height": 399,
          "referenced_widgets": [
            "21f12d2202c5445fbd55b05b922aec5e",
            "82bb68bf264a4f768ce8aa2e997eee9d",
            "eb31827980a149f09428f58046dddf9b",
            "5971ab707f194cf79c0a091539d29f5b",
            "4cf47ede7b724ebfa178fc8710f5ff38",
            "3e195075819d45c38b7002bd9fa1c620",
            "b2bcb59709954b8b8d8ee09466d90d7c",
            "598b378196ab44c18b5f1af563032cd8",
            "13a9e73ee29946d088771ad5d4154df8",
            "7fef979dbc49404c8abdd38f08820cd9",
            "6de334d789d246c48741c62a51587144"
          ]
        },
        "id": "b8MahVFTOvAO",
        "outputId": "cc883449-8c24-48f7-99cf-18e9643dd20e"
      },
      "execution_count": 13,
      "outputs": [
        {
          "output_type": "stream",
          "name": "stderr",
          "text": [
            "/usr/local/lib/python3.7/dist-packages/pytorch_lightning/trainer/trainer.py:1906: LightningDeprecationWarning: `trainer.resume_from_checkpoint` is deprecated in v1.5 and will be removed in v1.7. Specify the fit checkpoint path with `trainer.fit(ckpt_path=)` instead.\n",
            "  \"`trainer.resume_from_checkpoint` is deprecated in v1.5 and will be removed in v1.7.\"\n",
            "/usr/local/lib/python3.7/dist-packages/pytorch_lightning/trainer/configuration_validator.py:120: UserWarning: You passed in a `val_dataloader` but have no `validation_step`. Skipping val loop.\n",
            "  rank_zero_warn(\"You passed in a `val_dataloader` but have no `validation_step`. Skipping val loop.\")\n",
            "/usr/local/lib/python3.7/dist-packages/pytorch_lightning/core/datamodule.py:470: LightningDeprecationWarning: DataModule.setup has already been called, so it will not be called again. In v1.6 this behavior will change to always call DataModule.setup.\n",
            "  f\"DataModule.{name} has already been called, so it will not be called again. \"\n",
            "LOCAL_RANK: 0 - CUDA_VISIBLE_DEVICES: [0]\n",
            "\n",
            "  | Name    | Type            | Params\n",
            "--------------------------------------------\n",
            "0 | teacher | BertForMaskedLM | 110 M \n",
            "1 | student | BertForMaskedLM | 25.4 M\n",
            "--------------------------------------------\n",
            "25.4 M    Trainable params\n",
            "110 M     Non-trainable params\n",
            "136 M     Total params\n",
            "544.137   Total estimated model params size (MB)\n"
          ]
        },
        {
          "output_type": "display_data",
          "data": {
            "text/plain": [
              "Training: 0it [00:00, ?it/s]"
            ],
            "application/vnd.jupyter.widget-view+json": {
              "version_major": 2,
              "version_minor": 0,
              "model_id": "21f12d2202c5445fbd55b05b922aec5e"
            }
          },
          "metadata": {}
        },
        {
          "output_type": "stream",
          "name": "stderr",
          "text": [
            "/usr/local/lib/python3.7/dist-packages/pytorch_lightning/trainer/trainer.py:688: UserWarning: Detected KeyboardInterrupt, attempting graceful shutdown...\n",
            "  rank_zero_warn(\"Detected KeyboardInterrupt, attempting graceful shutdown...\")\n"
          ]
        }
      ]
    },
    {
      "cell_type": "code",
      "source": [
        "model.student.save_pretrained('transformers')\n",
        "model.tokenizer.save_pretrained('transformers')"
      ],
      "metadata": {
        "colab": {
          "base_uri": "https://localhost:8080/"
        },
        "id": "D5ep_ADuYH8k",
        "outputId": "eb595af7-5377-4d1f-9acd-779f4a8e90e1"
      },
      "execution_count": 14,
      "outputs": [
        {
          "output_type": "execute_result",
          "data": {
            "text/plain": [
              "('transformers/tokenizer_config.json',\n",
              " 'transformers/special_tokens_map.json',\n",
              " 'transformers/vocab.txt',\n",
              " 'transformers/added_tokens.json',\n",
              " 'transformers/tokenizer.json')"
            ]
          },
          "metadata": {},
          "execution_count": 14
        }
      ]
    },
    {
      "cell_type": "markdown",
      "source": [
        "## 5. Donwstream"
      ],
      "metadata": {
        "id": "aAfd_H_GgoC0"
      }
    },
    {
      "cell_type": "code",
      "source": [
        "def set_example(example):\n",
        "    \"\"\"example -> text_a, text_b, label\n",
        "    \"\"\"\n",
        "    return {'text_a': example['premise'], 'text_b': example['hypothesis'], 'labels': example['label']}\n",
        "\n",
        "\n",
        "def convert_example_to_feature(example, tokenizer, max_length):\n",
        "    \"\"\"text_a, text_b, label -> input_ids, attention_mask, token_type_ids, label\n",
        "    \"\"\"\n",
        "    feature = tokenizer(\n",
        "        example['text_a'], example['text_b'], \n",
        "        max_length = max_length, \n",
        "        padding = 'max_length', \n",
        "        truncation = True\n",
        "    )\n",
        "    return feature"
      ],
      "metadata": {
        "id": "Xwzl9ubkk-9g"
      },
      "execution_count": 15,
      "outputs": []
    },
    {
      "cell_type": "code",
      "source": [
        "ckpt_dir = 'transformers'\n",
        "model = AutoModelForSequenceClassification.from_pretrained(ckpt_dir, num_labels=3)\n",
        "tokenizer = AutoTokenizer.from_pretrained(ckpt_dir)"
      ],
      "metadata": {
        "colab": {
          "base_uri": "https://localhost:8080/"
        },
        "id": "TUzWBQzLlEIN",
        "outputId": "932530ab-977e-44c2-eb0a-ca644116b06f"
      },
      "execution_count": 16,
      "outputs": [
        {
          "output_type": "stream",
          "name": "stderr",
          "text": [
            "Some weights of the model checkpoint at transformers were not used when initializing BertForSequenceClassification: ['upsampler.2.bias', 'cls.predictions.transform.LayerNorm.weight', 'cls.predictions.transform.dense.bias', 'upsampler.3.bias', 'upsampler.4.bias', 'cls.predictions.decoder.weight', 'upsampler.3.weight', 'upsampler.5.bias', 'cls.predictions.transform.dense.weight', 'upsampler.2.weight', 'upsampler.1.bias', 'cls.predictions.bias', 'upsampler.6.bias', 'upsampler.5.weight', 'upsampler.4.weight', 'upsampler.0.bias', 'upsampler.1.weight', 'cls.predictions.transform.LayerNorm.bias', 'upsampler.0.weight', 'cls.predictions.decoder.bias', 'upsampler.6.weight']\n",
            "- This IS expected if you are initializing BertForSequenceClassification from the checkpoint of a model trained on another task or with another architecture (e.g. initializing a BertForSequenceClassification model from a BertForPreTraining model).\n",
            "- This IS NOT expected if you are initializing BertForSequenceClassification from the checkpoint of a model that you expect to be exactly identical (initializing a BertForSequenceClassification model from a BertForSequenceClassification model).\n",
            "Some weights of BertForSequenceClassification were not initialized from the model checkpoint at transformers and are newly initialized: ['bert.pooler.dense.weight', 'bert.pooler.dense.bias', 'classifier.bias', 'classifier.weight']\n",
            "You should probably TRAIN this model on a down-stream task to be able to use it for predictions and inference.\n"
          ]
        }
      ]
    },
    {
      "cell_type": "code",
      "source": [
        "dataset = load_dataset('klue', 'nli')\n",
        "dataset = dataset.map(set_example)\n",
        "dataset = dataset.map(lambda example: convert_example_to_feature(example, tokenizer, 256))\n",
        "dataset.set_format(type='torch', columns=['input_ids', 'token_type_ids', 'attention_mask', 'labels'])"
      ],
      "metadata": {
        "colab": {
          "base_uri": "https://localhost:8080/",
          "height": 170,
          "referenced_widgets": [
            "404632724cca4d0db86d2a004273a50f",
            "d3c65318bc404fe79abe9273a758b9ef",
            "c0deda9be1244a489e994f5ecbfba469",
            "ad2f5134624a42548a7fbfcdeac28406",
            "da7a6b5611b6427ca0e338fe49b7dd98",
            "fb14ee18d1e54479a85cf0aaffca1ce1",
            "2ee1f9d9c7bc4baba8a9113004c86a2d",
            "3bb0625982e748039a3e447f7956b532",
            "a666b7988dbd456e9c9d39f6632e0829",
            "c2d95cda001c497fa934b19387fd46cb",
            "b7cc68e0fefb4e29b2952e39595a60c5",
            "7bf12e3cf37248e0a1e7b1839ba14b9a",
            "296e0ec63d554ec68cbda11b099f7306",
            "271866e501284a3490a1307b35bce069",
            "e19d8f4ce7d94c3397213a3acf2b4575",
            "ce7f83fe63484b6bb77eb7b3455295af",
            "33570ba0c967431a91ba49e69ca3bb5f",
            "1f13b8b15cc5486c9de9f2a1697ffb3b",
            "c02674fb5bdf4d26aa183482ccccc341",
            "d22ad1001db54e8dbce5ca8dc71b20e4",
            "8ff805945d8d43a9b98ab19b4913f259",
            "2c6e7302e7264c66a430ed2c02aadedd"
          ]
        },
        "id": "mn05U1VHgsDc",
        "outputId": "ec46d57b-d575-47c4-b6f3-ecfbdf976332"
      },
      "execution_count": 17,
      "outputs": [
        {
          "output_type": "stream",
          "name": "stderr",
          "text": [
            "Reusing dataset klue (/root/.cache/huggingface/datasets/klue/nli/1.0.0/e0fc3bc3de3eb03be2c92d72fd04a60ecc71903f821619cb28ca0e1e29e4233e)\n"
          ]
        },
        {
          "output_type": "display_data",
          "data": {
            "text/plain": [
              "  0%|          | 0/2 [00:00<?, ?it/s]"
            ],
            "application/vnd.jupyter.widget-view+json": {
              "version_major": 2,
              "version_minor": 0,
              "model_id": "404632724cca4d0db86d2a004273a50f"
            }
          },
          "metadata": {}
        },
        {
          "output_type": "stream",
          "name": "stderr",
          "text": [
            "Loading cached processed dataset at /root/.cache/huggingface/datasets/klue/nli/1.0.0/e0fc3bc3de3eb03be2c92d72fd04a60ecc71903f821619cb28ca0e1e29e4233e/cache-d887b1d0663cd4a2.arrow\n",
            "Loading cached processed dataset at /root/.cache/huggingface/datasets/klue/nli/1.0.0/e0fc3bc3de3eb03be2c92d72fd04a60ecc71903f821619cb28ca0e1e29e4233e/cache-11c31ebdcbd1555a.arrow\n",
            "Loading cached processed dataset at /root/.cache/huggingface/datasets/klue/nli/1.0.0/e0fc3bc3de3eb03be2c92d72fd04a60ecc71903f821619cb28ca0e1e29e4233e/cache-cd8b36c12f24e315.arrow\n"
          ]
        },
        {
          "output_type": "display_data",
          "data": {
            "text/plain": [
              "  0%|          | 0/3000 [00:00<?, ?ex/s]"
            ],
            "application/vnd.jupyter.widget-view+json": {
              "version_major": 2,
              "version_minor": 0,
              "model_id": "7bf12e3cf37248e0a1e7b1839ba14b9a"
            }
          },
          "metadata": {}
        }
      ]
    },
    {
      "cell_type": "code",
      "source": [
        "training_args = TrainingArguments(\n",
        "    'training_args',\n",
        "    num_train_epochs = 3,\n",
        ")\n",
        "\n",
        "trainer = Trainer(\n",
        "    model = model,\n",
        "    args = training_args,\n",
        "    train_dataset = dataset['train'],\n",
        "    eval_dataset = dataset['validation'],\n",
        ")"
      ],
      "metadata": {
        "id": "HGouOMvXsP_D"
      },
      "execution_count": 18,
      "outputs": []
    },
    {
      "cell_type": "code",
      "source": [
        "trainer.train()"
      ],
      "metadata": {
        "colab": {
          "base_uri": "https://localhost:8080/",
          "height": 1000
        },
        "id": "a94A6LppsT3a",
        "outputId": "bb0c9043-5b3f-4456-de5a-7db3e9a8bfb9"
      },
      "execution_count": 19,
      "outputs": [
        {
          "output_type": "stream",
          "name": "stderr",
          "text": [
            "The following columns in the training set  don't have a corresponding argument in `BertForSequenceClassification.forward` and have been ignored: premise, hypothesis, text_b, guid, text_a, source. If premise, hypothesis, text_b, guid, text_a, source are not expected by `BertForSequenceClassification.forward`,  you can safely ignore this message.\n",
            "/usr/local/lib/python3.7/dist-packages/transformers/optimization.py:309: FutureWarning: This implementation of AdamW is deprecated and will be removed in a future version. Use the PyTorch implementation torch.optim.AdamW instead, or set `no_deprecation_warning=True` to disable this warning\n",
            "  FutureWarning,\n",
            "***** Running training *****\n",
            "  Num examples = 24998\n",
            "  Num Epochs = 3\n",
            "  Instantaneous batch size per device = 8\n",
            "  Total train batch size (w. parallel, distributed & accumulation) = 8\n",
            "  Gradient Accumulation steps = 1\n",
            "  Total optimization steps = 9375\n",
            "Automatic Weights & Biases logging enabled, to disable set os.environ[\"WANDB_DISABLED\"] = \"true\"\n"
          ]
        },
        {
          "output_type": "display_data",
          "data": {
            "text/plain": [
              "<IPython.core.display.HTML object>"
            ],
            "text/html": [
              "\n",
              "    <div>\n",
              "      \n",
              "      <progress value='9375' max='9375' style='width:300px; height:20px; vertical-align: middle;'></progress>\n",
              "      [9375/9375 06:53, Epoch 3/3]\n",
              "    </div>\n",
              "    <table border=\"1\" class=\"dataframe\">\n",
              "  <thead>\n",
              " <tr style=\"text-align: left;\">\n",
              "      <th>Step</th>\n",
              "      <th>Training Loss</th>\n",
              "    </tr>\n",
              "  </thead>\n",
              "  <tbody>\n",
              "    <tr>\n",
              "      <td>500</td>\n",
              "      <td>1.078100</td>\n",
              "    </tr>\n",
              "    <tr>\n",
              "      <td>1000</td>\n",
              "      <td>0.916000</td>\n",
              "    </tr>\n",
              "    <tr>\n",
              "      <td>1500</td>\n",
              "      <td>0.855300</td>\n",
              "    </tr>\n",
              "    <tr>\n",
              "      <td>2000</td>\n",
              "      <td>0.807100</td>\n",
              "    </tr>\n",
              "    <tr>\n",
              "      <td>2500</td>\n",
              "      <td>0.791600</td>\n",
              "    </tr>\n",
              "    <tr>\n",
              "      <td>3000</td>\n",
              "      <td>0.766800</td>\n",
              "    </tr>\n",
              "    <tr>\n",
              "      <td>3500</td>\n",
              "      <td>0.677900</td>\n",
              "    </tr>\n",
              "    <tr>\n",
              "      <td>4000</td>\n",
              "      <td>0.643500</td>\n",
              "    </tr>\n",
              "    <tr>\n",
              "      <td>4500</td>\n",
              "      <td>0.657200</td>\n",
              "    </tr>\n",
              "    <tr>\n",
              "      <td>5000</td>\n",
              "      <td>0.627900</td>\n",
              "    </tr>\n",
              "    <tr>\n",
              "      <td>5500</td>\n",
              "      <td>0.651900</td>\n",
              "    </tr>\n",
              "    <tr>\n",
              "      <td>6000</td>\n",
              "      <td>0.603900</td>\n",
              "    </tr>\n",
              "    <tr>\n",
              "      <td>6500</td>\n",
              "      <td>0.600200</td>\n",
              "    </tr>\n",
              "    <tr>\n",
              "      <td>7000</td>\n",
              "      <td>0.495000</td>\n",
              "    </tr>\n",
              "    <tr>\n",
              "      <td>7500</td>\n",
              "      <td>0.470900</td>\n",
              "    </tr>\n",
              "    <tr>\n",
              "      <td>8000</td>\n",
              "      <td>0.516600</td>\n",
              "    </tr>\n",
              "    <tr>\n",
              "      <td>8500</td>\n",
              "      <td>0.510800</td>\n",
              "    </tr>\n",
              "    <tr>\n",
              "      <td>9000</td>\n",
              "      <td>0.503400</td>\n",
              "    </tr>\n",
              "  </tbody>\n",
              "</table><p>"
            ]
          },
          "metadata": {}
        },
        {
          "output_type": "stream",
          "name": "stderr",
          "text": [
            "Saving model checkpoint to training_args/checkpoint-500\n",
            "Configuration saved in training_args/checkpoint-500/config.json\n",
            "Model weights saved in training_args/checkpoint-500/pytorch_model.bin\n",
            "Saving model checkpoint to training_args/checkpoint-1000\n",
            "Configuration saved in training_args/checkpoint-1000/config.json\n",
            "Model weights saved in training_args/checkpoint-1000/pytorch_model.bin\n",
            "Saving model checkpoint to training_args/checkpoint-1500\n",
            "Configuration saved in training_args/checkpoint-1500/config.json\n",
            "Model weights saved in training_args/checkpoint-1500/pytorch_model.bin\n",
            "Saving model checkpoint to training_args/checkpoint-2000\n",
            "Configuration saved in training_args/checkpoint-2000/config.json\n",
            "Model weights saved in training_args/checkpoint-2000/pytorch_model.bin\n",
            "Saving model checkpoint to training_args/checkpoint-2500\n",
            "Configuration saved in training_args/checkpoint-2500/config.json\n",
            "Model weights saved in training_args/checkpoint-2500/pytorch_model.bin\n",
            "Saving model checkpoint to training_args/checkpoint-3000\n",
            "Configuration saved in training_args/checkpoint-3000/config.json\n",
            "Model weights saved in training_args/checkpoint-3000/pytorch_model.bin\n",
            "Saving model checkpoint to training_args/checkpoint-3500\n",
            "Configuration saved in training_args/checkpoint-3500/config.json\n",
            "Model weights saved in training_args/checkpoint-3500/pytorch_model.bin\n",
            "Saving model checkpoint to training_args/checkpoint-4000\n",
            "Configuration saved in training_args/checkpoint-4000/config.json\n",
            "Model weights saved in training_args/checkpoint-4000/pytorch_model.bin\n",
            "Saving model checkpoint to training_args/checkpoint-4500\n",
            "Configuration saved in training_args/checkpoint-4500/config.json\n",
            "Model weights saved in training_args/checkpoint-4500/pytorch_model.bin\n",
            "Saving model checkpoint to training_args/checkpoint-5000\n",
            "Configuration saved in training_args/checkpoint-5000/config.json\n",
            "Model weights saved in training_args/checkpoint-5000/pytorch_model.bin\n",
            "Saving model checkpoint to training_args/checkpoint-5500\n",
            "Configuration saved in training_args/checkpoint-5500/config.json\n",
            "Model weights saved in training_args/checkpoint-5500/pytorch_model.bin\n",
            "Saving model checkpoint to training_args/checkpoint-6000\n",
            "Configuration saved in training_args/checkpoint-6000/config.json\n",
            "Model weights saved in training_args/checkpoint-6000/pytorch_model.bin\n",
            "Saving model checkpoint to training_args/checkpoint-6500\n",
            "Configuration saved in training_args/checkpoint-6500/config.json\n",
            "Model weights saved in training_args/checkpoint-6500/pytorch_model.bin\n",
            "Saving model checkpoint to training_args/checkpoint-7000\n",
            "Configuration saved in training_args/checkpoint-7000/config.json\n",
            "Model weights saved in training_args/checkpoint-7000/pytorch_model.bin\n",
            "Saving model checkpoint to training_args/checkpoint-7500\n",
            "Configuration saved in training_args/checkpoint-7500/config.json\n",
            "Model weights saved in training_args/checkpoint-7500/pytorch_model.bin\n",
            "Saving model checkpoint to training_args/checkpoint-8000\n",
            "Configuration saved in training_args/checkpoint-8000/config.json\n",
            "Model weights saved in training_args/checkpoint-8000/pytorch_model.bin\n",
            "Saving model checkpoint to training_args/checkpoint-8500\n",
            "Configuration saved in training_args/checkpoint-8500/config.json\n",
            "Model weights saved in training_args/checkpoint-8500/pytorch_model.bin\n",
            "Saving model checkpoint to training_args/checkpoint-9000\n",
            "Configuration saved in training_args/checkpoint-9000/config.json\n",
            "Model weights saved in training_args/checkpoint-9000/pytorch_model.bin\n",
            "\n",
            "\n",
            "Training completed. Do not forget to share your model on huggingface.co/models =)\n",
            "\n",
            "\n"
          ]
        },
        {
          "output_type": "execute_result",
          "data": {
            "text/plain": [
              "TrainOutput(global_step=9375, training_loss=0.6687557552083333, metrics={'train_runtime': 414.0877, 'train_samples_per_second': 181.107, 'train_steps_per_second': 22.64, 'total_flos': 1243662713422848.0, 'train_loss': 0.6687557552083333, 'epoch': 3.0})"
            ]
          },
          "metadata": {},
          "execution_count": 19
        }
      ]
    },
    {
      "cell_type": "code",
      "source": [
        "loader = torch.utils.data.DataLoader(dataset['validation'], batch_size=8, shuffle=False)\n",
        "\n",
        "correct = []\n",
        "for batch in tqdm(loader):\n",
        "    batch = {k:v.cuda() for k, v in batch.items()}\n",
        "    outputs = model(**batch)\n",
        "    preds = outputs.logits.argmax(dim=1)\n",
        "    _corrct = (batch['labels'] == preds).cpu()\n",
        "    correct.append(_corrct)\n",
        "\n",
        "acc = torch.cat(correct).float().mean() * 100\n",
        "print(f'ACC: {acc:.2f}')"
      ],
      "metadata": {
        "colab": {
          "base_uri": "https://localhost:8080/",
          "height": 66,
          "referenced_widgets": [
            "15ed76dbcc104b3bb758017b2805ef6b",
            "5871d9c459464e32b4bae6324236053e",
            "efaa495881d2408c87bb0a70836bfb70",
            "99407d189d2f4b3f987473c9e411dd2c",
            "8d94a2d08a48449e988a8521f9968d54",
            "1071e4da58204f4292fff1f3e2d21f52",
            "3df337a74b5749e7b1f78a2ae6aaa989",
            "a9241ed3f60d44719ac1133a32bd4b1f",
            "5d6d5e1033804b6fb12e0ea23d8b1872",
            "e1cc4aafe8464391a1524e32092897f2",
            "3127f1c4022241ac8cd75cfa11729253"
          ]
        },
        "id": "42nUPbYfrYSU",
        "outputId": "4439ed32-f9ba-47f8-8775-f6dae4a58936"
      },
      "execution_count": 20,
      "outputs": [
        {
          "output_type": "display_data",
          "data": {
            "text/plain": [
              "  0%|          | 0/375 [00:00<?, ?it/s]"
            ],
            "application/vnd.jupyter.widget-view+json": {
              "version_major": 2,
              "version_minor": 0,
              "model_id": "15ed76dbcc104b3bb758017b2805ef6b"
            }
          },
          "metadata": {}
        },
        {
          "output_type": "stream",
          "name": "stdout",
          "text": [
            "ACC: 63.47\n"
          ]
        }
      ]
    },
    {
      "cell_type": "code",
      "source": [
        ""
      ],
      "metadata": {
        "id": "1hAJRqxmJON3"
      },
      "execution_count": null,
      "outputs": []
    }
  ]
}